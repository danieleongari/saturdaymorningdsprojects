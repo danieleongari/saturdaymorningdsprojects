{
 "cells": [
  {
   "attachments": {},
   "cell_type": "markdown",
   "id": "83e4d96d-2352-4ccd-bf0a-b06452d9b833",
   "metadata": {},
   "source": [
    "# Analysing Damodaran's S&P500 analysis\n",
    "\n",
    "AIM: check if Damodaran's analysis suggest it is an appropriate time to invest in the S&P500\n",
    "\n",
    "Aswart Damodaran ([website](https://pages.stern.nyu.edu/~adamodar/New_Home_Page/home.htm)) is a SternU professor.\n",
    "I watched most of his teeaching materials, including his full valuation class.\n",
    "He is very analytical in the way he dissects the components that contribute to the value of a company.\n",
    "Similarly, and this is relevant to this notebook, he decomposes the value of stock expected returns, using the S&P proxy.\n",
    "\n",
    "Basically, the expected stock return is decomposed into:\n",
    "- RFR (Risk Free Rate), proxied as the 10Y US Treasury yield that is causally related to the expected USD inflation and therefore also the future stability of United States\n",
    "- Implied ERP (Equity Risk Premium), which is computed from the current S&P500 price and the expected future earnings. It captures the willingnes of investors to risk over equities to have higher return at the price of possible drawdowns.\n",
    "\n",
    "He updates this analysis every first day of the month.\n",
    "\n",
    "Note that this analysis is US-centric, but considering that US is currently 55% of the world market cap (FTSE All World Index, May 2023), and geopolitically the driver of the open-market economy, it is fair to focus on it, also considering the larger availability of data.\n"
   ]
  },
  {
   "cell_type": "code",
   "execution_count": 1,
   "id": "c09e2008",
   "metadata": {},
   "outputs": [],
   "source": [
    "import pandas as pd # Note: needs xlrd and openpyxl to be installed to read excel files\n",
    "import plotly.express as px\n",
    "import plotly.graph_objects as go\n",
    "pd.set_option('plotting.backend', 'plotly')\n",
    "\n",
    "import ssl\n",
    "ssl._create_default_https_context = ssl._create_unverified_context # Needed to download data"
   ]
  },
  {
   "cell_type": "code",
   "execution_count": 2,
   "id": "5240b11b",
   "metadata": {},
   "outputs": [
    {
     "name": "stderr",
     "output_type": "stream",
     "text": [
      "/Users/danieleongari/opt/anaconda3/lib/python3.8/site-packages/openpyxl/worksheet/_reader.py:312: UserWarning: Unknown extension is not supported and will be removed\n",
      "  warn(msg)\n"
     ]
    }
   ],
   "source": [
    "# There are two source of data:\n",
    "# - yearly data, since 1960\n",
    "# - monthly data, since September 2008\n",
    "url_yearly = \"https://pages.stern.nyu.edu/~adamodar/pc/datasets/histimpl.xls\"\n",
    "url_monthly = \"https://pages.stern.nyu.edu/~adamodar/pc/implprem/ERPbymonth.xlsx\"\n",
    "\n",
    "LAST_YEAR = 2022 # Modify accordingly, to skip the part under the main table\n",
    "dfy = (\n",
    "    pd.read_excel(url_yearly, sheet_name=\"Historical Impl Premiums\", skiprows=6, nrows=LAST_YEAR-1959)\n",
    ")\n",
    "\n",
    "dfm = (\n",
    "    pd.read_excel(url_monthly, sheet_name=\"Historical ERP\")\n",
    ")"
   ]
  },
  {
   "cell_type": "code",
   "execution_count": 3,
   "id": "20804ffc",
   "metadata": {},
   "outputs": [
    {
     "data": {
      "text/plain": [
       "DatetimeIndex(['1970-01-01 00:00:00.000000120'], dtype='datetime64[ns]', freq=None)"
      ]
     },
     "execution_count": 3,
     "metadata": {},
     "output_type": "execute_result"
    }
   ],
   "source": [
    "pd.to_datetime([120])"
   ]
  },
  {
   "cell_type": "code",
   "execution_count": 4,
   "metadata": {},
   "outputs": [],
   "source": [
    "# Checkpoint to reload original data if I mess up\n",
    "dfm_orig, dfy_orig = dfm.copy(), dfy.copy()"
   ]
  },
  {
   "cell_type": "code",
   "execution_count": 5,
   "id": "2f6a0bd1",
   "metadata": {},
   "outputs": [
    {
     "data": {
      "text/html": [
       "<div>\n",
       "<style scoped>\n",
       "    .dataframe tbody tr th:only-of-type {\n",
       "        vertical-align: middle;\n",
       "    }\n",
       "\n",
       "    .dataframe tbody tr th {\n",
       "        vertical-align: top;\n",
       "    }\n",
       "\n",
       "    .dataframe thead th {\n",
       "        text-align: right;\n",
       "    }\n",
       "</style>\n",
       "<table border=\"1\" class=\"dataframe\">\n",
       "  <thead>\n",
       "    <tr style=\"text-align: right;\">\n",
       "      <th></th>\n",
       "      <th>Date</th>\n",
       "      <th>Earnings Yield</th>\n",
       "      <th>Dividend Yield</th>\n",
       "      <th>S&amp;P 500</th>\n",
       "      <th>Earnings*</th>\n",
       "      <th>Dividends*</th>\n",
       "      <th>Dividends + Buybacks</th>\n",
       "      <th>Change in Earnings</th>\n",
       "      <th>Change in Dividends</th>\n",
       "      <th>T.Bill Rate</th>\n",
       "      <th>T.Bond Rate</th>\n",
       "      <th>Bond-Bill</th>\n",
       "      <th>Smoothed Growth</th>\n",
       "      <th>Implied Premium (DDM)</th>\n",
       "      <th>Analyst Growth Estimate</th>\n",
       "      <th>Implied ERP (FCFE)</th>\n",
       "      <th>Implied Premium (FCFE with sustainable Payout)</th>\n",
       "      <th>ERP/Riskfree Rate</th>\n",
       "    </tr>\n",
       "  </thead>\n",
       "  <tbody>\n",
       "    <tr>\n",
       "      <th>0</th>\n",
       "      <td>1961-01-01</td>\n",
       "      <td>0.053400</td>\n",
       "      <td>0.034100</td>\n",
       "      <td>58.11</td>\n",
       "      <td>3.103074</td>\n",
       "      <td>1.981551</td>\n",
       "      <td>NaN</td>\n",
       "      <td>NaN</td>\n",
       "      <td>NaN</td>\n",
       "      <td>0.0266</td>\n",
       "      <td>0.0276</td>\n",
       "      <td>0.0010</td>\n",
       "      <td>0.024484</td>\n",
       "      <td>NaN</td>\n",
       "      <td>NaN</td>\n",
       "      <td>NaN</td>\n",
       "      <td>NaN</td>\n",
       "      <td>NaN</td>\n",
       "    </tr>\n",
       "    <tr>\n",
       "      <th>1</th>\n",
       "      <td>1962-01-01</td>\n",
       "      <td>0.047100</td>\n",
       "      <td>0.028500</td>\n",
       "      <td>71.55</td>\n",
       "      <td>3.370005</td>\n",
       "      <td>2.039175</td>\n",
       "      <td>NaN</td>\n",
       "      <td>0.086021</td>\n",
       "      <td>0.029080</td>\n",
       "      <td>0.0213</td>\n",
       "      <td>0.0235</td>\n",
       "      <td>0.0022</td>\n",
       "      <td>0.024051</td>\n",
       "      <td>0.0292</td>\n",
       "      <td>NaN</td>\n",
       "      <td>0.0292</td>\n",
       "      <td>NaN</td>\n",
       "      <td>1.242553</td>\n",
       "    </tr>\n",
       "    <tr>\n",
       "      <th>2</th>\n",
       "      <td>1963-01-01</td>\n",
       "      <td>0.058100</td>\n",
       "      <td>0.034000</td>\n",
       "      <td>63.10</td>\n",
       "      <td>3.666110</td>\n",
       "      <td>2.145400</td>\n",
       "      <td>NaN</td>\n",
       "      <td>0.087865</td>\n",
       "      <td>0.052092</td>\n",
       "      <td>0.0273</td>\n",
       "      <td>0.0385</td>\n",
       "      <td>0.0112</td>\n",
       "      <td>0.040496</td>\n",
       "      <td>0.0356</td>\n",
       "      <td>NaN</td>\n",
       "      <td>0.0356</td>\n",
       "      <td>NaN</td>\n",
       "      <td>0.924675</td>\n",
       "    </tr>\n",
       "    <tr>\n",
       "      <th>3</th>\n",
       "      <td>1964-01-01</td>\n",
       "      <td>0.055100</td>\n",
       "      <td>0.031300</td>\n",
       "      <td>75.02</td>\n",
       "      <td>4.133602</td>\n",
       "      <td>2.348126</td>\n",
       "      <td>NaN</td>\n",
       "      <td>0.127517</td>\n",
       "      <td>0.094493</td>\n",
       "      <td>0.0312</td>\n",
       "      <td>0.0414</td>\n",
       "      <td>0.0102</td>\n",
       "      <td>0.049635</td>\n",
       "      <td>0.0338</td>\n",
       "      <td>NaN</td>\n",
       "      <td>0.0338</td>\n",
       "      <td>NaN</td>\n",
       "      <td>0.816425</td>\n",
       "    </tr>\n",
       "    <tr>\n",
       "      <th>4</th>\n",
       "      <td>1965-01-01</td>\n",
       "      <td>0.056200</td>\n",
       "      <td>0.030500</td>\n",
       "      <td>84.75</td>\n",
       "      <td>4.762950</td>\n",
       "      <td>2.584875</td>\n",
       "      <td>NaN</td>\n",
       "      <td>0.152252</td>\n",
       "      <td>0.100825</td>\n",
       "      <td>0.0354</td>\n",
       "      <td>0.0421</td>\n",
       "      <td>0.0067</td>\n",
       "      <td>0.051323</td>\n",
       "      <td>0.0331</td>\n",
       "      <td>NaN</td>\n",
       "      <td>0.0331</td>\n",
       "      <td>NaN</td>\n",
       "      <td>0.786223</td>\n",
       "    </tr>\n",
       "    <tr>\n",
       "      <th>...</th>\n",
       "      <td>...</td>\n",
       "      <td>...</td>\n",
       "      <td>...</td>\n",
       "      <td>...</td>\n",
       "      <td>...</td>\n",
       "      <td>...</td>\n",
       "      <td>...</td>\n",
       "      <td>...</td>\n",
       "      <td>...</td>\n",
       "      <td>...</td>\n",
       "      <td>...</td>\n",
       "      <td>...</td>\n",
       "      <td>...</td>\n",
       "      <td>...</td>\n",
       "      <td>...</td>\n",
       "      <td>...</td>\n",
       "      <td>...</td>\n",
       "      <td>...</td>\n",
       "    </tr>\n",
       "    <tr>\n",
       "      <th>58</th>\n",
       "      <td>2019-01-01</td>\n",
       "      <td>0.059174</td>\n",
       "      <td>0.021385</td>\n",
       "      <td>2506.85</td>\n",
       "      <td>148.340000</td>\n",
       "      <td>53.610000</td>\n",
       "      <td>136.65</td>\n",
       "      <td>0.187290</td>\n",
       "      <td>0.078021</td>\n",
       "      <td>0.0237</td>\n",
       "      <td>0.0268</td>\n",
       "      <td>0.0031</td>\n",
       "      <td>0.032445</td>\n",
       "      <td>0.0250</td>\n",
       "      <td>0.0412</td>\n",
       "      <td>0.0596</td>\n",
       "      <td>0.0555</td>\n",
       "      <td>2.223881</td>\n",
       "    </tr>\n",
       "    <tr>\n",
       "      <th>59</th>\n",
       "      <td>2020-01-01</td>\n",
       "      <td>0.050251</td>\n",
       "      <td>0.018200</td>\n",
       "      <td>3230.78</td>\n",
       "      <td>162.350000</td>\n",
       "      <td>58.800000</td>\n",
       "      <td>150.50</td>\n",
       "      <td>0.094445</td>\n",
       "      <td>0.096810</td>\n",
       "      <td>0.0155</td>\n",
       "      <td>0.0192</td>\n",
       "      <td>0.0037</td>\n",
       "      <td>0.025654</td>\n",
       "      <td>0.0203</td>\n",
       "      <td>0.0396</td>\n",
       "      <td>0.0520</td>\n",
       "      <td>0.0506</td>\n",
       "      <td>2.708333</td>\n",
       "    </tr>\n",
       "    <tr>\n",
       "      <th>60</th>\n",
       "      <td>2021-01-01</td>\n",
       "      <td>0.037209</td>\n",
       "      <td>0.015096</td>\n",
       "      <td>3756.07</td>\n",
       "      <td>139.760000</td>\n",
       "      <td>56.700000</td>\n",
       "      <td>127.78</td>\n",
       "      <td>-0.139144</td>\n",
       "      <td>-0.035714</td>\n",
       "      <td>0.0009</td>\n",
       "      <td>0.0093</td>\n",
       "      <td>0.0084</td>\n",
       "      <td>0.007352</td>\n",
       "      <td>0.0165</td>\n",
       "      <td>0.0542</td>\n",
       "      <td>0.0472</td>\n",
       "      <td>0.0494</td>\n",
       "      <td>5.075269</td>\n",
       "    </tr>\n",
       "    <tr>\n",
       "      <th>61</th>\n",
       "      <td>2022-01-01</td>\n",
       "      <td>0.043301</td>\n",
       "      <td>0.012421</td>\n",
       "      <td>4766.18</td>\n",
       "      <td>206.380000</td>\n",
       "      <td>59.200000</td>\n",
       "      <td>147.24</td>\n",
       "      <td>0.476674</td>\n",
       "      <td>0.044092</td>\n",
       "      <td>0.0006</td>\n",
       "      <td>0.0151</td>\n",
       "      <td>0.0145</td>\n",
       "      <td>0.017052</td>\n",
       "      <td>0.0172</td>\n",
       "      <td>0.0647</td>\n",
       "      <td>0.0424</td>\n",
       "      <td>0.0490</td>\n",
       "      <td>2.807947</td>\n",
       "    </tr>\n",
       "    <tr>\n",
       "      <th>62</th>\n",
       "      <td>2023-01-01</td>\n",
       "      <td>0.057166</td>\n",
       "      <td>0.017799</td>\n",
       "      <td>3839.50</td>\n",
       "      <td>219.490000</td>\n",
       "      <td>68.340000</td>\n",
       "      <td>181.99</td>\n",
       "      <td>0.063524</td>\n",
       "      <td>0.154392</td>\n",
       "      <td>0.0442</td>\n",
       "      <td>0.0388</td>\n",
       "      <td>-0.0054</td>\n",
       "      <td>0.055874</td>\n",
       "      <td>0.0216</td>\n",
       "      <td>0.0641</td>\n",
       "      <td>0.0594</td>\n",
       "      <td>0.0511</td>\n",
       "      <td>1.530928</td>\n",
       "    </tr>\n",
       "  </tbody>\n",
       "</table>\n",
       "<p>63 rows × 18 columns</p>\n",
       "</div>"
      ],
      "text/plain": [
       "         Date  Earnings Yield  Dividend Yield  S&P 500   Earnings*  \\\n",
       "0  1961-01-01        0.053400        0.034100    58.11    3.103074   \n",
       "1  1962-01-01        0.047100        0.028500    71.55    3.370005   \n",
       "2  1963-01-01        0.058100        0.034000    63.10    3.666110   \n",
       "3  1964-01-01        0.055100        0.031300    75.02    4.133602   \n",
       "4  1965-01-01        0.056200        0.030500    84.75    4.762950   \n",
       "..        ...             ...             ...      ...         ...   \n",
       "58 2019-01-01        0.059174        0.021385  2506.85  148.340000   \n",
       "59 2020-01-01        0.050251        0.018200  3230.78  162.350000   \n",
       "60 2021-01-01        0.037209        0.015096  3756.07  139.760000   \n",
       "61 2022-01-01        0.043301        0.012421  4766.18  206.380000   \n",
       "62 2023-01-01        0.057166        0.017799  3839.50  219.490000   \n",
       "\n",
       "    Dividends*  Dividends + Buybacks  Change in Earnings  Change in Dividends  \\\n",
       "0     1.981551                   NaN                 NaN                  NaN   \n",
       "1     2.039175                   NaN            0.086021             0.029080   \n",
       "2     2.145400                   NaN            0.087865             0.052092   \n",
       "3     2.348126                   NaN            0.127517             0.094493   \n",
       "4     2.584875                   NaN            0.152252             0.100825   \n",
       "..         ...                   ...                 ...                  ...   \n",
       "58   53.610000                136.65            0.187290             0.078021   \n",
       "59   58.800000                150.50            0.094445             0.096810   \n",
       "60   56.700000                127.78           -0.139144            -0.035714   \n",
       "61   59.200000                147.24            0.476674             0.044092   \n",
       "62   68.340000                181.99            0.063524             0.154392   \n",
       "\n",
       "    T.Bill Rate  T.Bond Rate  Bond-Bill  Smoothed Growth  \\\n",
       "0        0.0266       0.0276     0.0010         0.024484   \n",
       "1        0.0213       0.0235     0.0022         0.024051   \n",
       "2        0.0273       0.0385     0.0112         0.040496   \n",
       "3        0.0312       0.0414     0.0102         0.049635   \n",
       "4        0.0354       0.0421     0.0067         0.051323   \n",
       "..          ...          ...        ...              ...   \n",
       "58       0.0237       0.0268     0.0031         0.032445   \n",
       "59       0.0155       0.0192     0.0037         0.025654   \n",
       "60       0.0009       0.0093     0.0084         0.007352   \n",
       "61       0.0006       0.0151     0.0145         0.017052   \n",
       "62       0.0442       0.0388    -0.0054         0.055874   \n",
       "\n",
       "    Implied Premium (DDM)  Analyst Growth Estimate  Implied ERP (FCFE)  \\\n",
       "0                     NaN                      NaN                 NaN   \n",
       "1                  0.0292                      NaN              0.0292   \n",
       "2                  0.0356                      NaN              0.0356   \n",
       "3                  0.0338                      NaN              0.0338   \n",
       "4                  0.0331                      NaN              0.0331   \n",
       "..                    ...                      ...                 ...   \n",
       "58                 0.0250                   0.0412              0.0596   \n",
       "59                 0.0203                   0.0396              0.0520   \n",
       "60                 0.0165                   0.0542              0.0472   \n",
       "61                 0.0172                   0.0647              0.0424   \n",
       "62                 0.0216                   0.0641              0.0594   \n",
       "\n",
       "    Implied Premium (FCFE with sustainable Payout)  ERP/Riskfree Rate  \n",
       "0                                              NaN                NaN  \n",
       "1                                              NaN           1.242553  \n",
       "2                                              NaN           0.924675  \n",
       "3                                              NaN           0.816425  \n",
       "4                                              NaN           0.786223  \n",
       "..                                             ...                ...  \n",
       "58                                          0.0555           2.223881  \n",
       "59                                          0.0506           2.708333  \n",
       "60                                          0.0494           5.075269  \n",
       "61                                          0.0490           2.807947  \n",
       "62                                          0.0511           1.530928  \n",
       "\n",
       "[63 rows x 18 columns]"
      ]
     },
     "metadata": {},
     "output_type": "display_data"
    },
    {
     "data": {
      "text/html": [
       "<div>\n",
       "<style scoped>\n",
       "    .dataframe tbody tr th:only-of-type {\n",
       "        vertical-align: middle;\n",
       "    }\n",
       "\n",
       "    .dataframe tbody tr th {\n",
       "        vertical-align: top;\n",
       "    }\n",
       "\n",
       "    .dataframe thead th {\n",
       "        text-align: right;\n",
       "    }\n",
       "</style>\n",
       "<table border=\"1\" class=\"dataframe\">\n",
       "  <thead>\n",
       "    <tr style=\"text-align: right;\">\n",
       "      <th></th>\n",
       "      <th>Date</th>\n",
       "      <th>S&amp;P 500</th>\n",
       "      <th>T.Bond Rate</th>\n",
       "      <th>Ten-year average CF</th>\n",
       "      <th>CF (Trailing 12 month)</th>\n",
       "      <th>Normalized CF</th>\n",
       "      <th>Expected growth rate</th>\n",
       "      <th>ERP (T12 m with sustainable payout)</th>\n",
       "      <th>ERP (T12m)</th>\n",
       "      <th>ERP (Smoothed)</th>\n",
       "      <th>ERP (Normalized)</th>\n",
       "      <th>ERP (Net Cash Yield)</th>\n",
       "      <th>ERP (Covid Adjusted)</th>\n",
       "      <th>Expected Return</th>\n",
       "      <th>Notes</th>\n",
       "    </tr>\n",
       "  </thead>\n",
       "  <tbody>\n",
       "    <tr>\n",
       "      <th>0</th>\n",
       "      <td>2008-09-01</td>\n",
       "      <td>1252.00</td>\n",
       "      <td>0.0372</td>\n",
       "      <td>NaN</td>\n",
       "      <td>NaN</td>\n",
       "      <td>NaN</td>\n",
       "      <td>NaN</td>\n",
       "      <td>NaN</td>\n",
       "      <td>0.0422</td>\n",
       "      <td>NaN</td>\n",
       "      <td>NaN</td>\n",
       "      <td>NaN</td>\n",
       "      <td>NaN</td>\n",
       "      <td>0.0794</td>\n",
       "      <td>NaN</td>\n",
       "    </tr>\n",
       "    <tr>\n",
       "      <th>1</th>\n",
       "      <td>2008-10-01</td>\n",
       "      <td>1166.00</td>\n",
       "      <td>0.0383</td>\n",
       "      <td>NaN</td>\n",
       "      <td>NaN</td>\n",
       "      <td>NaN</td>\n",
       "      <td>NaN</td>\n",
       "      <td>NaN</td>\n",
       "      <td>0.0451</td>\n",
       "      <td>NaN</td>\n",
       "      <td>NaN</td>\n",
       "      <td>NaN</td>\n",
       "      <td>NaN</td>\n",
       "      <td>0.0834</td>\n",
       "      <td>NaN</td>\n",
       "    </tr>\n",
       "    <tr>\n",
       "      <th>2</th>\n",
       "      <td>2008-11-01</td>\n",
       "      <td>969.00</td>\n",
       "      <td>0.0395</td>\n",
       "      <td>NaN</td>\n",
       "      <td>NaN</td>\n",
       "      <td>NaN</td>\n",
       "      <td>NaN</td>\n",
       "      <td>NaN</td>\n",
       "      <td>0.0590</td>\n",
       "      <td>NaN</td>\n",
       "      <td>NaN</td>\n",
       "      <td>NaN</td>\n",
       "      <td>NaN</td>\n",
       "      <td>0.0985</td>\n",
       "      <td>NaN</td>\n",
       "    </tr>\n",
       "    <tr>\n",
       "      <th>3</th>\n",
       "      <td>2008-12-01</td>\n",
       "      <td>896.00</td>\n",
       "      <td>0.0292</td>\n",
       "      <td>NaN</td>\n",
       "      <td>NaN</td>\n",
       "      <td>NaN</td>\n",
       "      <td>NaN</td>\n",
       "      <td>NaN</td>\n",
       "      <td>0.0660</td>\n",
       "      <td>NaN</td>\n",
       "      <td>NaN</td>\n",
       "      <td>NaN</td>\n",
       "      <td>NaN</td>\n",
       "      <td>0.0952</td>\n",
       "      <td>NaN</td>\n",
       "    </tr>\n",
       "    <tr>\n",
       "      <th>4</th>\n",
       "      <td>2009-01-01</td>\n",
       "      <td>903.00</td>\n",
       "      <td>0.0221</td>\n",
       "      <td>NaN</td>\n",
       "      <td>52.58</td>\n",
       "      <td>NaN</td>\n",
       "      <td>0.0400</td>\n",
       "      <td>NaN</td>\n",
       "      <td>0.0643</td>\n",
       "      <td>NaN</td>\n",
       "      <td>NaN</td>\n",
       "      <td>NaN</td>\n",
       "      <td>NaN</td>\n",
       "      <td>0.0864</td>\n",
       "      <td>NaN</td>\n",
       "    </tr>\n",
       "    <tr>\n",
       "      <th>...</th>\n",
       "      <td>...</td>\n",
       "      <td>...</td>\n",
       "      <td>...</td>\n",
       "      <td>...</td>\n",
       "      <td>...</td>\n",
       "      <td>...</td>\n",
       "      <td>...</td>\n",
       "      <td>...</td>\n",
       "      <td>...</td>\n",
       "      <td>...</td>\n",
       "      <td>...</td>\n",
       "      <td>...</td>\n",
       "      <td>...</td>\n",
       "      <td>...</td>\n",
       "      <td>...</td>\n",
       "    </tr>\n",
       "    <tr>\n",
       "      <th>186</th>\n",
       "      <td>2024-03-01</td>\n",
       "      <td>5096.00</td>\n",
       "      <td>0.0427</td>\n",
       "      <td>218.02</td>\n",
       "      <td>164.25</td>\n",
       "      <td>153.14</td>\n",
       "      <td>0.0890</td>\n",
       "      <td>0.0418</td>\n",
       "      <td>0.0433</td>\n",
       "      <td>0.0572</td>\n",
       "      <td>0.0404</td>\n",
       "      <td>0.0414</td>\n",
       "      <td>NaN</td>\n",
       "      <td>0.0860</td>\n",
       "      <td>Updated growth rates</td>\n",
       "    </tr>\n",
       "    <tr>\n",
       "      <th>187</th>\n",
       "      <td>2024-04-01</td>\n",
       "      <td>5254.00</td>\n",
       "      <td>0.0421</td>\n",
       "      <td>233.26</td>\n",
       "      <td>164.79</td>\n",
       "      <td>159.33</td>\n",
       "      <td>0.0905</td>\n",
       "      <td>0.0413</td>\n",
       "      <td>0.0423</td>\n",
       "      <td>0.0595</td>\n",
       "      <td>0.0411</td>\n",
       "      <td>0.0403</td>\n",
       "      <td>NaN</td>\n",
       "      <td>0.0844</td>\n",
       "      <td>Updated cash flows, growth rates</td>\n",
       "    </tr>\n",
       "    <tr>\n",
       "      <th>188</th>\n",
       "      <td>2024-05-01</td>\n",
       "      <td>5036.00</td>\n",
       "      <td>0.0469</td>\n",
       "      <td>232.26</td>\n",
       "      <td>164.79</td>\n",
       "      <td>159.33</td>\n",
       "      <td>0.0939</td>\n",
       "      <td>0.0415</td>\n",
       "      <td>0.0440</td>\n",
       "      <td>0.0619</td>\n",
       "      <td>0.0426</td>\n",
       "      <td>0.0423</td>\n",
       "      <td>NaN</td>\n",
       "      <td>0.0909</td>\n",
       "      <td>Updated growth rates</td>\n",
       "    </tr>\n",
       "    <tr>\n",
       "      <th>189</th>\n",
       "      <td>2024-06-01</td>\n",
       "      <td>5277.51</td>\n",
       "      <td>0.0438</td>\n",
       "      <td>233.26</td>\n",
       "      <td>164.79</td>\n",
       "      <td>159.33</td>\n",
       "      <td>0.0953</td>\n",
       "      <td>0.0412</td>\n",
       "      <td>0.0427</td>\n",
       "      <td>0.0601</td>\n",
       "      <td>0.0413</td>\n",
       "      <td>0.0406</td>\n",
       "      <td>NaN</td>\n",
       "      <td>0.0865</td>\n",
       "      <td>Updated growth rates</td>\n",
       "    </tr>\n",
       "    <tr>\n",
       "      <th>190</th>\n",
       "      <td>2024-07-01</td>\n",
       "      <td>5460.48</td>\n",
       "      <td>0.0436</td>\n",
       "      <td>242.42</td>\n",
       "      <td>167.90</td>\n",
       "      <td>159.65</td>\n",
       "      <td>0.0947</td>\n",
       "      <td>0.0398</td>\n",
       "      <td>0.0412</td>\n",
       "      <td>0.0590</td>\n",
       "      <td>0.0392</td>\n",
       "      <td>0.0392</td>\n",
       "      <td>NaN</td>\n",
       "      <td>0.0852</td>\n",
       "      <td>NaN</td>\n",
       "    </tr>\n",
       "  </tbody>\n",
       "</table>\n",
       "<p>191 rows × 15 columns</p>\n",
       "</div>"
      ],
      "text/plain": [
       "          Date  S&P 500  T.Bond Rate  Ten-year average CF  \\\n",
       "0   2008-09-01  1252.00       0.0372                  NaN   \n",
       "1   2008-10-01  1166.00       0.0383                  NaN   \n",
       "2   2008-11-01   969.00       0.0395                  NaN   \n",
       "3   2008-12-01   896.00       0.0292                  NaN   \n",
       "4   2009-01-01   903.00       0.0221                  NaN   \n",
       "..         ...      ...          ...                  ...   \n",
       "186 2024-03-01  5096.00       0.0427               218.02   \n",
       "187 2024-04-01  5254.00       0.0421               233.26   \n",
       "188 2024-05-01  5036.00       0.0469               232.26   \n",
       "189 2024-06-01  5277.51       0.0438               233.26   \n",
       "190 2024-07-01  5460.48       0.0436               242.42   \n",
       "\n",
       "     CF (Trailing 12 month) Normalized CF  Expected growth rate  \\\n",
       "0                       NaN           NaN                   NaN   \n",
       "1                       NaN           NaN                   NaN   \n",
       "2                       NaN           NaN                   NaN   \n",
       "3                       NaN           NaN                   NaN   \n",
       "4                     52.58           NaN                0.0400   \n",
       "..                      ...           ...                   ...   \n",
       "186                  164.25        153.14                0.0890   \n",
       "187                  164.79        159.33                0.0905   \n",
       "188                  164.79        159.33                0.0939   \n",
       "189                  164.79        159.33                0.0953   \n",
       "190                  167.90        159.65                0.0947   \n",
       "\n",
       "     ERP (T12 m with sustainable payout)  ERP (T12m)  ERP (Smoothed)  \\\n",
       "0                                    NaN      0.0422             NaN   \n",
       "1                                    NaN      0.0451             NaN   \n",
       "2                                    NaN      0.0590             NaN   \n",
       "3                                    NaN      0.0660             NaN   \n",
       "4                                    NaN      0.0643             NaN   \n",
       "..                                   ...         ...             ...   \n",
       "186                               0.0418      0.0433          0.0572   \n",
       "187                               0.0413      0.0423          0.0595   \n",
       "188                               0.0415      0.0440          0.0619   \n",
       "189                               0.0412      0.0427          0.0601   \n",
       "190                               0.0398      0.0412          0.0590   \n",
       "\n",
       "     ERP (Normalized)  ERP (Net Cash Yield) ERP (Covid Adjusted)  \\\n",
       "0                 NaN                   NaN                  NaN   \n",
       "1                 NaN                   NaN                  NaN   \n",
       "2                 NaN                   NaN                  NaN   \n",
       "3                 NaN                   NaN                  NaN   \n",
       "4                 NaN                   NaN                  NaN   \n",
       "..                ...                   ...                  ...   \n",
       "186            0.0404                0.0414                  NaN   \n",
       "187            0.0411                0.0403                  NaN   \n",
       "188            0.0426                0.0423                  NaN   \n",
       "189            0.0413                0.0406                  NaN   \n",
       "190            0.0392                0.0392                  NaN   \n",
       "\n",
       "     Expected Return                             Notes  \n",
       "0             0.0794                               NaN  \n",
       "1             0.0834                               NaN  \n",
       "2             0.0985                               NaN  \n",
       "3             0.0952                               NaN  \n",
       "4             0.0864                               NaN  \n",
       "..               ...                               ...  \n",
       "186           0.0860              Updated growth rates  \n",
       "187           0.0844  Updated cash flows, growth rates  \n",
       "188           0.0909              Updated growth rates  \n",
       "189           0.0865              Updated growth rates  \n",
       "190           0.0852                               NaN  \n",
       "\n",
       "[191 rows x 15 columns]"
      ]
     },
     "metadata": {},
     "output_type": "display_data"
    }
   ],
   "source": [
    "# Clean data and make column names consistent\n",
    "dfy, dfm = dfy_orig.copy(), dfm_orig.copy()\n",
    "\n",
    "dfy = (\n",
    "    dfy\n",
    "    .rename(columns={\"Year\": \"Date\"})\n",
    "    .assign(Date=lambda x: pd.to_datetime((x[\"Date\"]+1).astype(str))) # Date refers to the end of the year, so I will add 1 to convert it to the first day of the next year\n",
    ")\n",
    "display(dfy)\n",
    "dfm = (\n",
    "    dfm\n",
    "    .rename(columns={\"Start of month\": \"Date\"})\n",
    "    .assign(Date=lambda x: pd.to_datetime(x[\"Date\"]))\n",
    ")\n",
    "display(dfm)\n"
   ]
  },
  {
   "cell_type": "code",
   "execution_count": 6,
   "id": "5b54e4ca",
   "metadata": {},
   "outputs": [
    {
     "data": {
      "application/vnd.plotly.v1+json": {
       "config": {
        "plotlyServerURL": "https://plot.ly"
       },
       "data": [
        {
         "mode": "lines+markers",
         "name": "Yearly Estimate",
         "type": "scatter",
         "x": [
          "1961-01-01T00:00:00",
          "1962-01-01T00:00:00",
          "1963-01-01T00:00:00",
          "1964-01-01T00:00:00",
          "1965-01-01T00:00:00",
          "1966-01-01T00:00:00",
          "1967-01-01T00:00:00",
          "1968-01-01T00:00:00",
          "1969-01-01T00:00:00",
          "1970-01-01T00:00:00",
          "1971-01-01T00:00:00",
          "1972-01-01T00:00:00",
          "1973-01-01T00:00:00",
          "1974-01-01T00:00:00",
          "1975-01-01T00:00:00",
          "1976-01-01T00:00:00",
          "1977-01-01T00:00:00",
          "1978-01-01T00:00:00",
          "1979-01-01T00:00:00",
          "1980-01-01T00:00:00",
          "1981-01-01T00:00:00",
          "1982-01-01T00:00:00",
          "1983-01-01T00:00:00",
          "1984-01-01T00:00:00",
          "1985-01-01T00:00:00",
          "1986-01-01T00:00:00",
          "1987-01-01T00:00:00",
          "1988-01-01T00:00:00",
          "1989-01-01T00:00:00",
          "1990-01-01T00:00:00",
          "1991-01-01T00:00:00",
          "1992-01-01T00:00:00",
          "1993-01-01T00:00:00",
          "1994-01-01T00:00:00",
          "1995-01-01T00:00:00",
          "1996-01-01T00:00:00",
          "1997-01-01T00:00:00",
          "1998-01-01T00:00:00",
          "1999-01-01T00:00:00",
          "2000-01-01T00:00:00",
          "2001-01-01T00:00:00",
          "2002-01-01T00:00:00",
          "2003-01-01T00:00:00",
          "2004-01-01T00:00:00",
          "2005-01-01T00:00:00",
          "2006-01-01T00:00:00",
          "2007-01-01T00:00:00",
          "2008-01-01T00:00:00",
          "2009-01-01T00:00:00",
          "2010-01-01T00:00:00",
          "2011-01-01T00:00:00",
          "2012-01-01T00:00:00",
          "2013-01-01T00:00:00",
          "2014-01-01T00:00:00",
          "2015-01-01T00:00:00",
          "2016-01-01T00:00:00",
          "2017-01-01T00:00:00",
          "2018-01-01T00:00:00",
          "2019-01-01T00:00:00",
          "2020-01-01T00:00:00",
          "2021-01-01T00:00:00",
          "2022-01-01T00:00:00",
          "2023-01-01T00:00:00"
         ],
         "y": [
          null,
          0.0292,
          0.0356,
          0.0338,
          0.0331,
          0.0332,
          0.0368,
          0.032,
          0.03,
          0.0374,
          0.0341,
          0.0309,
          0.0272,
          0.043,
          0.0559,
          0.0413,
          0.0455,
          0.0592,
          0.0572,
          0.0645,
          0.0503,
          0.0573,
          0.049,
          0.0431,
          0.0511,
          0.0384,
          0.0358,
          0.0399,
          0.0377,
          0.0351,
          0.0389,
          0.0348,
          0.0355,
          0.0317,
          0.0355,
          0.0329,
          0.032,
          0.0273,
          0.0226,
          0.0205,
          0.0287,
          0.0362,
          0.041,
          0.0369,
          0.0365,
          0.0408,
          0.0416,
          0.0437,
          0.0643,
          0.0436,
          0.052,
          0.0601,
          0.0578,
          0.0496,
          0.0578,
          0.0612,
          0.0569,
          0.0508,
          0.0596,
          0.052,
          0.0472,
          0.0424,
          0.0594
         ]
        },
        {
         "mode": "lines",
         "name": "Monthly  Estimate",
         "type": "scatter",
         "x": [
          "2008-09-01T00:00:00",
          "2008-10-01T00:00:00",
          "2008-11-01T00:00:00",
          "2008-12-01T00:00:00",
          "2009-01-01T00:00:00",
          "2009-02-01T00:00:00",
          "2009-03-01T00:00:00",
          "2009-04-01T00:00:00",
          "2009-05-01T00:00:00",
          "2009-06-01T00:00:00",
          "2009-07-01T00:00:00",
          "2009-08-01T00:00:00",
          "2009-09-01T00:00:00",
          "2009-10-01T00:00:00",
          "2009-11-01T00:00:00",
          "2009-12-01T00:00:00",
          "2010-01-01T00:00:00",
          "2010-02-01T00:00:00",
          "2010-03-01T00:00:00",
          "2010-04-01T00:00:00",
          "2010-05-01T00:00:00",
          "2010-06-01T00:00:00",
          "2010-07-01T00:00:00",
          "2010-08-01T00:00:00",
          "2010-09-01T00:00:00",
          "2010-10-01T00:00:00",
          "2010-11-01T00:00:00",
          "2010-12-01T00:00:00",
          "2011-01-01T00:00:00",
          "2011-02-01T00:00:00",
          "2011-03-01T00:00:00",
          "2011-04-01T00:00:00",
          "2011-05-01T00:00:00",
          "2011-06-01T00:00:00",
          "2011-07-01T00:00:00",
          "2011-08-01T00:00:00",
          "2011-09-01T00:00:00",
          "2011-10-01T00:00:00",
          "2011-11-01T00:00:00",
          "2011-12-01T00:00:00",
          "2012-01-01T00:00:00",
          "2012-02-01T00:00:00",
          "2012-03-01T00:00:00",
          "2012-04-01T00:00:00",
          "2012-05-01T00:00:00",
          "2012-06-01T00:00:00",
          "2012-07-01T00:00:00",
          "2012-08-01T00:00:00",
          "2012-09-01T00:00:00",
          "2012-10-01T00:00:00",
          "2012-11-01T00:00:00",
          "2012-12-01T00:00:00",
          "2013-01-01T00:00:00",
          "2013-02-01T00:00:00",
          "2013-03-01T00:00:00",
          "2013-04-01T00:00:00",
          "2013-05-01T00:00:00",
          "2013-06-01T00:00:00",
          "2013-07-01T00:00:00",
          "2013-08-01T00:00:00",
          "2013-09-01T00:00:00",
          "2013-10-01T00:00:00",
          "2013-11-01T00:00:00",
          "2013-12-01T00:00:00",
          "2014-01-01T00:00:00",
          "2014-02-01T00:00:00",
          "2014-03-01T00:00:00",
          "2014-04-01T00:00:00",
          "2014-05-01T00:00:00",
          "2014-06-01T00:00:00",
          "2014-07-01T00:00:00",
          "2014-08-01T00:00:00",
          "2014-09-01T00:00:00",
          "2014-10-01T00:00:00",
          "2014-11-01T00:00:00",
          "2014-12-01T00:00:00",
          "2015-01-01T00:00:00",
          "2015-02-01T00:00:00",
          "2015-03-01T00:00:00",
          "2015-04-01T00:00:00",
          "2015-05-01T00:00:00",
          "2015-06-01T00:00:00",
          "2015-07-01T00:00:00",
          "2015-08-01T00:00:00",
          "2015-09-01T00:00:00",
          "2015-10-01T00:00:00",
          "2015-11-01T00:00:00",
          "2015-12-01T00:00:00",
          "2016-01-01T00:00:00",
          "2016-02-01T00:00:00",
          "2016-03-01T00:00:00",
          "2016-04-01T00:00:00",
          "2016-05-01T00:00:00",
          "2016-06-01T00:00:00",
          "2016-07-01T00:00:00",
          "2016-08-01T00:00:00",
          "2016-09-01T00:00:00",
          "2016-10-01T00:00:00",
          "2016-11-01T00:00:00",
          "2016-12-01T00:00:00",
          "2017-01-01T00:00:00",
          "2017-02-01T00:00:00",
          "2017-03-01T00:00:00",
          "2017-04-01T00:00:00",
          "2017-05-01T00:00:00",
          "2017-06-01T00:00:00",
          "2017-07-01T00:00:00",
          "2017-08-01T00:00:00",
          "2017-09-01T00:00:00",
          "2017-10-01T00:00:00",
          "2017-11-01T00:00:00",
          "2017-12-01T00:00:00",
          "2018-01-01T00:00:00",
          "2018-02-01T00:00:00",
          "2018-03-01T00:00:00",
          "2018-04-01T00:00:00",
          "2018-05-01T00:00:00",
          "2018-06-01T00:00:00",
          "2018-07-01T00:00:00",
          "2018-08-01T00:00:00",
          "2018-09-01T00:00:00",
          "2018-10-01T00:00:00",
          "2018-11-01T00:00:00",
          "2018-12-01T00:00:00",
          "2019-01-01T00:00:00",
          "2019-02-01T00:00:00",
          "2019-03-01T00:00:00",
          "2019-04-01T00:00:00",
          "2019-05-01T00:00:00",
          "2019-06-01T00:00:00",
          "2019-07-01T00:00:00",
          "2019-08-01T00:00:00",
          "2019-09-01T00:00:00",
          "2019-10-01T00:00:00",
          "2019-11-01T00:00:00",
          "2019-12-01T00:00:00",
          "2020-01-01T00:00:00",
          "2020-02-01T00:00:00",
          "2020-03-01T00:00:00",
          "2020-04-01T00:00:00",
          "2020-05-01T00:00:00",
          "2020-06-01T00:00:00",
          "2020-07-01T00:00:00",
          "2020-08-01T00:00:00",
          "2020-09-01T00:00:00",
          "2020-10-01T00:00:00",
          "2020-11-01T00:00:00",
          "2020-12-01T00:00:00",
          "2021-01-01T00:00:00",
          "2021-02-01T00:00:00",
          "2021-03-01T00:00:00",
          "2021-04-01T00:00:00",
          "2021-05-01T00:00:00",
          "2021-06-01T00:00:00",
          "2021-07-01T00:00:00",
          "2021-08-01T00:00:00",
          "2021-09-01T00:00:00",
          "2021-10-01T00:00:00",
          "2021-11-01T00:00:00",
          "2021-12-01T00:00:00",
          "2022-01-01T00:00:00",
          "2022-02-01T00:00:00",
          "2022-03-01T00:00:00",
          "2022-04-01T00:00:00",
          "2022-05-01T00:00:00",
          "2022-06-01T00:00:00",
          "2022-07-01T00:00:00",
          "2022-08-01T00:00:00",
          "2022-09-01T00:00:00",
          "2022-10-01T00:00:00",
          "2022-11-01T00:00:00",
          "2022-12-01T00:00:00",
          "2023-01-01T00:00:00",
          "2023-02-01T00:00:00",
          "2023-03-01T00:00:00",
          "2023-04-01T00:00:00",
          "2023-05-01T00:00:00",
          "2023-06-01T00:00:00",
          "2023-07-01T00:00:00",
          "2023-08-01T00:00:00",
          "2023-09-01T00:00:00",
          "2023-10-01T00:00:00",
          "2023-11-01T00:00:00",
          "2023-12-01T00:00:00",
          "2024-01-01T00:00:00",
          "2024-02-01T00:00:00",
          "2024-03-01T00:00:00",
          "2024-04-01T00:00:00",
          "2024-05-01T00:00:00",
          "2024-06-01T00:00:00",
          "2024-07-01T00:00:00"
         ],
         "y": [
          0.0422,
          0.0451,
          0.059,
          0.066,
          0.0643,
          0.0687,
          0.0768,
          0.0701,
          0.0632,
          0.0594,
          0.0586,
          0.0546,
          0.053,
          0.0486,
          0.0497,
          0.0473,
          0.0436,
          0.0456,
          0.0444,
          0.0416,
          0.0454,
          0.0479,
          0.051,
          0.0478,
          0.051,
          0.0531,
          0.0511,
          0.0508,
          0.052,
          0.0507,
          0.049,
          0.053099999999999994,
          0.0516,
          0.0527,
          0.0572,
          0.0592,
          0.0639,
          0.0764,
          0.0649,
          0.0651,
          0.0732,
          0.0704,
          0.0673,
          0.0664,
          0.0676,
          0.0728,
          0.0659,
          0.0655,
          0.0641,
          0.0635,
          0.0644,
          0.0645,
          0.06,
          0.0567,
          0.0565,
          0.0568,
          0.056,
          0.0545,
          0.057300000000000004,
          0.0546,
          0.0562,
          0.0559,
          0.0536,
          0.0519,
          0.0496,
          0.051699999999999996,
          0.0496,
          0.0515,
          0.0512,
          0.0503,
          0.0538,
          0.0545,
          0.0528,
          0.0543,
          0.0532,
          0.0521,
          0.057800000000000004,
          0.0601,
          0.0567,
          0.058600000000000006,
          0.058,
          0.0574,
          0.0581,
          0.059,
          0.06280000000000001,
          0.0663,
          0.0612,
          0.0611,
          0.0612,
          0.0647,
          0.0651,
          0.062400000000000004,
          0.0622,
          0.061200000000000004,
          0.06269999999999999,
          0.0606,
          0.060599999999999994,
          0.0616,
          0.0626,
          0.0602,
          0.0569,
          0.0559,
          0.0539,
          0.0538,
          0.0534,
          0.0529,
          0.0513,
          0.0503,
          0.0504,
          0.0492,
          0.0481,
          0.0468,
          0.0508,
          0.0478,
          0.0496,
          0.0519,
          0.0516,
          0.0506,
          0.0537,
          0.0518,
          0.0504,
          0.0538,
          0.0576,
          0.0568,
          0.0596,
          0.0553,
          0.0536,
          0.0575,
          0.0562,
          0.0593,
          0.0567,
          0.0559,
          0.0575,
          0.0555,
          0.0544,
          0.0525,
          0.052,
          0.0524,
          0.0569,
          0.0616,
          0.0565,
          0.0545,
          0.0537,
          0.051,
          0.0474,
          0.0474,
          0.0485,
          0.0449,
          0.042,
          0.0476,
          0.0463,
          0.0414,
          0.0399,
          0.041,
          0.0396,
          0.0391,
          0.0421,
          0.0487,
          0.0458,
          0.0479,
          0.0424,
          0.0456,
          0.0475,
          0.0473,
          0.0514,
          0.0507,
          0.0601,
          0.0542,
          0.0545,
          0.0621,
          0.0548,
          0.0526,
          0.0594,
          0.0554,
          0.0558,
          0.0544,
          0.053,
          0.0525,
          0.05,
          0.0483,
          0.049,
          0.0484,
          0.0488,
          0.0453,
          0.046,
          0.045,
          0.0433,
          0.0423,
          0.044,
          0.0427,
          0.0412
         ]
        }
       ],
       "layout": {
        "template": {
         "data": {
          "bar": [
           {
            "error_x": {
             "color": "#2a3f5f"
            },
            "error_y": {
             "color": "#2a3f5f"
            },
            "marker": {
             "line": {
              "color": "#E5ECF6",
              "width": 0.5
             },
             "pattern": {
              "fillmode": "overlay",
              "size": 10,
              "solidity": 0.2
             }
            },
            "type": "bar"
           }
          ],
          "barpolar": [
           {
            "marker": {
             "line": {
              "color": "#E5ECF6",
              "width": 0.5
             },
             "pattern": {
              "fillmode": "overlay",
              "size": 10,
              "solidity": 0.2
             }
            },
            "type": "barpolar"
           }
          ],
          "carpet": [
           {
            "aaxis": {
             "endlinecolor": "#2a3f5f",
             "gridcolor": "white",
             "linecolor": "white",
             "minorgridcolor": "white",
             "startlinecolor": "#2a3f5f"
            },
            "baxis": {
             "endlinecolor": "#2a3f5f",
             "gridcolor": "white",
             "linecolor": "white",
             "minorgridcolor": "white",
             "startlinecolor": "#2a3f5f"
            },
            "type": "carpet"
           }
          ],
          "choropleth": [
           {
            "colorbar": {
             "outlinewidth": 0,
             "ticks": ""
            },
            "type": "choropleth"
           }
          ],
          "contour": [
           {
            "colorbar": {
             "outlinewidth": 0,
             "ticks": ""
            },
            "colorscale": [
             [
              0,
              "#0d0887"
             ],
             [
              0.1111111111111111,
              "#46039f"
             ],
             [
              0.2222222222222222,
              "#7201a8"
             ],
             [
              0.3333333333333333,
              "#9c179e"
             ],
             [
              0.4444444444444444,
              "#bd3786"
             ],
             [
              0.5555555555555556,
              "#d8576b"
             ],
             [
              0.6666666666666666,
              "#ed7953"
             ],
             [
              0.7777777777777778,
              "#fb9f3a"
             ],
             [
              0.8888888888888888,
              "#fdca26"
             ],
             [
              1,
              "#f0f921"
             ]
            ],
            "type": "contour"
           }
          ],
          "contourcarpet": [
           {
            "colorbar": {
             "outlinewidth": 0,
             "ticks": ""
            },
            "type": "contourcarpet"
           }
          ],
          "heatmap": [
           {
            "colorbar": {
             "outlinewidth": 0,
             "ticks": ""
            },
            "colorscale": [
             [
              0,
              "#0d0887"
             ],
             [
              0.1111111111111111,
              "#46039f"
             ],
             [
              0.2222222222222222,
              "#7201a8"
             ],
             [
              0.3333333333333333,
              "#9c179e"
             ],
             [
              0.4444444444444444,
              "#bd3786"
             ],
             [
              0.5555555555555556,
              "#d8576b"
             ],
             [
              0.6666666666666666,
              "#ed7953"
             ],
             [
              0.7777777777777778,
              "#fb9f3a"
             ],
             [
              0.8888888888888888,
              "#fdca26"
             ],
             [
              1,
              "#f0f921"
             ]
            ],
            "type": "heatmap"
           }
          ],
          "heatmapgl": [
           {
            "colorbar": {
             "outlinewidth": 0,
             "ticks": ""
            },
            "colorscale": [
             [
              0,
              "#0d0887"
             ],
             [
              0.1111111111111111,
              "#46039f"
             ],
             [
              0.2222222222222222,
              "#7201a8"
             ],
             [
              0.3333333333333333,
              "#9c179e"
             ],
             [
              0.4444444444444444,
              "#bd3786"
             ],
             [
              0.5555555555555556,
              "#d8576b"
             ],
             [
              0.6666666666666666,
              "#ed7953"
             ],
             [
              0.7777777777777778,
              "#fb9f3a"
             ],
             [
              0.8888888888888888,
              "#fdca26"
             ],
             [
              1,
              "#f0f921"
             ]
            ],
            "type": "heatmapgl"
           }
          ],
          "histogram": [
           {
            "marker": {
             "pattern": {
              "fillmode": "overlay",
              "size": 10,
              "solidity": 0.2
             }
            },
            "type": "histogram"
           }
          ],
          "histogram2d": [
           {
            "colorbar": {
             "outlinewidth": 0,
             "ticks": ""
            },
            "colorscale": [
             [
              0,
              "#0d0887"
             ],
             [
              0.1111111111111111,
              "#46039f"
             ],
             [
              0.2222222222222222,
              "#7201a8"
             ],
             [
              0.3333333333333333,
              "#9c179e"
             ],
             [
              0.4444444444444444,
              "#bd3786"
             ],
             [
              0.5555555555555556,
              "#d8576b"
             ],
             [
              0.6666666666666666,
              "#ed7953"
             ],
             [
              0.7777777777777778,
              "#fb9f3a"
             ],
             [
              0.8888888888888888,
              "#fdca26"
             ],
             [
              1,
              "#f0f921"
             ]
            ],
            "type": "histogram2d"
           }
          ],
          "histogram2dcontour": [
           {
            "colorbar": {
             "outlinewidth": 0,
             "ticks": ""
            },
            "colorscale": [
             [
              0,
              "#0d0887"
             ],
             [
              0.1111111111111111,
              "#46039f"
             ],
             [
              0.2222222222222222,
              "#7201a8"
             ],
             [
              0.3333333333333333,
              "#9c179e"
             ],
             [
              0.4444444444444444,
              "#bd3786"
             ],
             [
              0.5555555555555556,
              "#d8576b"
             ],
             [
              0.6666666666666666,
              "#ed7953"
             ],
             [
              0.7777777777777778,
              "#fb9f3a"
             ],
             [
              0.8888888888888888,
              "#fdca26"
             ],
             [
              1,
              "#f0f921"
             ]
            ],
            "type": "histogram2dcontour"
           }
          ],
          "mesh3d": [
           {
            "colorbar": {
             "outlinewidth": 0,
             "ticks": ""
            },
            "type": "mesh3d"
           }
          ],
          "parcoords": [
           {
            "line": {
             "colorbar": {
              "outlinewidth": 0,
              "ticks": ""
             }
            },
            "type": "parcoords"
           }
          ],
          "pie": [
           {
            "automargin": true,
            "type": "pie"
           }
          ],
          "scatter": [
           {
            "fillpattern": {
             "fillmode": "overlay",
             "size": 10,
             "solidity": 0.2
            },
            "type": "scatter"
           }
          ],
          "scatter3d": [
           {
            "line": {
             "colorbar": {
              "outlinewidth": 0,
              "ticks": ""
             }
            },
            "marker": {
             "colorbar": {
              "outlinewidth": 0,
              "ticks": ""
             }
            },
            "type": "scatter3d"
           }
          ],
          "scattercarpet": [
           {
            "marker": {
             "colorbar": {
              "outlinewidth": 0,
              "ticks": ""
             }
            },
            "type": "scattercarpet"
           }
          ],
          "scattergeo": [
           {
            "marker": {
             "colorbar": {
              "outlinewidth": 0,
              "ticks": ""
             }
            },
            "type": "scattergeo"
           }
          ],
          "scattergl": [
           {
            "marker": {
             "colorbar": {
              "outlinewidth": 0,
              "ticks": ""
             }
            },
            "type": "scattergl"
           }
          ],
          "scattermapbox": [
           {
            "marker": {
             "colorbar": {
              "outlinewidth": 0,
              "ticks": ""
             }
            },
            "type": "scattermapbox"
           }
          ],
          "scatterpolar": [
           {
            "marker": {
             "colorbar": {
              "outlinewidth": 0,
              "ticks": ""
             }
            },
            "type": "scatterpolar"
           }
          ],
          "scatterpolargl": [
           {
            "marker": {
             "colorbar": {
              "outlinewidth": 0,
              "ticks": ""
             }
            },
            "type": "scatterpolargl"
           }
          ],
          "scatterternary": [
           {
            "marker": {
             "colorbar": {
              "outlinewidth": 0,
              "ticks": ""
             }
            },
            "type": "scatterternary"
           }
          ],
          "surface": [
           {
            "colorbar": {
             "outlinewidth": 0,
             "ticks": ""
            },
            "colorscale": [
             [
              0,
              "#0d0887"
             ],
             [
              0.1111111111111111,
              "#46039f"
             ],
             [
              0.2222222222222222,
              "#7201a8"
             ],
             [
              0.3333333333333333,
              "#9c179e"
             ],
             [
              0.4444444444444444,
              "#bd3786"
             ],
             [
              0.5555555555555556,
              "#d8576b"
             ],
             [
              0.6666666666666666,
              "#ed7953"
             ],
             [
              0.7777777777777778,
              "#fb9f3a"
             ],
             [
              0.8888888888888888,
              "#fdca26"
             ],
             [
              1,
              "#f0f921"
             ]
            ],
            "type": "surface"
           }
          ],
          "table": [
           {
            "cells": {
             "fill": {
              "color": "#EBF0F8"
             },
             "line": {
              "color": "white"
             }
            },
            "header": {
             "fill": {
              "color": "#C8D4E3"
             },
             "line": {
              "color": "white"
             }
            },
            "type": "table"
           }
          ]
         },
         "layout": {
          "annotationdefaults": {
           "arrowcolor": "#2a3f5f",
           "arrowhead": 0,
           "arrowwidth": 1
          },
          "autotypenumbers": "strict",
          "coloraxis": {
           "colorbar": {
            "outlinewidth": 0,
            "ticks": ""
           }
          },
          "colorscale": {
           "diverging": [
            [
             0,
             "#8e0152"
            ],
            [
             0.1,
             "#c51b7d"
            ],
            [
             0.2,
             "#de77ae"
            ],
            [
             0.3,
             "#f1b6da"
            ],
            [
             0.4,
             "#fde0ef"
            ],
            [
             0.5,
             "#f7f7f7"
            ],
            [
             0.6,
             "#e6f5d0"
            ],
            [
             0.7,
             "#b8e186"
            ],
            [
             0.8,
             "#7fbc41"
            ],
            [
             0.9,
             "#4d9221"
            ],
            [
             1,
             "#276419"
            ]
           ],
           "sequential": [
            [
             0,
             "#0d0887"
            ],
            [
             0.1111111111111111,
             "#46039f"
            ],
            [
             0.2222222222222222,
             "#7201a8"
            ],
            [
             0.3333333333333333,
             "#9c179e"
            ],
            [
             0.4444444444444444,
             "#bd3786"
            ],
            [
             0.5555555555555556,
             "#d8576b"
            ],
            [
             0.6666666666666666,
             "#ed7953"
            ],
            [
             0.7777777777777778,
             "#fb9f3a"
            ],
            [
             0.8888888888888888,
             "#fdca26"
            ],
            [
             1,
             "#f0f921"
            ]
           ],
           "sequentialminus": [
            [
             0,
             "#0d0887"
            ],
            [
             0.1111111111111111,
             "#46039f"
            ],
            [
             0.2222222222222222,
             "#7201a8"
            ],
            [
             0.3333333333333333,
             "#9c179e"
            ],
            [
             0.4444444444444444,
             "#bd3786"
            ],
            [
             0.5555555555555556,
             "#d8576b"
            ],
            [
             0.6666666666666666,
             "#ed7953"
            ],
            [
             0.7777777777777778,
             "#fb9f3a"
            ],
            [
             0.8888888888888888,
             "#fdca26"
            ],
            [
             1,
             "#f0f921"
            ]
           ]
          },
          "colorway": [
           "#636efa",
           "#EF553B",
           "#00cc96",
           "#ab63fa",
           "#FFA15A",
           "#19d3f3",
           "#FF6692",
           "#B6E880",
           "#FF97FF",
           "#FECB52"
          ],
          "font": {
           "color": "#2a3f5f"
          },
          "geo": {
           "bgcolor": "white",
           "lakecolor": "white",
           "landcolor": "#E5ECF6",
           "showlakes": true,
           "showland": true,
           "subunitcolor": "white"
          },
          "hoverlabel": {
           "align": "left"
          },
          "hovermode": "closest",
          "mapbox": {
           "style": "light"
          },
          "paper_bgcolor": "white",
          "plot_bgcolor": "#E5ECF6",
          "polar": {
           "angularaxis": {
            "gridcolor": "white",
            "linecolor": "white",
            "ticks": ""
           },
           "bgcolor": "#E5ECF6",
           "radialaxis": {
            "gridcolor": "white",
            "linecolor": "white",
            "ticks": ""
           }
          },
          "scene": {
           "xaxis": {
            "backgroundcolor": "#E5ECF6",
            "gridcolor": "white",
            "gridwidth": 2,
            "linecolor": "white",
            "showbackground": true,
            "ticks": "",
            "zerolinecolor": "white"
           },
           "yaxis": {
            "backgroundcolor": "#E5ECF6",
            "gridcolor": "white",
            "gridwidth": 2,
            "linecolor": "white",
            "showbackground": true,
            "ticks": "",
            "zerolinecolor": "white"
           },
           "zaxis": {
            "backgroundcolor": "#E5ECF6",
            "gridcolor": "white",
            "gridwidth": 2,
            "linecolor": "white",
            "showbackground": true,
            "ticks": "",
            "zerolinecolor": "white"
           }
          },
          "shapedefaults": {
           "line": {
            "color": "#2a3f5f"
           }
          },
          "ternary": {
           "aaxis": {
            "gridcolor": "white",
            "linecolor": "white",
            "ticks": ""
           },
           "baxis": {
            "gridcolor": "white",
            "linecolor": "white",
            "ticks": ""
           },
           "bgcolor": "#E5ECF6",
           "caxis": {
            "gridcolor": "white",
            "linecolor": "white",
            "ticks": ""
           }
          },
          "title": {
           "x": 0.05
          },
          "xaxis": {
           "automargin": true,
           "gridcolor": "white",
           "linecolor": "white",
           "ticks": "",
           "title": {
            "standoff": 15
           },
           "zerolinecolor": "white",
           "zerolinewidth": 2
          },
          "yaxis": {
           "automargin": true,
           "gridcolor": "white",
           "linecolor": "white",
           "ticks": "",
           "title": {
            "standoff": 15
           },
           "zerolinecolor": "white",
           "zerolinewidth": 2
          }
         }
        },
        "xaxis": {
         "title": {
          "text": "Date of Estimation"
         }
        },
        "yaxis": {
         "tickformat": ",.0%",
         "title": {
          "text": "Implied ERP"
         },
         "type": "linear"
        }
       }
      }
     },
     "metadata": {},
     "output_type": "display_data"
    },
    {
     "data": {
      "application/vnd.plotly.v1+json": {
       "config": {
        "plotlyServerURL": "https://plot.ly"
       },
       "data": [
        {
         "mode": "lines+markers",
         "name": "RFR Yearly Estimate",
         "type": "scatter",
         "x": [
          "1961-01-01T00:00:00",
          "1962-01-01T00:00:00",
          "1963-01-01T00:00:00",
          "1964-01-01T00:00:00",
          "1965-01-01T00:00:00",
          "1966-01-01T00:00:00",
          "1967-01-01T00:00:00",
          "1968-01-01T00:00:00",
          "1969-01-01T00:00:00",
          "1970-01-01T00:00:00",
          "1971-01-01T00:00:00",
          "1972-01-01T00:00:00",
          "1973-01-01T00:00:00",
          "1974-01-01T00:00:00",
          "1975-01-01T00:00:00",
          "1976-01-01T00:00:00",
          "1977-01-01T00:00:00",
          "1978-01-01T00:00:00",
          "1979-01-01T00:00:00",
          "1980-01-01T00:00:00",
          "1981-01-01T00:00:00",
          "1982-01-01T00:00:00",
          "1983-01-01T00:00:00",
          "1984-01-01T00:00:00",
          "1985-01-01T00:00:00",
          "1986-01-01T00:00:00",
          "1987-01-01T00:00:00",
          "1988-01-01T00:00:00",
          "1989-01-01T00:00:00",
          "1990-01-01T00:00:00",
          "1991-01-01T00:00:00",
          "1992-01-01T00:00:00",
          "1993-01-01T00:00:00",
          "1994-01-01T00:00:00",
          "1995-01-01T00:00:00",
          "1996-01-01T00:00:00",
          "1997-01-01T00:00:00",
          "1998-01-01T00:00:00",
          "1999-01-01T00:00:00",
          "2000-01-01T00:00:00",
          "2001-01-01T00:00:00",
          "2002-01-01T00:00:00",
          "2003-01-01T00:00:00",
          "2004-01-01T00:00:00",
          "2005-01-01T00:00:00",
          "2006-01-01T00:00:00",
          "2007-01-01T00:00:00",
          "2008-01-01T00:00:00",
          "2009-01-01T00:00:00",
          "2010-01-01T00:00:00",
          "2011-01-01T00:00:00",
          "2012-01-01T00:00:00",
          "2013-01-01T00:00:00",
          "2014-01-01T00:00:00",
          "2015-01-01T00:00:00",
          "2016-01-01T00:00:00",
          "2017-01-01T00:00:00",
          "2018-01-01T00:00:00",
          "2019-01-01T00:00:00",
          "2020-01-01T00:00:00",
          "2021-01-01T00:00:00",
          "2022-01-01T00:00:00",
          "2023-01-01T00:00:00"
         ],
         "y": [
          0.0276,
          0.0235,
          0.0385,
          0.0414,
          0.0421,
          0.0465,
          0.0464,
          0.057,
          0.0616,
          0.0788,
          0.065,
          0.0589,
          0.0641,
          0.069,
          0.074,
          0.0776,
          0.0681,
          0.0778,
          0.0915,
          0.1033,
          0.1243,
          0.1398,
          0.1047,
          0.118,
          0.1151,
          0.0899,
          0.0722,
          0.0886,
          0.0914,
          0.0793,
          0.0807,
          0.067,
          0.0668,
          0.0579,
          0.0782,
          0.0557,
          0.0641,
          0.0574,
          0.0465,
          0.0644,
          0.0511,
          0.0505,
          0.0381,
          0.0425,
          0.0422,
          0.0439,
          0.047,
          0.0402,
          0.0221,
          0.0384,
          0.0329,
          0.0188,
          0.0176,
          0.0304,
          0.0217,
          0.0227,
          0.0245,
          0.0241,
          0.0268,
          0.0192,
          0.0093,
          0.0151,
          0.0388
         ]
        },
        {
         "mode": "lines",
         "name": "RFR Monthly Estimate",
         "type": "scatter",
         "x": [
          "2008-09-01T00:00:00",
          "2008-10-01T00:00:00",
          "2008-11-01T00:00:00",
          "2008-12-01T00:00:00",
          "2009-01-01T00:00:00",
          "2009-02-01T00:00:00",
          "2009-03-01T00:00:00",
          "2009-04-01T00:00:00",
          "2009-05-01T00:00:00",
          "2009-06-01T00:00:00",
          "2009-07-01T00:00:00",
          "2009-08-01T00:00:00",
          "2009-09-01T00:00:00",
          "2009-10-01T00:00:00",
          "2009-11-01T00:00:00",
          "2009-12-01T00:00:00",
          "2010-01-01T00:00:00",
          "2010-02-01T00:00:00",
          "2010-03-01T00:00:00",
          "2010-04-01T00:00:00",
          "2010-05-01T00:00:00",
          "2010-06-01T00:00:00",
          "2010-07-01T00:00:00",
          "2010-08-01T00:00:00",
          "2010-09-01T00:00:00",
          "2010-10-01T00:00:00",
          "2010-11-01T00:00:00",
          "2010-12-01T00:00:00",
          "2011-01-01T00:00:00",
          "2011-02-01T00:00:00",
          "2011-03-01T00:00:00",
          "2011-04-01T00:00:00",
          "2011-05-01T00:00:00",
          "2011-06-01T00:00:00",
          "2011-07-01T00:00:00",
          "2011-08-01T00:00:00",
          "2011-09-01T00:00:00",
          "2011-10-01T00:00:00",
          "2011-11-01T00:00:00",
          "2011-12-01T00:00:00",
          "2012-01-01T00:00:00",
          "2012-02-01T00:00:00",
          "2012-03-01T00:00:00",
          "2012-04-01T00:00:00",
          "2012-05-01T00:00:00",
          "2012-06-01T00:00:00",
          "2012-07-01T00:00:00",
          "2012-08-01T00:00:00",
          "2012-09-01T00:00:00",
          "2012-10-01T00:00:00",
          "2012-11-01T00:00:00",
          "2012-12-01T00:00:00",
          "2013-01-01T00:00:00",
          "2013-02-01T00:00:00",
          "2013-03-01T00:00:00",
          "2013-04-01T00:00:00",
          "2013-05-01T00:00:00",
          "2013-06-01T00:00:00",
          "2013-07-01T00:00:00",
          "2013-08-01T00:00:00",
          "2013-09-01T00:00:00",
          "2013-10-01T00:00:00",
          "2013-11-01T00:00:00",
          "2013-12-01T00:00:00",
          "2014-01-01T00:00:00",
          "2014-02-01T00:00:00",
          "2014-03-01T00:00:00",
          "2014-04-01T00:00:00",
          "2014-05-01T00:00:00",
          "2014-06-01T00:00:00",
          "2014-07-01T00:00:00",
          "2014-08-01T00:00:00",
          "2014-09-01T00:00:00",
          "2014-10-01T00:00:00",
          "2014-11-01T00:00:00",
          "2014-12-01T00:00:00",
          "2015-01-01T00:00:00",
          "2015-02-01T00:00:00",
          "2015-03-01T00:00:00",
          "2015-04-01T00:00:00",
          "2015-05-01T00:00:00",
          "2015-06-01T00:00:00",
          "2015-07-01T00:00:00",
          "2015-08-01T00:00:00",
          "2015-09-01T00:00:00",
          "2015-10-01T00:00:00",
          "2015-11-01T00:00:00",
          "2015-12-01T00:00:00",
          "2016-01-01T00:00:00",
          "2016-02-01T00:00:00",
          "2016-03-01T00:00:00",
          "2016-04-01T00:00:00",
          "2016-05-01T00:00:00",
          "2016-06-01T00:00:00",
          "2016-07-01T00:00:00",
          "2016-08-01T00:00:00",
          "2016-09-01T00:00:00",
          "2016-10-01T00:00:00",
          "2016-11-01T00:00:00",
          "2016-12-01T00:00:00",
          "2017-01-01T00:00:00",
          "2017-02-01T00:00:00",
          "2017-03-01T00:00:00",
          "2017-04-01T00:00:00",
          "2017-05-01T00:00:00",
          "2017-06-01T00:00:00",
          "2017-07-01T00:00:00",
          "2017-08-01T00:00:00",
          "2017-09-01T00:00:00",
          "2017-10-01T00:00:00",
          "2017-11-01T00:00:00",
          "2017-12-01T00:00:00",
          "2018-01-01T00:00:00",
          "2018-02-01T00:00:00",
          "2018-03-01T00:00:00",
          "2018-04-01T00:00:00",
          "2018-05-01T00:00:00",
          "2018-06-01T00:00:00",
          "2018-07-01T00:00:00",
          "2018-08-01T00:00:00",
          "2018-09-01T00:00:00",
          "2018-10-01T00:00:00",
          "2018-11-01T00:00:00",
          "2018-12-01T00:00:00",
          "2019-01-01T00:00:00",
          "2019-02-01T00:00:00",
          "2019-03-01T00:00:00",
          "2019-04-01T00:00:00",
          "2019-05-01T00:00:00",
          "2019-06-01T00:00:00",
          "2019-07-01T00:00:00",
          "2019-08-01T00:00:00",
          "2019-09-01T00:00:00",
          "2019-10-01T00:00:00",
          "2019-11-01T00:00:00",
          "2019-12-01T00:00:00",
          "2020-01-01T00:00:00",
          "2020-02-01T00:00:00",
          "2020-03-01T00:00:00",
          "2020-04-01T00:00:00",
          "2020-05-01T00:00:00",
          "2020-06-01T00:00:00",
          "2020-07-01T00:00:00",
          "2020-08-01T00:00:00",
          "2020-09-01T00:00:00",
          "2020-10-01T00:00:00",
          "2020-11-01T00:00:00",
          "2020-12-01T00:00:00",
          "2021-01-01T00:00:00",
          "2021-02-01T00:00:00",
          "2021-03-01T00:00:00",
          "2021-04-01T00:00:00",
          "2021-05-01T00:00:00",
          "2021-06-01T00:00:00",
          "2021-07-01T00:00:00",
          "2021-08-01T00:00:00",
          "2021-09-01T00:00:00",
          "2021-10-01T00:00:00",
          "2021-11-01T00:00:00",
          "2021-12-01T00:00:00",
          "2022-01-01T00:00:00",
          "2022-02-01T00:00:00",
          "2022-03-01T00:00:00",
          "2022-04-01T00:00:00",
          "2022-05-01T00:00:00",
          "2022-06-01T00:00:00",
          "2022-07-01T00:00:00",
          "2022-08-01T00:00:00",
          "2022-09-01T00:00:00",
          "2022-10-01T00:00:00",
          "2022-11-01T00:00:00",
          "2022-12-01T00:00:00",
          "2023-01-01T00:00:00",
          "2023-02-01T00:00:00",
          "2023-03-01T00:00:00",
          "2023-04-01T00:00:00",
          "2023-05-01T00:00:00",
          "2023-06-01T00:00:00",
          "2023-07-01T00:00:00",
          "2023-08-01T00:00:00",
          "2023-09-01T00:00:00",
          "2023-10-01T00:00:00",
          "2023-11-01T00:00:00",
          "2023-12-01T00:00:00",
          "2024-01-01T00:00:00",
          "2024-02-01T00:00:00",
          "2024-03-01T00:00:00",
          "2024-04-01T00:00:00",
          "2024-05-01T00:00:00",
          "2024-06-01T00:00:00",
          "2024-07-01T00:00:00"
         ],
         "y": [
          0.0372,
          0.0383,
          0.0395,
          0.0292,
          0.0221,
          0.0287,
          0.0302,
          0.0271,
          0.0316,
          0.0347,
          0.0353,
          0.0352,
          0.034,
          0.033,
          0.0339,
          0.0324,
          0.0384,
          0.0358,
          0.0361,
          0.0383,
          0.0365,
          0.033,
          0.0296,
          0.0291,
          0.0247,
          0.025099999999999997,
          0.026000000000000002,
          0.028,
          0.0329,
          0.0338,
          0.0342,
          0.0347,
          0.0329,
          0.030600000000000002,
          0.0317,
          0.027999999999999997,
          0.0223,
          0.0192,
          0.0205,
          0.0207,
          0.0187,
          0.0181,
          0.019799999999999998,
          0.022099999999999998,
          0.0192,
          0.0155,
          0.0165,
          0.0147,
          0.0155,
          0.0162,
          0.0175,
          0.0162,
          0.0176,
          0.02,
          0.0188,
          0.0185,
          0.0165,
          0.021400000000000002,
          0.024900000000000002,
          0.025699999999999997,
          0.0279,
          0.026099999999999998,
          0.0255,
          0.0275,
          0.0304,
          0.0265,
          0.026600000000000002,
          0.027200000000000002,
          0.0265,
          0.0248,
          0.0252,
          0.0256,
          0.0235,
          0.0249,
          0.023399999999999997,
          0.0217,
          0.0217,
          0.017,
          0.02,
          0.0193,
          0.020499999999999997,
          0.0213,
          0.0236,
          0.0218,
          0.0222,
          0.0206,
          0.0215,
          0.022099999999999998,
          0.0227,
          0.0192,
          0.0174,
          0.0177,
          0.0183,
          0.0183,
          0.0147,
          0.0145,
          0.0159,
          0.016,
          0.0184,
          0.0239,
          0.0245,
          0.0247,
          0.0239,
          0.0239,
          0.023,
          0.0221,
          0.023,
          0.023,
          0.0212,
          0.0233,
          0.0237,
          0.0242,
          0.0241,
          0.0274,
          0.0287,
          0.0274,
          0.0295,
          0.0287,
          0.0285,
          0.0296,
          0.0286,
          0.0307,
          0.0316,
          0.0299,
          0.0268,
          0.0263,
          0.0272,
          0.024,
          0.0251,
          0.0214,
          0.02,
          0.0202,
          0.015,
          0.0167,
          0.0168,
          0.0178,
          0.0192,
          0.0151,
          0.0113,
          0.0068,
          0.0064,
          0.0066,
          0.0066,
          0.0055,
          0.0072,
          0.0069,
          0.0088,
          0.0084,
          0.0093,
          0.0111,
          0.0143,
          0.0175,
          0.0163,
          0.0158,
          0.0147,
          0.0123,
          0.0131,
          0.0152,
          0.0156,
          0.0145,
          0.0151,
          0.0179,
          0.0183,
          0.0233,
          0.0289,
          0.0286,
          0.0302,
          0.0265,
          0.0319,
          0.0382,
          0.0405,
          0.0361,
          0.0388,
          0.0352,
          0.0392,
          0.0347,
          0.0342,
          0.0364,
          0.0381,
          0.0397,
          0.0411,
          0.0458,
          0.0493,
          0.0433,
          0.0388,
          0.0394,
          0.0427,
          0.0421,
          0.0469,
          0.0438,
          0.0436
         ]
        },
        {
         "mode": "lines+markers",
         "name": "RFR+ERP Yearly Estimate",
         "type": "scatter",
         "x": [
          "1961-01-01T00:00:00",
          "1962-01-01T00:00:00",
          "1963-01-01T00:00:00",
          "1964-01-01T00:00:00",
          "1965-01-01T00:00:00",
          "1966-01-01T00:00:00",
          "1967-01-01T00:00:00",
          "1968-01-01T00:00:00",
          "1969-01-01T00:00:00",
          "1970-01-01T00:00:00",
          "1971-01-01T00:00:00",
          "1972-01-01T00:00:00",
          "1973-01-01T00:00:00",
          "1974-01-01T00:00:00",
          "1975-01-01T00:00:00",
          "1976-01-01T00:00:00",
          "1977-01-01T00:00:00",
          "1978-01-01T00:00:00",
          "1979-01-01T00:00:00",
          "1980-01-01T00:00:00",
          "1981-01-01T00:00:00",
          "1982-01-01T00:00:00",
          "1983-01-01T00:00:00",
          "1984-01-01T00:00:00",
          "1985-01-01T00:00:00",
          "1986-01-01T00:00:00",
          "1987-01-01T00:00:00",
          "1988-01-01T00:00:00",
          "1989-01-01T00:00:00",
          "1990-01-01T00:00:00",
          "1991-01-01T00:00:00",
          "1992-01-01T00:00:00",
          "1993-01-01T00:00:00",
          "1994-01-01T00:00:00",
          "1995-01-01T00:00:00",
          "1996-01-01T00:00:00",
          "1997-01-01T00:00:00",
          "1998-01-01T00:00:00",
          "1999-01-01T00:00:00",
          "2000-01-01T00:00:00",
          "2001-01-01T00:00:00",
          "2002-01-01T00:00:00",
          "2003-01-01T00:00:00",
          "2004-01-01T00:00:00",
          "2005-01-01T00:00:00",
          "2006-01-01T00:00:00",
          "2007-01-01T00:00:00",
          "2008-01-01T00:00:00",
          "2009-01-01T00:00:00",
          "2010-01-01T00:00:00",
          "2011-01-01T00:00:00",
          "2012-01-01T00:00:00",
          "2013-01-01T00:00:00",
          "2014-01-01T00:00:00",
          "2015-01-01T00:00:00",
          "2016-01-01T00:00:00",
          "2017-01-01T00:00:00",
          "2018-01-01T00:00:00",
          "2019-01-01T00:00:00",
          "2020-01-01T00:00:00",
          "2021-01-01T00:00:00",
          "2022-01-01T00:00:00",
          "2023-01-01T00:00:00"
         ],
         "y": [
          null,
          0.0527,
          0.0741,
          0.07519999999999999,
          0.07519999999999999,
          0.0797,
          0.0832,
          0.089,
          0.0916,
          0.1162,
          0.0991,
          0.0898,
          0.0913,
          0.112,
          0.1299,
          0.1189,
          0.11359999999999999,
          0.137,
          0.1487,
          0.1678,
          0.17459999999999998,
          0.1971,
          0.1537,
          0.1611,
          0.1662,
          0.1283,
          0.108,
          0.1285,
          0.1291,
          0.1144,
          0.11959999999999998,
          0.1018,
          0.1023,
          0.0896,
          0.1137,
          0.0886,
          0.0961,
          0.0847,
          0.0691,
          0.0849,
          0.0798,
          0.0867,
          0.0791,
          0.0794,
          0.07869999999999999,
          0.0847,
          0.0886,
          0.0839,
          0.0864,
          0.08199999999999999,
          0.0849,
          0.0789,
          0.0754,
          0.08,
          0.0795,
          0.0839,
          0.0814,
          0.0749,
          0.0864,
          0.0712,
          0.056499999999999995,
          0.0575,
          0.09820000000000001
         ]
        },
        {
         "mode": "lines",
         "name": "RFR+ERP  Monthly Estimate",
         "type": "scatter",
         "x": [
          "2008-09-01T00:00:00",
          "2008-10-01T00:00:00",
          "2008-11-01T00:00:00",
          "2008-12-01T00:00:00",
          "2009-01-01T00:00:00",
          "2009-02-01T00:00:00",
          "2009-03-01T00:00:00",
          "2009-04-01T00:00:00",
          "2009-05-01T00:00:00",
          "2009-06-01T00:00:00",
          "2009-07-01T00:00:00",
          "2009-08-01T00:00:00",
          "2009-09-01T00:00:00",
          "2009-10-01T00:00:00",
          "2009-11-01T00:00:00",
          "2009-12-01T00:00:00",
          "2010-01-01T00:00:00",
          "2010-02-01T00:00:00",
          "2010-03-01T00:00:00",
          "2010-04-01T00:00:00",
          "2010-05-01T00:00:00",
          "2010-06-01T00:00:00",
          "2010-07-01T00:00:00",
          "2010-08-01T00:00:00",
          "2010-09-01T00:00:00",
          "2010-10-01T00:00:00",
          "2010-11-01T00:00:00",
          "2010-12-01T00:00:00",
          "2011-01-01T00:00:00",
          "2011-02-01T00:00:00",
          "2011-03-01T00:00:00",
          "2011-04-01T00:00:00",
          "2011-05-01T00:00:00",
          "2011-06-01T00:00:00",
          "2011-07-01T00:00:00",
          "2011-08-01T00:00:00",
          "2011-09-01T00:00:00",
          "2011-10-01T00:00:00",
          "2011-11-01T00:00:00",
          "2011-12-01T00:00:00",
          "2012-01-01T00:00:00",
          "2012-02-01T00:00:00",
          "2012-03-01T00:00:00",
          "2012-04-01T00:00:00",
          "2012-05-01T00:00:00",
          "2012-06-01T00:00:00",
          "2012-07-01T00:00:00",
          "2012-08-01T00:00:00",
          "2012-09-01T00:00:00",
          "2012-10-01T00:00:00",
          "2012-11-01T00:00:00",
          "2012-12-01T00:00:00",
          "2013-01-01T00:00:00",
          "2013-02-01T00:00:00",
          "2013-03-01T00:00:00",
          "2013-04-01T00:00:00",
          "2013-05-01T00:00:00",
          "2013-06-01T00:00:00",
          "2013-07-01T00:00:00",
          "2013-08-01T00:00:00",
          "2013-09-01T00:00:00",
          "2013-10-01T00:00:00",
          "2013-11-01T00:00:00",
          "2013-12-01T00:00:00",
          "2014-01-01T00:00:00",
          "2014-02-01T00:00:00",
          "2014-03-01T00:00:00",
          "2014-04-01T00:00:00",
          "2014-05-01T00:00:00",
          "2014-06-01T00:00:00",
          "2014-07-01T00:00:00",
          "2014-08-01T00:00:00",
          "2014-09-01T00:00:00",
          "2014-10-01T00:00:00",
          "2014-11-01T00:00:00",
          "2014-12-01T00:00:00",
          "2015-01-01T00:00:00",
          "2015-02-01T00:00:00",
          "2015-03-01T00:00:00",
          "2015-04-01T00:00:00",
          "2015-05-01T00:00:00",
          "2015-06-01T00:00:00",
          "2015-07-01T00:00:00",
          "2015-08-01T00:00:00",
          "2015-09-01T00:00:00",
          "2015-10-01T00:00:00",
          "2015-11-01T00:00:00",
          "2015-12-01T00:00:00",
          "2016-01-01T00:00:00",
          "2016-02-01T00:00:00",
          "2016-03-01T00:00:00",
          "2016-04-01T00:00:00",
          "2016-05-01T00:00:00",
          "2016-06-01T00:00:00",
          "2016-07-01T00:00:00",
          "2016-08-01T00:00:00",
          "2016-09-01T00:00:00",
          "2016-10-01T00:00:00",
          "2016-11-01T00:00:00",
          "2016-12-01T00:00:00",
          "2017-01-01T00:00:00",
          "2017-02-01T00:00:00",
          "2017-03-01T00:00:00",
          "2017-04-01T00:00:00",
          "2017-05-01T00:00:00",
          "2017-06-01T00:00:00",
          "2017-07-01T00:00:00",
          "2017-08-01T00:00:00",
          "2017-09-01T00:00:00",
          "2017-10-01T00:00:00",
          "2017-11-01T00:00:00",
          "2017-12-01T00:00:00",
          "2018-01-01T00:00:00",
          "2018-02-01T00:00:00",
          "2018-03-01T00:00:00",
          "2018-04-01T00:00:00",
          "2018-05-01T00:00:00",
          "2018-06-01T00:00:00",
          "2018-07-01T00:00:00",
          "2018-08-01T00:00:00",
          "2018-09-01T00:00:00",
          "2018-10-01T00:00:00",
          "2018-11-01T00:00:00",
          "2018-12-01T00:00:00",
          "2019-01-01T00:00:00",
          "2019-02-01T00:00:00",
          "2019-03-01T00:00:00",
          "2019-04-01T00:00:00",
          "2019-05-01T00:00:00",
          "2019-06-01T00:00:00",
          "2019-07-01T00:00:00",
          "2019-08-01T00:00:00",
          "2019-09-01T00:00:00",
          "2019-10-01T00:00:00",
          "2019-11-01T00:00:00",
          "2019-12-01T00:00:00",
          "2020-01-01T00:00:00",
          "2020-02-01T00:00:00",
          "2020-03-01T00:00:00",
          "2020-04-01T00:00:00",
          "2020-05-01T00:00:00",
          "2020-06-01T00:00:00",
          "2020-07-01T00:00:00",
          "2020-08-01T00:00:00",
          "2020-09-01T00:00:00",
          "2020-10-01T00:00:00",
          "2020-11-01T00:00:00",
          "2020-12-01T00:00:00",
          "2021-01-01T00:00:00",
          "2021-02-01T00:00:00",
          "2021-03-01T00:00:00",
          "2021-04-01T00:00:00",
          "2021-05-01T00:00:00",
          "2021-06-01T00:00:00",
          "2021-07-01T00:00:00",
          "2021-08-01T00:00:00",
          "2021-09-01T00:00:00",
          "2021-10-01T00:00:00",
          "2021-11-01T00:00:00",
          "2021-12-01T00:00:00",
          "2022-01-01T00:00:00",
          "2022-02-01T00:00:00",
          "2022-03-01T00:00:00",
          "2022-04-01T00:00:00",
          "2022-05-01T00:00:00",
          "2022-06-01T00:00:00",
          "2022-07-01T00:00:00",
          "2022-08-01T00:00:00",
          "2022-09-01T00:00:00",
          "2022-10-01T00:00:00",
          "2022-11-01T00:00:00",
          "2022-12-01T00:00:00",
          "2023-01-01T00:00:00",
          "2023-02-01T00:00:00",
          "2023-03-01T00:00:00",
          "2023-04-01T00:00:00",
          "2023-05-01T00:00:00",
          "2023-06-01T00:00:00",
          "2023-07-01T00:00:00",
          "2023-08-01T00:00:00",
          "2023-09-01T00:00:00",
          "2023-10-01T00:00:00",
          "2023-11-01T00:00:00",
          "2023-12-01T00:00:00",
          "2024-01-01T00:00:00",
          "2024-02-01T00:00:00",
          "2024-03-01T00:00:00",
          "2024-04-01T00:00:00",
          "2024-05-01T00:00:00",
          "2024-06-01T00:00:00",
          "2024-07-01T00:00:00"
         ],
         "y": [
          0.0794,
          0.0834,
          0.0985,
          0.0952,
          0.0864,
          0.0974,
          0.107,
          0.0972,
          0.09480000000000001,
          0.0941,
          0.0939,
          0.0898,
          0.087,
          0.0816,
          0.08360000000000001,
          0.0797,
          0.08199999999999999,
          0.0814,
          0.0805,
          0.0799,
          0.0819,
          0.0809,
          0.0806,
          0.0769,
          0.07569999999999999,
          0.07819999999999999,
          0.0771,
          0.0788,
          0.0849,
          0.08449999999999999,
          0.0832,
          0.08779999999999999,
          0.08449999999999999,
          0.0833,
          0.0889,
          0.0872,
          0.0862,
          0.09559999999999999,
          0.0854,
          0.0858,
          0.09190000000000001,
          0.08850000000000001,
          0.0871,
          0.0885,
          0.08679999999999999,
          0.0883,
          0.0824,
          0.08020000000000001,
          0.0796,
          0.0797,
          0.0819,
          0.0807,
          0.0776,
          0.0767,
          0.0753,
          0.0753,
          0.07250000000000001,
          0.0759,
          0.08220000000000001,
          0.0803,
          0.08410000000000001,
          0.08199999999999999,
          0.0791,
          0.0794,
          0.08,
          0.07819999999999999,
          0.0762,
          0.07869999999999999,
          0.0777,
          0.0751,
          0.079,
          0.0801,
          0.0763,
          0.07919999999999999,
          0.0766,
          0.0738,
          0.0795,
          0.0771,
          0.0767,
          0.07790000000000001,
          0.0785,
          0.07869999999999999,
          0.0817,
          0.0808,
          0.085,
          0.0869,
          0.0827,
          0.0832,
          0.0839,
          0.08389999999999999,
          0.0825,
          0.0801,
          0.0805,
          0.0795,
          0.0774,
          0.0751,
          0.0765,
          0.0776,
          0.081,
          0.0841,
          0.0814,
          0.0806,
          0.07780000000000001,
          0.0777,
          0.0764,
          0.07500000000000001,
          0.0743,
          0.0733,
          0.0716,
          0.07250000000000001,
          0.0718,
          0.07100000000000001,
          0.0749,
          0.0752,
          0.0783,
          0.07930000000000001,
          0.0811,
          0.0793,
          0.0822,
          0.0814,
          0.079,
          0.0845,
          0.0892,
          0.0867,
          0.0864,
          0.0816,
          0.0808,
          0.0815,
          0.0813,
          0.0807,
          0.0767,
          0.0761,
          0.07250000000000001,
          0.0722,
          0.0712,
          0.0703,
          0.0712,
          0.0675,
          0.0682,
          0.0684,
          0.0629,
          0.0611,
          0.0603,
          0.056499999999999995,
          0.054599999999999996,
          0.0543,
          0.057300000000000004,
          0.0533,
          0.0513,
          0.0587,
          0.0606,
          0.0589,
          0.0562,
          0.0568,
          0.0543,
          0.0514,
          0.0552,
          0.0639,
          0.061399999999999996,
          0.0624,
          0.0575,
          0.0635,
          0.0658,
          0.0706,
          0.0803,
          0.07930000000000001,
          0.0903,
          0.0807,
          0.0864,
          0.1003,
          0.0953,
          0.0887,
          0.09820000000000001,
          0.0906,
          0.095,
          0.0891,
          0.0872,
          0.0889,
          0.08810000000000001,
          0.088,
          0.0901,
          0.0942,
          0.09809999999999999,
          0.0886,
          0.0848,
          0.0844,
          0.086,
          0.0844,
          0.0909,
          0.0865,
          0.0848
         ]
        }
       ],
       "layout": {
        "template": {
         "data": {
          "bar": [
           {
            "error_x": {
             "color": "#2a3f5f"
            },
            "error_y": {
             "color": "#2a3f5f"
            },
            "marker": {
             "line": {
              "color": "#E5ECF6",
              "width": 0.5
             },
             "pattern": {
              "fillmode": "overlay",
              "size": 10,
              "solidity": 0.2
             }
            },
            "type": "bar"
           }
          ],
          "barpolar": [
           {
            "marker": {
             "line": {
              "color": "#E5ECF6",
              "width": 0.5
             },
             "pattern": {
              "fillmode": "overlay",
              "size": 10,
              "solidity": 0.2
             }
            },
            "type": "barpolar"
           }
          ],
          "carpet": [
           {
            "aaxis": {
             "endlinecolor": "#2a3f5f",
             "gridcolor": "white",
             "linecolor": "white",
             "minorgridcolor": "white",
             "startlinecolor": "#2a3f5f"
            },
            "baxis": {
             "endlinecolor": "#2a3f5f",
             "gridcolor": "white",
             "linecolor": "white",
             "minorgridcolor": "white",
             "startlinecolor": "#2a3f5f"
            },
            "type": "carpet"
           }
          ],
          "choropleth": [
           {
            "colorbar": {
             "outlinewidth": 0,
             "ticks": ""
            },
            "type": "choropleth"
           }
          ],
          "contour": [
           {
            "colorbar": {
             "outlinewidth": 0,
             "ticks": ""
            },
            "colorscale": [
             [
              0,
              "#0d0887"
             ],
             [
              0.1111111111111111,
              "#46039f"
             ],
             [
              0.2222222222222222,
              "#7201a8"
             ],
             [
              0.3333333333333333,
              "#9c179e"
             ],
             [
              0.4444444444444444,
              "#bd3786"
             ],
             [
              0.5555555555555556,
              "#d8576b"
             ],
             [
              0.6666666666666666,
              "#ed7953"
             ],
             [
              0.7777777777777778,
              "#fb9f3a"
             ],
             [
              0.8888888888888888,
              "#fdca26"
             ],
             [
              1,
              "#f0f921"
             ]
            ],
            "type": "contour"
           }
          ],
          "contourcarpet": [
           {
            "colorbar": {
             "outlinewidth": 0,
             "ticks": ""
            },
            "type": "contourcarpet"
           }
          ],
          "heatmap": [
           {
            "colorbar": {
             "outlinewidth": 0,
             "ticks": ""
            },
            "colorscale": [
             [
              0,
              "#0d0887"
             ],
             [
              0.1111111111111111,
              "#46039f"
             ],
             [
              0.2222222222222222,
              "#7201a8"
             ],
             [
              0.3333333333333333,
              "#9c179e"
             ],
             [
              0.4444444444444444,
              "#bd3786"
             ],
             [
              0.5555555555555556,
              "#d8576b"
             ],
             [
              0.6666666666666666,
              "#ed7953"
             ],
             [
              0.7777777777777778,
              "#fb9f3a"
             ],
             [
              0.8888888888888888,
              "#fdca26"
             ],
             [
              1,
              "#f0f921"
             ]
            ],
            "type": "heatmap"
           }
          ],
          "heatmapgl": [
           {
            "colorbar": {
             "outlinewidth": 0,
             "ticks": ""
            },
            "colorscale": [
             [
              0,
              "#0d0887"
             ],
             [
              0.1111111111111111,
              "#46039f"
             ],
             [
              0.2222222222222222,
              "#7201a8"
             ],
             [
              0.3333333333333333,
              "#9c179e"
             ],
             [
              0.4444444444444444,
              "#bd3786"
             ],
             [
              0.5555555555555556,
              "#d8576b"
             ],
             [
              0.6666666666666666,
              "#ed7953"
             ],
             [
              0.7777777777777778,
              "#fb9f3a"
             ],
             [
              0.8888888888888888,
              "#fdca26"
             ],
             [
              1,
              "#f0f921"
             ]
            ],
            "type": "heatmapgl"
           }
          ],
          "histogram": [
           {
            "marker": {
             "pattern": {
              "fillmode": "overlay",
              "size": 10,
              "solidity": 0.2
             }
            },
            "type": "histogram"
           }
          ],
          "histogram2d": [
           {
            "colorbar": {
             "outlinewidth": 0,
             "ticks": ""
            },
            "colorscale": [
             [
              0,
              "#0d0887"
             ],
             [
              0.1111111111111111,
              "#46039f"
             ],
             [
              0.2222222222222222,
              "#7201a8"
             ],
             [
              0.3333333333333333,
              "#9c179e"
             ],
             [
              0.4444444444444444,
              "#bd3786"
             ],
             [
              0.5555555555555556,
              "#d8576b"
             ],
             [
              0.6666666666666666,
              "#ed7953"
             ],
             [
              0.7777777777777778,
              "#fb9f3a"
             ],
             [
              0.8888888888888888,
              "#fdca26"
             ],
             [
              1,
              "#f0f921"
             ]
            ],
            "type": "histogram2d"
           }
          ],
          "histogram2dcontour": [
           {
            "colorbar": {
             "outlinewidth": 0,
             "ticks": ""
            },
            "colorscale": [
             [
              0,
              "#0d0887"
             ],
             [
              0.1111111111111111,
              "#46039f"
             ],
             [
              0.2222222222222222,
              "#7201a8"
             ],
             [
              0.3333333333333333,
              "#9c179e"
             ],
             [
              0.4444444444444444,
              "#bd3786"
             ],
             [
              0.5555555555555556,
              "#d8576b"
             ],
             [
              0.6666666666666666,
              "#ed7953"
             ],
             [
              0.7777777777777778,
              "#fb9f3a"
             ],
             [
              0.8888888888888888,
              "#fdca26"
             ],
             [
              1,
              "#f0f921"
             ]
            ],
            "type": "histogram2dcontour"
           }
          ],
          "mesh3d": [
           {
            "colorbar": {
             "outlinewidth": 0,
             "ticks": ""
            },
            "type": "mesh3d"
           }
          ],
          "parcoords": [
           {
            "line": {
             "colorbar": {
              "outlinewidth": 0,
              "ticks": ""
             }
            },
            "type": "parcoords"
           }
          ],
          "pie": [
           {
            "automargin": true,
            "type": "pie"
           }
          ],
          "scatter": [
           {
            "fillpattern": {
             "fillmode": "overlay",
             "size": 10,
             "solidity": 0.2
            },
            "type": "scatter"
           }
          ],
          "scatter3d": [
           {
            "line": {
             "colorbar": {
              "outlinewidth": 0,
              "ticks": ""
             }
            },
            "marker": {
             "colorbar": {
              "outlinewidth": 0,
              "ticks": ""
             }
            },
            "type": "scatter3d"
           }
          ],
          "scattercarpet": [
           {
            "marker": {
             "colorbar": {
              "outlinewidth": 0,
              "ticks": ""
             }
            },
            "type": "scattercarpet"
           }
          ],
          "scattergeo": [
           {
            "marker": {
             "colorbar": {
              "outlinewidth": 0,
              "ticks": ""
             }
            },
            "type": "scattergeo"
           }
          ],
          "scattergl": [
           {
            "marker": {
             "colorbar": {
              "outlinewidth": 0,
              "ticks": ""
             }
            },
            "type": "scattergl"
           }
          ],
          "scattermapbox": [
           {
            "marker": {
             "colorbar": {
              "outlinewidth": 0,
              "ticks": ""
             }
            },
            "type": "scattermapbox"
           }
          ],
          "scatterpolar": [
           {
            "marker": {
             "colorbar": {
              "outlinewidth": 0,
              "ticks": ""
             }
            },
            "type": "scatterpolar"
           }
          ],
          "scatterpolargl": [
           {
            "marker": {
             "colorbar": {
              "outlinewidth": 0,
              "ticks": ""
             }
            },
            "type": "scatterpolargl"
           }
          ],
          "scatterternary": [
           {
            "marker": {
             "colorbar": {
              "outlinewidth": 0,
              "ticks": ""
             }
            },
            "type": "scatterternary"
           }
          ],
          "surface": [
           {
            "colorbar": {
             "outlinewidth": 0,
             "ticks": ""
            },
            "colorscale": [
             [
              0,
              "#0d0887"
             ],
             [
              0.1111111111111111,
              "#46039f"
             ],
             [
              0.2222222222222222,
              "#7201a8"
             ],
             [
              0.3333333333333333,
              "#9c179e"
             ],
             [
              0.4444444444444444,
              "#bd3786"
             ],
             [
              0.5555555555555556,
              "#d8576b"
             ],
             [
              0.6666666666666666,
              "#ed7953"
             ],
             [
              0.7777777777777778,
              "#fb9f3a"
             ],
             [
              0.8888888888888888,
              "#fdca26"
             ],
             [
              1,
              "#f0f921"
             ]
            ],
            "type": "surface"
           }
          ],
          "table": [
           {
            "cells": {
             "fill": {
              "color": "#EBF0F8"
             },
             "line": {
              "color": "white"
             }
            },
            "header": {
             "fill": {
              "color": "#C8D4E3"
             },
             "line": {
              "color": "white"
             }
            },
            "type": "table"
           }
          ]
         },
         "layout": {
          "annotationdefaults": {
           "arrowcolor": "#2a3f5f",
           "arrowhead": 0,
           "arrowwidth": 1
          },
          "autotypenumbers": "strict",
          "coloraxis": {
           "colorbar": {
            "outlinewidth": 0,
            "ticks": ""
           }
          },
          "colorscale": {
           "diverging": [
            [
             0,
             "#8e0152"
            ],
            [
             0.1,
             "#c51b7d"
            ],
            [
             0.2,
             "#de77ae"
            ],
            [
             0.3,
             "#f1b6da"
            ],
            [
             0.4,
             "#fde0ef"
            ],
            [
             0.5,
             "#f7f7f7"
            ],
            [
             0.6,
             "#e6f5d0"
            ],
            [
             0.7,
             "#b8e186"
            ],
            [
             0.8,
             "#7fbc41"
            ],
            [
             0.9,
             "#4d9221"
            ],
            [
             1,
             "#276419"
            ]
           ],
           "sequential": [
            [
             0,
             "#0d0887"
            ],
            [
             0.1111111111111111,
             "#46039f"
            ],
            [
             0.2222222222222222,
             "#7201a8"
            ],
            [
             0.3333333333333333,
             "#9c179e"
            ],
            [
             0.4444444444444444,
             "#bd3786"
            ],
            [
             0.5555555555555556,
             "#d8576b"
            ],
            [
             0.6666666666666666,
             "#ed7953"
            ],
            [
             0.7777777777777778,
             "#fb9f3a"
            ],
            [
             0.8888888888888888,
             "#fdca26"
            ],
            [
             1,
             "#f0f921"
            ]
           ],
           "sequentialminus": [
            [
             0,
             "#0d0887"
            ],
            [
             0.1111111111111111,
             "#46039f"
            ],
            [
             0.2222222222222222,
             "#7201a8"
            ],
            [
             0.3333333333333333,
             "#9c179e"
            ],
            [
             0.4444444444444444,
             "#bd3786"
            ],
            [
             0.5555555555555556,
             "#d8576b"
            ],
            [
             0.6666666666666666,
             "#ed7953"
            ],
            [
             0.7777777777777778,
             "#fb9f3a"
            ],
            [
             0.8888888888888888,
             "#fdca26"
            ],
            [
             1,
             "#f0f921"
            ]
           ]
          },
          "colorway": [
           "#636efa",
           "#EF553B",
           "#00cc96",
           "#ab63fa",
           "#FFA15A",
           "#19d3f3",
           "#FF6692",
           "#B6E880",
           "#FF97FF",
           "#FECB52"
          ],
          "font": {
           "color": "#2a3f5f"
          },
          "geo": {
           "bgcolor": "white",
           "lakecolor": "white",
           "landcolor": "#E5ECF6",
           "showlakes": true,
           "showland": true,
           "subunitcolor": "white"
          },
          "hoverlabel": {
           "align": "left"
          },
          "hovermode": "closest",
          "mapbox": {
           "style": "light"
          },
          "paper_bgcolor": "white",
          "plot_bgcolor": "#E5ECF6",
          "polar": {
           "angularaxis": {
            "gridcolor": "white",
            "linecolor": "white",
            "ticks": ""
           },
           "bgcolor": "#E5ECF6",
           "radialaxis": {
            "gridcolor": "white",
            "linecolor": "white",
            "ticks": ""
           }
          },
          "scene": {
           "xaxis": {
            "backgroundcolor": "#E5ECF6",
            "gridcolor": "white",
            "gridwidth": 2,
            "linecolor": "white",
            "showbackground": true,
            "ticks": "",
            "zerolinecolor": "white"
           },
           "yaxis": {
            "backgroundcolor": "#E5ECF6",
            "gridcolor": "white",
            "gridwidth": 2,
            "linecolor": "white",
            "showbackground": true,
            "ticks": "",
            "zerolinecolor": "white"
           },
           "zaxis": {
            "backgroundcolor": "#E5ECF6",
            "gridcolor": "white",
            "gridwidth": 2,
            "linecolor": "white",
            "showbackground": true,
            "ticks": "",
            "zerolinecolor": "white"
           }
          },
          "shapedefaults": {
           "line": {
            "color": "#2a3f5f"
           }
          },
          "ternary": {
           "aaxis": {
            "gridcolor": "white",
            "linecolor": "white",
            "ticks": ""
           },
           "baxis": {
            "gridcolor": "white",
            "linecolor": "white",
            "ticks": ""
           },
           "bgcolor": "#E5ECF6",
           "caxis": {
            "gridcolor": "white",
            "linecolor": "white",
            "ticks": ""
           }
          },
          "title": {
           "x": 0.05
          },
          "xaxis": {
           "automargin": true,
           "gridcolor": "white",
           "linecolor": "white",
           "ticks": "",
           "title": {
            "standoff": 15
           },
           "zerolinecolor": "white",
           "zerolinewidth": 2
          },
          "yaxis": {
           "automargin": true,
           "gridcolor": "white",
           "linecolor": "white",
           "ticks": "",
           "title": {
            "standoff": 15
           },
           "zerolinecolor": "white",
           "zerolinewidth": 2
          }
         }
        },
        "xaxis": {
         "title": {
          "text": "Date of Estimation"
         }
        },
        "yaxis": {
         "tickformat": ",.0%",
         "title": {
          "text": "T.Bond Rate + ERP"
         },
         "type": "linear"
        }
       }
      }
     },
     "metadata": {},
     "output_type": "display_data"
    },
    {
     "data": {
      "application/vnd.plotly.v1+json": {
       "config": {
        "plotlyServerURL": "https://plot.ly"
       },
       "data": [
        {
         "mode": "lines+markers",
         "name": "Yearly Estimate",
         "type": "scatter",
         "x": [
          "1961-01-01T00:00:00",
          "1962-01-01T00:00:00",
          "1963-01-01T00:00:00",
          "1964-01-01T00:00:00",
          "1965-01-01T00:00:00",
          "1966-01-01T00:00:00",
          "1967-01-01T00:00:00",
          "1968-01-01T00:00:00",
          "1969-01-01T00:00:00",
          "1970-01-01T00:00:00",
          "1971-01-01T00:00:00",
          "1972-01-01T00:00:00",
          "1973-01-01T00:00:00",
          "1974-01-01T00:00:00",
          "1975-01-01T00:00:00",
          "1976-01-01T00:00:00",
          "1977-01-01T00:00:00",
          "1978-01-01T00:00:00",
          "1979-01-01T00:00:00",
          "1980-01-01T00:00:00",
          "1981-01-01T00:00:00",
          "1982-01-01T00:00:00",
          "1983-01-01T00:00:00",
          "1984-01-01T00:00:00",
          "1985-01-01T00:00:00",
          "1986-01-01T00:00:00",
          "1987-01-01T00:00:00",
          "1988-01-01T00:00:00",
          "1989-01-01T00:00:00",
          "1990-01-01T00:00:00",
          "1991-01-01T00:00:00",
          "1992-01-01T00:00:00",
          "1993-01-01T00:00:00",
          "1994-01-01T00:00:00",
          "1995-01-01T00:00:00",
          "1996-01-01T00:00:00",
          "1997-01-01T00:00:00",
          "1998-01-01T00:00:00",
          "1999-01-01T00:00:00",
          "2000-01-01T00:00:00",
          "2001-01-01T00:00:00",
          "2002-01-01T00:00:00",
          "2003-01-01T00:00:00",
          "2004-01-01T00:00:00",
          "2005-01-01T00:00:00",
          "2006-01-01T00:00:00",
          "2007-01-01T00:00:00",
          "2008-01-01T00:00:00",
          "2009-01-01T00:00:00",
          "2010-01-01T00:00:00",
          "2011-01-01T00:00:00",
          "2012-01-01T00:00:00",
          "2013-01-01T00:00:00",
          "2014-01-01T00:00:00",
          "2015-01-01T00:00:00",
          "2016-01-01T00:00:00",
          "2017-01-01T00:00:00",
          "2018-01-01T00:00:00",
          "2019-01-01T00:00:00",
          "2020-01-01T00:00:00",
          "2021-01-01T00:00:00",
          "2022-01-01T00:00:00",
          "2023-01-01T00:00:00"
         ],
         "y": [
          null,
          null,
          null,
          null,
          null,
          null,
          null,
          null,
          null,
          null,
          null,
          null,
          null,
          null,
          null,
          null,
          null,
          null,
          null,
          null,
          null,
          null,
          null,
          null,
          null,
          0.0675,
          0.0696,
          0.0858,
          0.0767,
          0.0746,
          0.0719,
          0.0781,
          0.0983,
          0.08,
          0.0717,
          0.065,
          0.0792,
          0.08,
          0.072,
          0.125,
          0.12,
          0.103,
          0.08,
          0.11,
          0.085,
          0.08,
          0.125,
          0.05,
          0.04,
          0.072,
          0.0695,
          0.0718,
          0.0527,
          0.0428,
          0.0558,
          0.0551,
          0.0554,
          0.0705,
          0.0412,
          0.0396,
          0.0542,
          0.0647,
          0.0641
         ]
        },
        {
         "mode": "lines",
         "name": "Monthly  Estimate",
         "type": "scatter",
         "x": [
          "2008-09-01T00:00:00",
          "2008-10-01T00:00:00",
          "2008-11-01T00:00:00",
          "2008-12-01T00:00:00",
          "2009-01-01T00:00:00",
          "2009-02-01T00:00:00",
          "2009-03-01T00:00:00",
          "2009-04-01T00:00:00",
          "2009-05-01T00:00:00",
          "2009-06-01T00:00:00",
          "2009-07-01T00:00:00",
          "2009-08-01T00:00:00",
          "2009-09-01T00:00:00",
          "2009-10-01T00:00:00",
          "2009-11-01T00:00:00",
          "2009-12-01T00:00:00",
          "2010-01-01T00:00:00",
          "2010-02-01T00:00:00",
          "2010-03-01T00:00:00",
          "2010-04-01T00:00:00",
          "2010-05-01T00:00:00",
          "2010-06-01T00:00:00",
          "2010-07-01T00:00:00",
          "2010-08-01T00:00:00",
          "2010-09-01T00:00:00",
          "2010-10-01T00:00:00",
          "2010-11-01T00:00:00",
          "2010-12-01T00:00:00",
          "2011-01-01T00:00:00",
          "2011-02-01T00:00:00",
          "2011-03-01T00:00:00",
          "2011-04-01T00:00:00",
          "2011-05-01T00:00:00",
          "2011-06-01T00:00:00",
          "2011-07-01T00:00:00",
          "2011-08-01T00:00:00",
          "2011-09-01T00:00:00",
          "2011-10-01T00:00:00",
          "2011-11-01T00:00:00",
          "2011-12-01T00:00:00",
          "2012-01-01T00:00:00",
          "2012-02-01T00:00:00",
          "2012-03-01T00:00:00",
          "2012-04-01T00:00:00",
          "2012-05-01T00:00:00",
          "2012-06-01T00:00:00",
          "2012-07-01T00:00:00",
          "2012-08-01T00:00:00",
          "2012-09-01T00:00:00",
          "2012-10-01T00:00:00",
          "2012-11-01T00:00:00",
          "2012-12-01T00:00:00",
          "2013-01-01T00:00:00",
          "2013-02-01T00:00:00",
          "2013-03-01T00:00:00",
          "2013-04-01T00:00:00",
          "2013-05-01T00:00:00",
          "2013-06-01T00:00:00",
          "2013-07-01T00:00:00",
          "2013-08-01T00:00:00",
          "2013-09-01T00:00:00",
          "2013-10-01T00:00:00",
          "2013-11-01T00:00:00",
          "2013-12-01T00:00:00",
          "2014-01-01T00:00:00",
          "2014-02-01T00:00:00",
          "2014-03-01T00:00:00",
          "2014-04-01T00:00:00",
          "2014-05-01T00:00:00",
          "2014-06-01T00:00:00",
          "2014-07-01T00:00:00",
          "2014-08-01T00:00:00",
          "2014-09-01T00:00:00",
          "2014-10-01T00:00:00",
          "2014-11-01T00:00:00",
          "2014-12-01T00:00:00",
          "2015-01-01T00:00:00",
          "2015-02-01T00:00:00",
          "2015-03-01T00:00:00",
          "2015-04-01T00:00:00",
          "2015-05-01T00:00:00",
          "2015-06-01T00:00:00",
          "2015-07-01T00:00:00",
          "2015-08-01T00:00:00",
          "2015-09-01T00:00:00",
          "2015-10-01T00:00:00",
          "2015-11-01T00:00:00",
          "2015-12-01T00:00:00",
          "2016-01-01T00:00:00",
          "2016-02-01T00:00:00",
          "2016-03-01T00:00:00",
          "2016-04-01T00:00:00",
          "2016-05-01T00:00:00",
          "2016-06-01T00:00:00",
          "2016-07-01T00:00:00",
          "2016-08-01T00:00:00",
          "2016-09-01T00:00:00",
          "2016-10-01T00:00:00",
          "2016-11-01T00:00:00",
          "2016-12-01T00:00:00",
          "2017-01-01T00:00:00",
          "2017-02-01T00:00:00",
          "2017-03-01T00:00:00",
          "2017-04-01T00:00:00",
          "2017-05-01T00:00:00",
          "2017-06-01T00:00:00",
          "2017-07-01T00:00:00",
          "2017-08-01T00:00:00",
          "2017-09-01T00:00:00",
          "2017-10-01T00:00:00",
          "2017-11-01T00:00:00",
          "2017-12-01T00:00:00",
          "2018-01-01T00:00:00",
          "2018-02-01T00:00:00",
          "2018-03-01T00:00:00",
          "2018-04-01T00:00:00",
          "2018-05-01T00:00:00",
          "2018-06-01T00:00:00",
          "2018-07-01T00:00:00",
          "2018-08-01T00:00:00",
          "2018-09-01T00:00:00",
          "2018-10-01T00:00:00",
          "2018-11-01T00:00:00",
          "2018-12-01T00:00:00",
          "2019-01-01T00:00:00",
          "2019-02-01T00:00:00",
          "2019-03-01T00:00:00",
          "2019-04-01T00:00:00",
          "2019-05-01T00:00:00",
          "2019-06-01T00:00:00",
          "2019-07-01T00:00:00",
          "2019-08-01T00:00:00",
          "2019-09-01T00:00:00",
          "2019-10-01T00:00:00",
          "2019-11-01T00:00:00",
          "2019-12-01T00:00:00",
          "2020-01-01T00:00:00",
          "2020-02-01T00:00:00",
          "2020-03-01T00:00:00",
          "2020-04-01T00:00:00",
          "2020-05-01T00:00:00",
          "2020-06-01T00:00:00",
          "2020-07-01T00:00:00",
          "2020-08-01T00:00:00",
          "2020-09-01T00:00:00",
          "2020-10-01T00:00:00",
          "2020-11-01T00:00:00",
          "2020-12-01T00:00:00",
          "2021-01-01T00:00:00",
          "2021-02-01T00:00:00",
          "2021-03-01T00:00:00",
          "2021-04-01T00:00:00",
          "2021-05-01T00:00:00",
          "2021-06-01T00:00:00",
          "2021-07-01T00:00:00",
          "2021-08-01T00:00:00",
          "2021-09-01T00:00:00",
          "2021-10-01T00:00:00",
          "2021-11-01T00:00:00",
          "2021-12-01T00:00:00",
          "2022-01-01T00:00:00",
          "2022-02-01T00:00:00",
          "2022-03-01T00:00:00",
          "2022-04-01T00:00:00",
          "2022-05-01T00:00:00",
          "2022-06-01T00:00:00",
          "2022-07-01T00:00:00",
          "2022-08-01T00:00:00",
          "2022-09-01T00:00:00",
          "2022-10-01T00:00:00",
          "2022-11-01T00:00:00",
          "2022-12-01T00:00:00",
          "2023-01-01T00:00:00",
          "2023-02-01T00:00:00",
          "2023-03-01T00:00:00",
          "2023-04-01T00:00:00",
          "2023-05-01T00:00:00",
          "2023-06-01T00:00:00",
          "2023-07-01T00:00:00",
          "2023-08-01T00:00:00",
          "2023-09-01T00:00:00",
          "2023-10-01T00:00:00",
          "2023-11-01T00:00:00",
          "2023-12-01T00:00:00",
          "2024-01-01T00:00:00",
          "2024-02-01T00:00:00",
          "2024-03-01T00:00:00",
          "2024-04-01T00:00:00",
          "2024-05-01T00:00:00",
          "2024-06-01T00:00:00",
          "2024-07-01T00:00:00"
         ],
         "y": [
          null,
          null,
          null,
          null,
          0.04,
          0.04,
          0.04,
          0.04,
          0.04,
          0.04,
          0.04,
          0.04,
          0.04,
          0.04,
          0.04,
          0.04,
          0.0721,
          0.0721,
          0.0721,
          0.0721,
          0.0721,
          0.0721,
          0.0721,
          0.0721,
          0.0721,
          0.0721,
          0.0721,
          0.0721,
          0.0695,
          0.0695,
          0.0695,
          0.0695,
          0.0695,
          0.0695,
          0.0695,
          0.0695,
          0.0695,
          0.0695,
          0.055,
          0.055,
          0.0718,
          0.0718,
          0.0718,
          0.0718,
          0.0718,
          0.0718,
          0.0656,
          0.0656,
          0.0656,
          0.0656,
          0.0656,
          0.0656,
          0.0527,
          0.0527,
          0.0532,
          0.0531,
          0.0523,
          0.0543,
          0.0557,
          0.055999999999999994,
          0.0569,
          0.0562,
          0.0559,
          0.0567,
          0.0428,
          0.0413,
          0.0413,
          0.0415,
          0.041299999999999996,
          0.0406,
          0.0407,
          0.0409,
          0.04,
          0.0404,
          0.04,
          0.0393,
          0.0558,
          0.0538,
          0.0551,
          0.0548,
          0.0553,
          0.0556,
          0.0565,
          0.0558,
          0.0632,
          0.0625,
          0.0629,
          0.0632,
          0.0555,
          0.0538,
          0.0529,
          0.053200000000000004,
          0.0533,
          0.0533,
          0.0515,
          0.0514,
          0.0521,
          0.0521,
          0.0532,
          0.0562,
          0.0554,
          0.0555,
          0.0551,
          0.0551,
          0.0546,
          0.0542,
          0.0546,
          0.0546,
          0.0537,
          0.0548,
          0.055,
          0.0552,
          0.0705,
          0.0717,
          0.0722,
          0.0717,
          0.0724,
          0.0722,
          0.0721,
          0.0725,
          0.0721,
          0.0728,
          0.0732,
          0.0726,
          0.0412,
          0.0411,
          0.0414,
          0.0407,
          0.0411,
          0.0362,
          0.0344,
          0.0345,
          0.0324,
          0.0331,
          0.0331,
          0.0335,
          0.0396,
          0.0379,
          0.0336,
          0.0318,
          0.0316,
          0.0333,
          0.0333,
          0.0328,
          0.0335,
          0.0381,
          0.0386,
          0.0437,
          0.0542,
          0.0809,
          0.0844,
          0.0876,
          0.0897,
          0.0969,
          0.0979,
          0.0977,
          0.1231,
          0.123,
          0.1239,
          0.132,
          0.0647,
          0.0715,
          0.0717,
          0.0737,
          0.0767,
          0.073,
          0.0779,
          0.0707,
          0.0662,
          0.0672,
          0.0575,
          0.0566,
          0.0641,
          0.0592,
          0.0574,
          0.0573,
          0.0542,
          0.0543,
          0.0708,
          0.0711,
          0.0714,
          0.0763,
          0.0758,
          0.0732,
          0.0874,
          0.0853,
          0.089,
          0.0905,
          0.0939,
          0.0953,
          0.0947
         ]
        }
       ],
       "layout": {
        "template": {
         "data": {
          "bar": [
           {
            "error_x": {
             "color": "#2a3f5f"
            },
            "error_y": {
             "color": "#2a3f5f"
            },
            "marker": {
             "line": {
              "color": "#E5ECF6",
              "width": 0.5
             },
             "pattern": {
              "fillmode": "overlay",
              "size": 10,
              "solidity": 0.2
             }
            },
            "type": "bar"
           }
          ],
          "barpolar": [
           {
            "marker": {
             "line": {
              "color": "#E5ECF6",
              "width": 0.5
             },
             "pattern": {
              "fillmode": "overlay",
              "size": 10,
              "solidity": 0.2
             }
            },
            "type": "barpolar"
           }
          ],
          "carpet": [
           {
            "aaxis": {
             "endlinecolor": "#2a3f5f",
             "gridcolor": "white",
             "linecolor": "white",
             "minorgridcolor": "white",
             "startlinecolor": "#2a3f5f"
            },
            "baxis": {
             "endlinecolor": "#2a3f5f",
             "gridcolor": "white",
             "linecolor": "white",
             "minorgridcolor": "white",
             "startlinecolor": "#2a3f5f"
            },
            "type": "carpet"
           }
          ],
          "choropleth": [
           {
            "colorbar": {
             "outlinewidth": 0,
             "ticks": ""
            },
            "type": "choropleth"
           }
          ],
          "contour": [
           {
            "colorbar": {
             "outlinewidth": 0,
             "ticks": ""
            },
            "colorscale": [
             [
              0,
              "#0d0887"
             ],
             [
              0.1111111111111111,
              "#46039f"
             ],
             [
              0.2222222222222222,
              "#7201a8"
             ],
             [
              0.3333333333333333,
              "#9c179e"
             ],
             [
              0.4444444444444444,
              "#bd3786"
             ],
             [
              0.5555555555555556,
              "#d8576b"
             ],
             [
              0.6666666666666666,
              "#ed7953"
             ],
             [
              0.7777777777777778,
              "#fb9f3a"
             ],
             [
              0.8888888888888888,
              "#fdca26"
             ],
             [
              1,
              "#f0f921"
             ]
            ],
            "type": "contour"
           }
          ],
          "contourcarpet": [
           {
            "colorbar": {
             "outlinewidth": 0,
             "ticks": ""
            },
            "type": "contourcarpet"
           }
          ],
          "heatmap": [
           {
            "colorbar": {
             "outlinewidth": 0,
             "ticks": ""
            },
            "colorscale": [
             [
              0,
              "#0d0887"
             ],
             [
              0.1111111111111111,
              "#46039f"
             ],
             [
              0.2222222222222222,
              "#7201a8"
             ],
             [
              0.3333333333333333,
              "#9c179e"
             ],
             [
              0.4444444444444444,
              "#bd3786"
             ],
             [
              0.5555555555555556,
              "#d8576b"
             ],
             [
              0.6666666666666666,
              "#ed7953"
             ],
             [
              0.7777777777777778,
              "#fb9f3a"
             ],
             [
              0.8888888888888888,
              "#fdca26"
             ],
             [
              1,
              "#f0f921"
             ]
            ],
            "type": "heatmap"
           }
          ],
          "heatmapgl": [
           {
            "colorbar": {
             "outlinewidth": 0,
             "ticks": ""
            },
            "colorscale": [
             [
              0,
              "#0d0887"
             ],
             [
              0.1111111111111111,
              "#46039f"
             ],
             [
              0.2222222222222222,
              "#7201a8"
             ],
             [
              0.3333333333333333,
              "#9c179e"
             ],
             [
              0.4444444444444444,
              "#bd3786"
             ],
             [
              0.5555555555555556,
              "#d8576b"
             ],
             [
              0.6666666666666666,
              "#ed7953"
             ],
             [
              0.7777777777777778,
              "#fb9f3a"
             ],
             [
              0.8888888888888888,
              "#fdca26"
             ],
             [
              1,
              "#f0f921"
             ]
            ],
            "type": "heatmapgl"
           }
          ],
          "histogram": [
           {
            "marker": {
             "pattern": {
              "fillmode": "overlay",
              "size": 10,
              "solidity": 0.2
             }
            },
            "type": "histogram"
           }
          ],
          "histogram2d": [
           {
            "colorbar": {
             "outlinewidth": 0,
             "ticks": ""
            },
            "colorscale": [
             [
              0,
              "#0d0887"
             ],
             [
              0.1111111111111111,
              "#46039f"
             ],
             [
              0.2222222222222222,
              "#7201a8"
             ],
             [
              0.3333333333333333,
              "#9c179e"
             ],
             [
              0.4444444444444444,
              "#bd3786"
             ],
             [
              0.5555555555555556,
              "#d8576b"
             ],
             [
              0.6666666666666666,
              "#ed7953"
             ],
             [
              0.7777777777777778,
              "#fb9f3a"
             ],
             [
              0.8888888888888888,
              "#fdca26"
             ],
             [
              1,
              "#f0f921"
             ]
            ],
            "type": "histogram2d"
           }
          ],
          "histogram2dcontour": [
           {
            "colorbar": {
             "outlinewidth": 0,
             "ticks": ""
            },
            "colorscale": [
             [
              0,
              "#0d0887"
             ],
             [
              0.1111111111111111,
              "#46039f"
             ],
             [
              0.2222222222222222,
              "#7201a8"
             ],
             [
              0.3333333333333333,
              "#9c179e"
             ],
             [
              0.4444444444444444,
              "#bd3786"
             ],
             [
              0.5555555555555556,
              "#d8576b"
             ],
             [
              0.6666666666666666,
              "#ed7953"
             ],
             [
              0.7777777777777778,
              "#fb9f3a"
             ],
             [
              0.8888888888888888,
              "#fdca26"
             ],
             [
              1,
              "#f0f921"
             ]
            ],
            "type": "histogram2dcontour"
           }
          ],
          "mesh3d": [
           {
            "colorbar": {
             "outlinewidth": 0,
             "ticks": ""
            },
            "type": "mesh3d"
           }
          ],
          "parcoords": [
           {
            "line": {
             "colorbar": {
              "outlinewidth": 0,
              "ticks": ""
             }
            },
            "type": "parcoords"
           }
          ],
          "pie": [
           {
            "automargin": true,
            "type": "pie"
           }
          ],
          "scatter": [
           {
            "fillpattern": {
             "fillmode": "overlay",
             "size": 10,
             "solidity": 0.2
            },
            "type": "scatter"
           }
          ],
          "scatter3d": [
           {
            "line": {
             "colorbar": {
              "outlinewidth": 0,
              "ticks": ""
             }
            },
            "marker": {
             "colorbar": {
              "outlinewidth": 0,
              "ticks": ""
             }
            },
            "type": "scatter3d"
           }
          ],
          "scattercarpet": [
           {
            "marker": {
             "colorbar": {
              "outlinewidth": 0,
              "ticks": ""
             }
            },
            "type": "scattercarpet"
           }
          ],
          "scattergeo": [
           {
            "marker": {
             "colorbar": {
              "outlinewidth": 0,
              "ticks": ""
             }
            },
            "type": "scattergeo"
           }
          ],
          "scattergl": [
           {
            "marker": {
             "colorbar": {
              "outlinewidth": 0,
              "ticks": ""
             }
            },
            "type": "scattergl"
           }
          ],
          "scattermapbox": [
           {
            "marker": {
             "colorbar": {
              "outlinewidth": 0,
              "ticks": ""
             }
            },
            "type": "scattermapbox"
           }
          ],
          "scatterpolar": [
           {
            "marker": {
             "colorbar": {
              "outlinewidth": 0,
              "ticks": ""
             }
            },
            "type": "scatterpolar"
           }
          ],
          "scatterpolargl": [
           {
            "marker": {
             "colorbar": {
              "outlinewidth": 0,
              "ticks": ""
             }
            },
            "type": "scatterpolargl"
           }
          ],
          "scatterternary": [
           {
            "marker": {
             "colorbar": {
              "outlinewidth": 0,
              "ticks": ""
             }
            },
            "type": "scatterternary"
           }
          ],
          "surface": [
           {
            "colorbar": {
             "outlinewidth": 0,
             "ticks": ""
            },
            "colorscale": [
             [
              0,
              "#0d0887"
             ],
             [
              0.1111111111111111,
              "#46039f"
             ],
             [
              0.2222222222222222,
              "#7201a8"
             ],
             [
              0.3333333333333333,
              "#9c179e"
             ],
             [
              0.4444444444444444,
              "#bd3786"
             ],
             [
              0.5555555555555556,
              "#d8576b"
             ],
             [
              0.6666666666666666,
              "#ed7953"
             ],
             [
              0.7777777777777778,
              "#fb9f3a"
             ],
             [
              0.8888888888888888,
              "#fdca26"
             ],
             [
              1,
              "#f0f921"
             ]
            ],
            "type": "surface"
           }
          ],
          "table": [
           {
            "cells": {
             "fill": {
              "color": "#EBF0F8"
             },
             "line": {
              "color": "white"
             }
            },
            "header": {
             "fill": {
              "color": "#C8D4E3"
             },
             "line": {
              "color": "white"
             }
            },
            "type": "table"
           }
          ]
         },
         "layout": {
          "annotationdefaults": {
           "arrowcolor": "#2a3f5f",
           "arrowhead": 0,
           "arrowwidth": 1
          },
          "autotypenumbers": "strict",
          "coloraxis": {
           "colorbar": {
            "outlinewidth": 0,
            "ticks": ""
           }
          },
          "colorscale": {
           "diverging": [
            [
             0,
             "#8e0152"
            ],
            [
             0.1,
             "#c51b7d"
            ],
            [
             0.2,
             "#de77ae"
            ],
            [
             0.3,
             "#f1b6da"
            ],
            [
             0.4,
             "#fde0ef"
            ],
            [
             0.5,
             "#f7f7f7"
            ],
            [
             0.6,
             "#e6f5d0"
            ],
            [
             0.7,
             "#b8e186"
            ],
            [
             0.8,
             "#7fbc41"
            ],
            [
             0.9,
             "#4d9221"
            ],
            [
             1,
             "#276419"
            ]
           ],
           "sequential": [
            [
             0,
             "#0d0887"
            ],
            [
             0.1111111111111111,
             "#46039f"
            ],
            [
             0.2222222222222222,
             "#7201a8"
            ],
            [
             0.3333333333333333,
             "#9c179e"
            ],
            [
             0.4444444444444444,
             "#bd3786"
            ],
            [
             0.5555555555555556,
             "#d8576b"
            ],
            [
             0.6666666666666666,
             "#ed7953"
            ],
            [
             0.7777777777777778,
             "#fb9f3a"
            ],
            [
             0.8888888888888888,
             "#fdca26"
            ],
            [
             1,
             "#f0f921"
            ]
           ],
           "sequentialminus": [
            [
             0,
             "#0d0887"
            ],
            [
             0.1111111111111111,
             "#46039f"
            ],
            [
             0.2222222222222222,
             "#7201a8"
            ],
            [
             0.3333333333333333,
             "#9c179e"
            ],
            [
             0.4444444444444444,
             "#bd3786"
            ],
            [
             0.5555555555555556,
             "#d8576b"
            ],
            [
             0.6666666666666666,
             "#ed7953"
            ],
            [
             0.7777777777777778,
             "#fb9f3a"
            ],
            [
             0.8888888888888888,
             "#fdca26"
            ],
            [
             1,
             "#f0f921"
            ]
           ]
          },
          "colorway": [
           "#636efa",
           "#EF553B",
           "#00cc96",
           "#ab63fa",
           "#FFA15A",
           "#19d3f3",
           "#FF6692",
           "#B6E880",
           "#FF97FF",
           "#FECB52"
          ],
          "font": {
           "color": "#2a3f5f"
          },
          "geo": {
           "bgcolor": "white",
           "lakecolor": "white",
           "landcolor": "#E5ECF6",
           "showlakes": true,
           "showland": true,
           "subunitcolor": "white"
          },
          "hoverlabel": {
           "align": "left"
          },
          "hovermode": "closest",
          "mapbox": {
           "style": "light"
          },
          "paper_bgcolor": "white",
          "plot_bgcolor": "#E5ECF6",
          "polar": {
           "angularaxis": {
            "gridcolor": "white",
            "linecolor": "white",
            "ticks": ""
           },
           "bgcolor": "#E5ECF6",
           "radialaxis": {
            "gridcolor": "white",
            "linecolor": "white",
            "ticks": ""
           }
          },
          "scene": {
           "xaxis": {
            "backgroundcolor": "#E5ECF6",
            "gridcolor": "white",
            "gridwidth": 2,
            "linecolor": "white",
            "showbackground": true,
            "ticks": "",
            "zerolinecolor": "white"
           },
           "yaxis": {
            "backgroundcolor": "#E5ECF6",
            "gridcolor": "white",
            "gridwidth": 2,
            "linecolor": "white",
            "showbackground": true,
            "ticks": "",
            "zerolinecolor": "white"
           },
           "zaxis": {
            "backgroundcolor": "#E5ECF6",
            "gridcolor": "white",
            "gridwidth": 2,
            "linecolor": "white",
            "showbackground": true,
            "ticks": "",
            "zerolinecolor": "white"
           }
          },
          "shapedefaults": {
           "line": {
            "color": "#2a3f5f"
           }
          },
          "ternary": {
           "aaxis": {
            "gridcolor": "white",
            "linecolor": "white",
            "ticks": ""
           },
           "baxis": {
            "gridcolor": "white",
            "linecolor": "white",
            "ticks": ""
           },
           "bgcolor": "#E5ECF6",
           "caxis": {
            "gridcolor": "white",
            "linecolor": "white",
            "ticks": ""
           }
          },
          "title": {
           "x": 0.05
          },
          "xaxis": {
           "automargin": true,
           "gridcolor": "white",
           "linecolor": "white",
           "ticks": "",
           "title": {
            "standoff": 15
           },
           "zerolinecolor": "white",
           "zerolinewidth": 2
          },
          "yaxis": {
           "automargin": true,
           "gridcolor": "white",
           "linecolor": "white",
           "ticks": "",
           "title": {
            "standoff": 15
           },
           "zerolinecolor": "white",
           "zerolinewidth": 2
          }
         }
        },
        "xaxis": {
         "title": {
          "text": "Date of Estimation"
         }
        },
        "yaxis": {
         "tickformat": ",.0%",
         "title": {
          "text": "Growth estimate"
         },
         "type": "linear"
        }
       }
      }
     },
     "metadata": {},
     "output_type": "display_data"
    },
    {
     "data": {
      "application/vnd.plotly.v1+json": {
       "config": {
        "plotlyServerURL": "https://plot.ly"
       },
       "data": [
        {
         "mode": "lines+markers",
         "name": "Yearly Estimate",
         "type": "scatter",
         "x": [
          "1961-01-01T00:00:00",
          "1962-01-01T00:00:00",
          "1963-01-01T00:00:00",
          "1964-01-01T00:00:00",
          "1965-01-01T00:00:00",
          "1966-01-01T00:00:00",
          "1967-01-01T00:00:00",
          "1968-01-01T00:00:00",
          "1969-01-01T00:00:00",
          "1970-01-01T00:00:00",
          "1971-01-01T00:00:00",
          "1972-01-01T00:00:00",
          "1973-01-01T00:00:00",
          "1974-01-01T00:00:00",
          "1975-01-01T00:00:00",
          "1976-01-01T00:00:00",
          "1977-01-01T00:00:00",
          "1978-01-01T00:00:00",
          "1979-01-01T00:00:00",
          "1980-01-01T00:00:00",
          "1981-01-01T00:00:00",
          "1982-01-01T00:00:00",
          "1983-01-01T00:00:00",
          "1984-01-01T00:00:00",
          "1985-01-01T00:00:00",
          "1986-01-01T00:00:00",
          "1987-01-01T00:00:00",
          "1988-01-01T00:00:00",
          "1989-01-01T00:00:00",
          "1990-01-01T00:00:00",
          "1991-01-01T00:00:00",
          "1992-01-01T00:00:00",
          "1993-01-01T00:00:00",
          "1994-01-01T00:00:00",
          "1995-01-01T00:00:00",
          "1996-01-01T00:00:00",
          "1997-01-01T00:00:00",
          "1998-01-01T00:00:00",
          "1999-01-01T00:00:00",
          "2000-01-01T00:00:00",
          "2001-01-01T00:00:00",
          "2002-01-01T00:00:00",
          "2003-01-01T00:00:00",
          "2004-01-01T00:00:00",
          "2005-01-01T00:00:00",
          "2006-01-01T00:00:00",
          "2007-01-01T00:00:00",
          "2008-01-01T00:00:00",
          "2009-01-01T00:00:00",
          "2010-01-01T00:00:00",
          "2011-01-01T00:00:00",
          "2012-01-01T00:00:00",
          "2013-01-01T00:00:00",
          "2014-01-01T00:00:00",
          "2015-01-01T00:00:00",
          "2016-01-01T00:00:00",
          "2017-01-01T00:00:00",
          "2018-01-01T00:00:00",
          "2019-01-01T00:00:00",
          "2020-01-01T00:00:00",
          "2021-01-01T00:00:00",
          "2022-01-01T00:00:00",
          "2023-01-01T00:00:00"
         ],
         "y": [
          58.11,
          71.55,
          63.1,
          75.02,
          84.75,
          92.43,
          80.33,
          96.47,
          103.86,
          92.06,
          92.15,
          102.09,
          118.05,
          97.55,
          68.56,
          90.19,
          107.46,
          95.1,
          96.11,
          107.94,
          135.76,
          122.55,
          140.64,
          164.93,
          167.24,
          211.28,
          242.17,
          247.08,
          277.72,
          353.4,
          330.22,
          417.09,
          435.71,
          466.45,
          459.27,
          615.93,
          740.74,
          970.43,
          1229.23,
          1469.25,
          1320.28,
          1148.09,
          879.82,
          1111.91,
          1211.92,
          1248.29,
          1418.3,
          1468.36,
          903.25,
          1115.1,
          1257.64,
          1257.6,
          1426.19,
          1848.36,
          2058.9,
          2043.94,
          2238.83,
          2673.61,
          2506.85,
          3230.78,
          3756.07,
          4766.18,
          3839.5
         ]
        },
        {
         "mode": "lines",
         "name": "Monthly  Estimate",
         "type": "scatter",
         "x": [
          "2008-09-01T00:00:00",
          "2008-10-01T00:00:00",
          "2008-11-01T00:00:00",
          "2008-12-01T00:00:00",
          "2009-01-01T00:00:00",
          "2009-02-01T00:00:00",
          "2009-03-01T00:00:00",
          "2009-04-01T00:00:00",
          "2009-05-01T00:00:00",
          "2009-06-01T00:00:00",
          "2009-07-01T00:00:00",
          "2009-08-01T00:00:00",
          "2009-09-01T00:00:00",
          "2009-10-01T00:00:00",
          "2009-11-01T00:00:00",
          "2009-12-01T00:00:00",
          "2010-01-01T00:00:00",
          "2010-02-01T00:00:00",
          "2010-03-01T00:00:00",
          "2010-04-01T00:00:00",
          "2010-05-01T00:00:00",
          "2010-06-01T00:00:00",
          "2010-07-01T00:00:00",
          "2010-08-01T00:00:00",
          "2010-09-01T00:00:00",
          "2010-10-01T00:00:00",
          "2010-11-01T00:00:00",
          "2010-12-01T00:00:00",
          "2011-01-01T00:00:00",
          "2011-02-01T00:00:00",
          "2011-03-01T00:00:00",
          "2011-04-01T00:00:00",
          "2011-05-01T00:00:00",
          "2011-06-01T00:00:00",
          "2011-07-01T00:00:00",
          "2011-08-01T00:00:00",
          "2011-09-01T00:00:00",
          "2011-10-01T00:00:00",
          "2011-11-01T00:00:00",
          "2011-12-01T00:00:00",
          "2012-01-01T00:00:00",
          "2012-02-01T00:00:00",
          "2012-03-01T00:00:00",
          "2012-04-01T00:00:00",
          "2012-05-01T00:00:00",
          "2012-06-01T00:00:00",
          "2012-07-01T00:00:00",
          "2012-08-01T00:00:00",
          "2012-09-01T00:00:00",
          "2012-10-01T00:00:00",
          "2012-11-01T00:00:00",
          "2012-12-01T00:00:00",
          "2013-01-01T00:00:00",
          "2013-02-01T00:00:00",
          "2013-03-01T00:00:00",
          "2013-04-01T00:00:00",
          "2013-05-01T00:00:00",
          "2013-06-01T00:00:00",
          "2013-07-01T00:00:00",
          "2013-08-01T00:00:00",
          "2013-09-01T00:00:00",
          "2013-10-01T00:00:00",
          "2013-11-01T00:00:00",
          "2013-12-01T00:00:00",
          "2014-01-01T00:00:00",
          "2014-02-01T00:00:00",
          "2014-03-01T00:00:00",
          "2014-04-01T00:00:00",
          "2014-05-01T00:00:00",
          "2014-06-01T00:00:00",
          "2014-07-01T00:00:00",
          "2014-08-01T00:00:00",
          "2014-09-01T00:00:00",
          "2014-10-01T00:00:00",
          "2014-11-01T00:00:00",
          "2014-12-01T00:00:00",
          "2015-01-01T00:00:00",
          "2015-02-01T00:00:00",
          "2015-03-01T00:00:00",
          "2015-04-01T00:00:00",
          "2015-05-01T00:00:00",
          "2015-06-01T00:00:00",
          "2015-07-01T00:00:00",
          "2015-08-01T00:00:00",
          "2015-09-01T00:00:00",
          "2015-10-01T00:00:00",
          "2015-11-01T00:00:00",
          "2015-12-01T00:00:00",
          "2016-01-01T00:00:00",
          "2016-02-01T00:00:00",
          "2016-03-01T00:00:00",
          "2016-04-01T00:00:00",
          "2016-05-01T00:00:00",
          "2016-06-01T00:00:00",
          "2016-07-01T00:00:00",
          "2016-08-01T00:00:00",
          "2016-09-01T00:00:00",
          "2016-10-01T00:00:00",
          "2016-11-01T00:00:00",
          "2016-12-01T00:00:00",
          "2017-01-01T00:00:00",
          "2017-02-01T00:00:00",
          "2017-03-01T00:00:00",
          "2017-04-01T00:00:00",
          "2017-05-01T00:00:00",
          "2017-06-01T00:00:00",
          "2017-07-01T00:00:00",
          "2017-08-01T00:00:00",
          "2017-09-01T00:00:00",
          "2017-10-01T00:00:00",
          "2017-11-01T00:00:00",
          "2017-12-01T00:00:00",
          "2018-01-01T00:00:00",
          "2018-02-01T00:00:00",
          "2018-03-01T00:00:00",
          "2018-04-01T00:00:00",
          "2018-05-01T00:00:00",
          "2018-06-01T00:00:00",
          "2018-07-01T00:00:00",
          "2018-08-01T00:00:00",
          "2018-09-01T00:00:00",
          "2018-10-01T00:00:00",
          "2018-11-01T00:00:00",
          "2018-12-01T00:00:00",
          "2019-01-01T00:00:00",
          "2019-02-01T00:00:00",
          "2019-03-01T00:00:00",
          "2019-04-01T00:00:00",
          "2019-05-01T00:00:00",
          "2019-06-01T00:00:00",
          "2019-07-01T00:00:00",
          "2019-08-01T00:00:00",
          "2019-09-01T00:00:00",
          "2019-10-01T00:00:00",
          "2019-11-01T00:00:00",
          "2019-12-01T00:00:00",
          "2020-01-01T00:00:00",
          "2020-02-01T00:00:00",
          "2020-03-01T00:00:00",
          "2020-04-01T00:00:00",
          "2020-05-01T00:00:00",
          "2020-06-01T00:00:00",
          "2020-07-01T00:00:00",
          "2020-08-01T00:00:00",
          "2020-09-01T00:00:00",
          "2020-10-01T00:00:00",
          "2020-11-01T00:00:00",
          "2020-12-01T00:00:00",
          "2021-01-01T00:00:00",
          "2021-02-01T00:00:00",
          "2021-03-01T00:00:00",
          "2021-04-01T00:00:00",
          "2021-05-01T00:00:00",
          "2021-06-01T00:00:00",
          "2021-07-01T00:00:00",
          "2021-08-01T00:00:00",
          "2021-09-01T00:00:00",
          "2021-10-01T00:00:00",
          "2021-11-01T00:00:00",
          "2021-12-01T00:00:00",
          "2022-01-01T00:00:00",
          "2022-02-01T00:00:00",
          "2022-03-01T00:00:00",
          "2022-04-01T00:00:00",
          "2022-05-01T00:00:00",
          "2022-06-01T00:00:00",
          "2022-07-01T00:00:00",
          "2022-08-01T00:00:00",
          "2022-09-01T00:00:00",
          "2022-10-01T00:00:00",
          "2022-11-01T00:00:00",
          "2022-12-01T00:00:00",
          "2023-01-01T00:00:00",
          "2023-02-01T00:00:00",
          "2023-03-01T00:00:00",
          "2023-04-01T00:00:00",
          "2023-05-01T00:00:00",
          "2023-06-01T00:00:00",
          "2023-07-01T00:00:00",
          "2023-08-01T00:00:00",
          "2023-09-01T00:00:00",
          "2023-10-01T00:00:00",
          "2023-11-01T00:00:00",
          "2023-12-01T00:00:00",
          "2024-01-01T00:00:00",
          "2024-02-01T00:00:00",
          "2024-03-01T00:00:00",
          "2024-04-01T00:00:00",
          "2024-05-01T00:00:00",
          "2024-06-01T00:00:00",
          "2024-07-01T00:00:00"
         ],
         "y": [
          1252,
          1166,
          969,
          896,
          903,
          826,
          735,
          798,
          873,
          919,
          919,
          987,
          1021,
          1057,
          1036,
          1096,
          1115,
          1074,
          1104,
          1169,
          1187,
          1089,
          1031,
          1106,
          1049,
          1141,
          1183,
          1181,
          1258,
          1286,
          1327,
          1326,
          1364,
          1345,
          1321,
          1292,
          1219,
          1131,
          1253,
          1247,
          1258,
          1312,
          1366,
          1408,
          1398,
          1310,
          1362,
          1379,
          1407,
          1441,
          1412,
          1416,
          1426,
          1498,
          1514.68,
          1569,
          1598,
          1631,
          1606,
          1686,
          1633,
          1682,
          1757,
          1806,
          1848,
          1783,
          1859,
          1874,
          1884,
          1924,
          1960,
          1931,
          2003,
          1973,
          2018,
          2068,
          2059,
          1995,
          2105,
          2068,
          2086,
          2107,
          2063,
          2104,
          1972,
          1920,
          2079,
          2080,
          2044,
          1940,
          1932,
          2060,
          2065,
          2097,
          2099,
          2174,
          2171,
          2168,
          2126,
          2199,
          2239,
          2279,
          2364,
          2363,
          2384,
          2412,
          2423,
          2470,
          2418,
          2519,
          2575,
          2648,
          2674,
          2824,
          2714,
          2641,
          2648,
          2705,
          2718,
          2816,
          2902,
          2914,
          2712,
          2760,
          2507,
          2704,
          2785,
          2834,
          2945,
          2752,
          2942,
          2980,
          2926,
          2977,
          3038,
          3141,
          3231,
          3226,
          2954,
          2585,
          2912.43,
          3044,
          3100,
          3271.12,
          3500,
          3363,
          3270,
          3622,
          3756,
          3714,
          3811,
          3973,
          4182,
          4204,
          4298,
          4395,
          4523,
          4308,
          4605,
          4567,
          4766.18,
          4515,
          4374,
          4530.41,
          4132,
          4132,
          3785.38,
          4130,
          3955,
          3596,
          3872,
          4080,
          3839.5,
          4077,
          3970,
          4109,
          4169,
          4180,
          4450,
          4589,
          4508,
          4288,
          4194,
          4568,
          4770,
          4846,
          5096,
          5254,
          5036,
          5277.51,
          5460.48
         ]
        }
       ],
       "layout": {
        "template": {
         "data": {
          "bar": [
           {
            "error_x": {
             "color": "#2a3f5f"
            },
            "error_y": {
             "color": "#2a3f5f"
            },
            "marker": {
             "line": {
              "color": "#E5ECF6",
              "width": 0.5
             },
             "pattern": {
              "fillmode": "overlay",
              "size": 10,
              "solidity": 0.2
             }
            },
            "type": "bar"
           }
          ],
          "barpolar": [
           {
            "marker": {
             "line": {
              "color": "#E5ECF6",
              "width": 0.5
             },
             "pattern": {
              "fillmode": "overlay",
              "size": 10,
              "solidity": 0.2
             }
            },
            "type": "barpolar"
           }
          ],
          "carpet": [
           {
            "aaxis": {
             "endlinecolor": "#2a3f5f",
             "gridcolor": "white",
             "linecolor": "white",
             "minorgridcolor": "white",
             "startlinecolor": "#2a3f5f"
            },
            "baxis": {
             "endlinecolor": "#2a3f5f",
             "gridcolor": "white",
             "linecolor": "white",
             "minorgridcolor": "white",
             "startlinecolor": "#2a3f5f"
            },
            "type": "carpet"
           }
          ],
          "choropleth": [
           {
            "colorbar": {
             "outlinewidth": 0,
             "ticks": ""
            },
            "type": "choropleth"
           }
          ],
          "contour": [
           {
            "colorbar": {
             "outlinewidth": 0,
             "ticks": ""
            },
            "colorscale": [
             [
              0,
              "#0d0887"
             ],
             [
              0.1111111111111111,
              "#46039f"
             ],
             [
              0.2222222222222222,
              "#7201a8"
             ],
             [
              0.3333333333333333,
              "#9c179e"
             ],
             [
              0.4444444444444444,
              "#bd3786"
             ],
             [
              0.5555555555555556,
              "#d8576b"
             ],
             [
              0.6666666666666666,
              "#ed7953"
             ],
             [
              0.7777777777777778,
              "#fb9f3a"
             ],
             [
              0.8888888888888888,
              "#fdca26"
             ],
             [
              1,
              "#f0f921"
             ]
            ],
            "type": "contour"
           }
          ],
          "contourcarpet": [
           {
            "colorbar": {
             "outlinewidth": 0,
             "ticks": ""
            },
            "type": "contourcarpet"
           }
          ],
          "heatmap": [
           {
            "colorbar": {
             "outlinewidth": 0,
             "ticks": ""
            },
            "colorscale": [
             [
              0,
              "#0d0887"
             ],
             [
              0.1111111111111111,
              "#46039f"
             ],
             [
              0.2222222222222222,
              "#7201a8"
             ],
             [
              0.3333333333333333,
              "#9c179e"
             ],
             [
              0.4444444444444444,
              "#bd3786"
             ],
             [
              0.5555555555555556,
              "#d8576b"
             ],
             [
              0.6666666666666666,
              "#ed7953"
             ],
             [
              0.7777777777777778,
              "#fb9f3a"
             ],
             [
              0.8888888888888888,
              "#fdca26"
             ],
             [
              1,
              "#f0f921"
             ]
            ],
            "type": "heatmap"
           }
          ],
          "heatmapgl": [
           {
            "colorbar": {
             "outlinewidth": 0,
             "ticks": ""
            },
            "colorscale": [
             [
              0,
              "#0d0887"
             ],
             [
              0.1111111111111111,
              "#46039f"
             ],
             [
              0.2222222222222222,
              "#7201a8"
             ],
             [
              0.3333333333333333,
              "#9c179e"
             ],
             [
              0.4444444444444444,
              "#bd3786"
             ],
             [
              0.5555555555555556,
              "#d8576b"
             ],
             [
              0.6666666666666666,
              "#ed7953"
             ],
             [
              0.7777777777777778,
              "#fb9f3a"
             ],
             [
              0.8888888888888888,
              "#fdca26"
             ],
             [
              1,
              "#f0f921"
             ]
            ],
            "type": "heatmapgl"
           }
          ],
          "histogram": [
           {
            "marker": {
             "pattern": {
              "fillmode": "overlay",
              "size": 10,
              "solidity": 0.2
             }
            },
            "type": "histogram"
           }
          ],
          "histogram2d": [
           {
            "colorbar": {
             "outlinewidth": 0,
             "ticks": ""
            },
            "colorscale": [
             [
              0,
              "#0d0887"
             ],
             [
              0.1111111111111111,
              "#46039f"
             ],
             [
              0.2222222222222222,
              "#7201a8"
             ],
             [
              0.3333333333333333,
              "#9c179e"
             ],
             [
              0.4444444444444444,
              "#bd3786"
             ],
             [
              0.5555555555555556,
              "#d8576b"
             ],
             [
              0.6666666666666666,
              "#ed7953"
             ],
             [
              0.7777777777777778,
              "#fb9f3a"
             ],
             [
              0.8888888888888888,
              "#fdca26"
             ],
             [
              1,
              "#f0f921"
             ]
            ],
            "type": "histogram2d"
           }
          ],
          "histogram2dcontour": [
           {
            "colorbar": {
             "outlinewidth": 0,
             "ticks": ""
            },
            "colorscale": [
             [
              0,
              "#0d0887"
             ],
             [
              0.1111111111111111,
              "#46039f"
             ],
             [
              0.2222222222222222,
              "#7201a8"
             ],
             [
              0.3333333333333333,
              "#9c179e"
             ],
             [
              0.4444444444444444,
              "#bd3786"
             ],
             [
              0.5555555555555556,
              "#d8576b"
             ],
             [
              0.6666666666666666,
              "#ed7953"
             ],
             [
              0.7777777777777778,
              "#fb9f3a"
             ],
             [
              0.8888888888888888,
              "#fdca26"
             ],
             [
              1,
              "#f0f921"
             ]
            ],
            "type": "histogram2dcontour"
           }
          ],
          "mesh3d": [
           {
            "colorbar": {
             "outlinewidth": 0,
             "ticks": ""
            },
            "type": "mesh3d"
           }
          ],
          "parcoords": [
           {
            "line": {
             "colorbar": {
              "outlinewidth": 0,
              "ticks": ""
             }
            },
            "type": "parcoords"
           }
          ],
          "pie": [
           {
            "automargin": true,
            "type": "pie"
           }
          ],
          "scatter": [
           {
            "fillpattern": {
             "fillmode": "overlay",
             "size": 10,
             "solidity": 0.2
            },
            "type": "scatter"
           }
          ],
          "scatter3d": [
           {
            "line": {
             "colorbar": {
              "outlinewidth": 0,
              "ticks": ""
             }
            },
            "marker": {
             "colorbar": {
              "outlinewidth": 0,
              "ticks": ""
             }
            },
            "type": "scatter3d"
           }
          ],
          "scattercarpet": [
           {
            "marker": {
             "colorbar": {
              "outlinewidth": 0,
              "ticks": ""
             }
            },
            "type": "scattercarpet"
           }
          ],
          "scattergeo": [
           {
            "marker": {
             "colorbar": {
              "outlinewidth": 0,
              "ticks": ""
             }
            },
            "type": "scattergeo"
           }
          ],
          "scattergl": [
           {
            "marker": {
             "colorbar": {
              "outlinewidth": 0,
              "ticks": ""
             }
            },
            "type": "scattergl"
           }
          ],
          "scattermapbox": [
           {
            "marker": {
             "colorbar": {
              "outlinewidth": 0,
              "ticks": ""
             }
            },
            "type": "scattermapbox"
           }
          ],
          "scatterpolar": [
           {
            "marker": {
             "colorbar": {
              "outlinewidth": 0,
              "ticks": ""
             }
            },
            "type": "scatterpolar"
           }
          ],
          "scatterpolargl": [
           {
            "marker": {
             "colorbar": {
              "outlinewidth": 0,
              "ticks": ""
             }
            },
            "type": "scatterpolargl"
           }
          ],
          "scatterternary": [
           {
            "marker": {
             "colorbar": {
              "outlinewidth": 0,
              "ticks": ""
             }
            },
            "type": "scatterternary"
           }
          ],
          "surface": [
           {
            "colorbar": {
             "outlinewidth": 0,
             "ticks": ""
            },
            "colorscale": [
             [
              0,
              "#0d0887"
             ],
             [
              0.1111111111111111,
              "#46039f"
             ],
             [
              0.2222222222222222,
              "#7201a8"
             ],
             [
              0.3333333333333333,
              "#9c179e"
             ],
             [
              0.4444444444444444,
              "#bd3786"
             ],
             [
              0.5555555555555556,
              "#d8576b"
             ],
             [
              0.6666666666666666,
              "#ed7953"
             ],
             [
              0.7777777777777778,
              "#fb9f3a"
             ],
             [
              0.8888888888888888,
              "#fdca26"
             ],
             [
              1,
              "#f0f921"
             ]
            ],
            "type": "surface"
           }
          ],
          "table": [
           {
            "cells": {
             "fill": {
              "color": "#EBF0F8"
             },
             "line": {
              "color": "white"
             }
            },
            "header": {
             "fill": {
              "color": "#C8D4E3"
             },
             "line": {
              "color": "white"
             }
            },
            "type": "table"
           }
          ]
         },
         "layout": {
          "annotationdefaults": {
           "arrowcolor": "#2a3f5f",
           "arrowhead": 0,
           "arrowwidth": 1
          },
          "autotypenumbers": "strict",
          "coloraxis": {
           "colorbar": {
            "outlinewidth": 0,
            "ticks": ""
           }
          },
          "colorscale": {
           "diverging": [
            [
             0,
             "#8e0152"
            ],
            [
             0.1,
             "#c51b7d"
            ],
            [
             0.2,
             "#de77ae"
            ],
            [
             0.3,
             "#f1b6da"
            ],
            [
             0.4,
             "#fde0ef"
            ],
            [
             0.5,
             "#f7f7f7"
            ],
            [
             0.6,
             "#e6f5d0"
            ],
            [
             0.7,
             "#b8e186"
            ],
            [
             0.8,
             "#7fbc41"
            ],
            [
             0.9,
             "#4d9221"
            ],
            [
             1,
             "#276419"
            ]
           ],
           "sequential": [
            [
             0,
             "#0d0887"
            ],
            [
             0.1111111111111111,
             "#46039f"
            ],
            [
             0.2222222222222222,
             "#7201a8"
            ],
            [
             0.3333333333333333,
             "#9c179e"
            ],
            [
             0.4444444444444444,
             "#bd3786"
            ],
            [
             0.5555555555555556,
             "#d8576b"
            ],
            [
             0.6666666666666666,
             "#ed7953"
            ],
            [
             0.7777777777777778,
             "#fb9f3a"
            ],
            [
             0.8888888888888888,
             "#fdca26"
            ],
            [
             1,
             "#f0f921"
            ]
           ],
           "sequentialminus": [
            [
             0,
             "#0d0887"
            ],
            [
             0.1111111111111111,
             "#46039f"
            ],
            [
             0.2222222222222222,
             "#7201a8"
            ],
            [
             0.3333333333333333,
             "#9c179e"
            ],
            [
             0.4444444444444444,
             "#bd3786"
            ],
            [
             0.5555555555555556,
             "#d8576b"
            ],
            [
             0.6666666666666666,
             "#ed7953"
            ],
            [
             0.7777777777777778,
             "#fb9f3a"
            ],
            [
             0.8888888888888888,
             "#fdca26"
            ],
            [
             1,
             "#f0f921"
            ]
           ]
          },
          "colorway": [
           "#636efa",
           "#EF553B",
           "#00cc96",
           "#ab63fa",
           "#FFA15A",
           "#19d3f3",
           "#FF6692",
           "#B6E880",
           "#FF97FF",
           "#FECB52"
          ],
          "font": {
           "color": "#2a3f5f"
          },
          "geo": {
           "bgcolor": "white",
           "lakecolor": "white",
           "landcolor": "#E5ECF6",
           "showlakes": true,
           "showland": true,
           "subunitcolor": "white"
          },
          "hoverlabel": {
           "align": "left"
          },
          "hovermode": "closest",
          "mapbox": {
           "style": "light"
          },
          "paper_bgcolor": "white",
          "plot_bgcolor": "#E5ECF6",
          "polar": {
           "angularaxis": {
            "gridcolor": "white",
            "linecolor": "white",
            "ticks": ""
           },
           "bgcolor": "#E5ECF6",
           "radialaxis": {
            "gridcolor": "white",
            "linecolor": "white",
            "ticks": ""
           }
          },
          "scene": {
           "xaxis": {
            "backgroundcolor": "#E5ECF6",
            "gridcolor": "white",
            "gridwidth": 2,
            "linecolor": "white",
            "showbackground": true,
            "ticks": "",
            "zerolinecolor": "white"
           },
           "yaxis": {
            "backgroundcolor": "#E5ECF6",
            "gridcolor": "white",
            "gridwidth": 2,
            "linecolor": "white",
            "showbackground": true,
            "ticks": "",
            "zerolinecolor": "white"
           },
           "zaxis": {
            "backgroundcolor": "#E5ECF6",
            "gridcolor": "white",
            "gridwidth": 2,
            "linecolor": "white",
            "showbackground": true,
            "ticks": "",
            "zerolinecolor": "white"
           }
          },
          "shapedefaults": {
           "line": {
            "color": "#2a3f5f"
           }
          },
          "ternary": {
           "aaxis": {
            "gridcolor": "white",
            "linecolor": "white",
            "ticks": ""
           },
           "baxis": {
            "gridcolor": "white",
            "linecolor": "white",
            "ticks": ""
           },
           "bgcolor": "#E5ECF6",
           "caxis": {
            "gridcolor": "white",
            "linecolor": "white",
            "ticks": ""
           }
          },
          "title": {
           "x": 0.05
          },
          "xaxis": {
           "automargin": true,
           "gridcolor": "white",
           "linecolor": "white",
           "ticks": "",
           "title": {
            "standoff": 15
           },
           "zerolinecolor": "white",
           "zerolinewidth": 2
          },
          "yaxis": {
           "automargin": true,
           "gridcolor": "white",
           "linecolor": "white",
           "ticks": "",
           "title": {
            "standoff": 15
           },
           "zerolinecolor": "white",
           "zerolinewidth": 2
          }
         }
        },
        "xaxis": {
         "title": {
          "text": "Date of Estimation"
         }
        },
        "yaxis": {
         "title": {
          "text": "S&P 500 price"
         },
         "type": "log"
        }
       }
      }
     },
     "metadata": {},
     "output_type": "display_data"
    }
   ],
   "source": [
    "fig = go.Figure()\n",
    "fig.add_trace(go.Scatter(x=dfy[\"Date\"], y=dfy[\"Implied ERP (FCFE)\"], mode=\"lines+markers\", name=\"Yearly Estimate\"))\n",
    "fig.add_trace(go.Scatter(x=dfm[\"Date\"], y=dfm[\"ERP (T12m)\"], mode=\"lines\", name=\"Monthly  Estimate\"))\n",
    "fig.update_layout(xaxis_title=\"Date of Estimation\", yaxis_title=\"Implied ERP\", yaxis_type=\"linear\", yaxis_tickformat=',.0%')\n",
    "fig.show()\n",
    "\n",
    "fig = go.Figure()\n",
    "fig.add_trace(go.Scatter(x=dfy[\"Date\"], y=dfy[\"T.Bond Rate\"], mode=\"lines+markers\", name=\"RFR Yearly Estimate\"))\n",
    "fig.add_trace(go.Scatter(x=dfm[\"Date\"], y=dfm[\"T.Bond Rate\"], mode=\"lines\", name=\"RFR Monthly Estimate\"))\n",
    "fig.add_trace(go.Scatter(x=dfy[\"Date\"], y=dfy[\"T.Bond Rate\"]+dfy[\"Implied ERP (FCFE)\"], mode=\"lines+markers\", name=\"RFR+ERP Yearly Estimate\"))\n",
    "fig.add_trace(go.Scatter(x=dfm[\"Date\"], y=dfm[\"T.Bond Rate\"]+dfm[\"ERP (T12m)\"], mode=\"lines\", name=\"RFR+ERP  Monthly Estimate\"))\n",
    "fig.update_layout(xaxis_title=\"Date of Estimation\", yaxis_title=\"T.Bond Rate + ERP\", yaxis_type=\"linear\", yaxis_tickformat=',.0%')\n",
    "fig.show()\n",
    "\n",
    "fig = go.Figure()\n",
    "fig.add_trace(go.Scatter(x=dfy[\"Date\"], y=dfy[\"Analyst Growth Estimate\"], mode=\"lines+markers\", name=\"Yearly Estimate\"))\n",
    "fig.add_trace(go.Scatter(x=dfm[\"Date\"], y=dfm[\"Expected growth rate\"], mode=\"lines\", name=\"Monthly  Estimate\"))\n",
    "fig.update_layout(xaxis_title=\"Date of Estimation\", yaxis_title=\"Growth estimate\", yaxis_type=\"linear\", yaxis_tickformat=',.0%')\n",
    "fig.show()\n",
    "\n",
    "fig = go.Figure()\n",
    "fig.add_trace(go.Scatter(x=dfy[\"Date\"], y=dfy[\"S&P 500\"], mode=\"lines+markers\", name=\"Yearly Estimate\"))\n",
    "fig.add_trace(go.Scatter(x=dfm[\"Date\"], y=dfm[\"S&P 500\"], mode=\"lines\", name=\"Monthly  Estimate\"))\n",
    "fig.update_layout(xaxis_title=\"Date of Estimation\", yaxis_title=\"S&P 500 price\", yaxis_type=\"log\")\n",
    "fig.show()\n",
    "\n"
   ]
  },
  {
   "cell_type": "code",
   "execution_count": 7,
   "id": "4c3e80cf",
   "metadata": {},
   "outputs": [
    {
     "data": {
      "application/vnd.plotly.v1+json": {
       "config": {
        "plotlyServerURL": "https://plot.ly"
       },
       "data": [
        {
         "hovertext": [
          "Date: 1961-01-01",
          "Date: 1962-01-01",
          "Date: 1963-01-01",
          "Date: 1964-01-01",
          "Date: 1965-01-01",
          "Date: 1966-01-01",
          "Date: 1967-01-01",
          "Date: 1968-01-01",
          "Date: 1969-01-01",
          "Date: 1970-01-01",
          "Date: 1971-01-01",
          "Date: 1972-01-01",
          "Date: 1973-01-01",
          "Date: 1974-01-01",
          "Date: 1975-01-01",
          "Date: 1976-01-01",
          "Date: 1977-01-01",
          "Date: 1978-01-01",
          "Date: 1979-01-01",
          "Date: 1980-01-01",
          "Date: 1981-01-01",
          "Date: 1982-01-01",
          "Date: 1983-01-01",
          "Date: 1984-01-01",
          "Date: 1985-01-01",
          "Date: 1986-01-01",
          "Date: 1987-01-01",
          "Date: 1988-01-01",
          "Date: 1989-01-01",
          "Date: 1990-01-01",
          "Date: 1991-01-01",
          "Date: 1992-01-01",
          "Date: 1993-01-01",
          "Date: 1994-01-01",
          "Date: 1995-01-01",
          "Date: 1996-01-01",
          "Date: 1997-01-01",
          "Date: 1998-01-01",
          "Date: 1999-01-01",
          "Date: 2000-01-01",
          "Date: 2001-01-01",
          "Date: 2002-01-01",
          "Date: 2003-01-01",
          "Date: 2004-01-01",
          "Date: 2005-01-01",
          "Date: 2006-01-01",
          "Date: 2007-01-01",
          "Date: 2008-01-01",
          "Date: 2009-01-01",
          "Date: 2010-01-01",
          "Date: 2011-01-01",
          "Date: 2012-01-01",
          "Date: 2013-01-01",
          "Date: 2014-01-01",
          "Date: 2015-01-01",
          "Date: 2016-01-01",
          "Date: 2017-01-01",
          "Date: 2018-01-01",
          "Date: 2019-01-01",
          "Date: 2020-01-01",
          "Date: 2021-01-01",
          "Date: 2022-01-01",
          "Date: 2023-01-01"
         ],
         "mode": "markers",
         "name": "Yearly Estimate",
         "type": "scatter",
         "x": [
          null,
          null,
          null,
          null,
          null,
          null,
          null,
          null,
          null,
          null,
          null,
          null,
          null,
          null,
          null,
          null,
          null,
          null,
          null,
          null,
          null,
          null,
          null,
          null,
          null,
          0.0675,
          0.0696,
          0.0858,
          0.0767,
          0.0746,
          0.0719,
          0.0781,
          0.0983,
          0.08,
          0.0717,
          0.065,
          0.0792,
          0.08,
          0.072,
          0.125,
          0.12,
          0.103,
          0.08,
          0.11,
          0.085,
          0.08,
          0.125,
          0.05,
          0.04,
          0.072,
          0.0695,
          0.0718,
          0.0527,
          0.0428,
          0.0558,
          0.0551,
          0.0554,
          0.0705,
          0.0412,
          0.0396,
          0.0542,
          0.0647,
          0.0641
         ],
         "y": [
          null,
          0.0292,
          0.0356,
          0.0338,
          0.0331,
          0.0332,
          0.0368,
          0.032,
          0.03,
          0.0374,
          0.0341,
          0.0309,
          0.0272,
          0.043,
          0.0559,
          0.0413,
          0.0455,
          0.0592,
          0.0572,
          0.0645,
          0.0503,
          0.0573,
          0.049,
          0.0431,
          0.0511,
          0.0384,
          0.0358,
          0.0399,
          0.0377,
          0.0351,
          0.0389,
          0.0348,
          0.0355,
          0.0317,
          0.0355,
          0.0329,
          0.032,
          0.0273,
          0.0226,
          0.0205,
          0.0287,
          0.0362,
          0.041,
          0.0369,
          0.0365,
          0.0408,
          0.0416,
          0.0437,
          0.0643,
          0.0436,
          0.052,
          0.0601,
          0.0578,
          0.0496,
          0.0578,
          0.0612,
          0.0569,
          0.0508,
          0.0596,
          0.052,
          0.0472,
          0.0424,
          0.0594
         ]
        },
        {
         "hovertext": [
          "Date: 2008-09-01",
          "Date: 2008-10-01",
          "Date: 2008-11-01",
          "Date: 2008-12-01",
          "Date: 2009-01-01",
          "Date: 2009-02-01",
          "Date: 2009-03-01",
          "Date: 2009-04-01",
          "Date: 2009-05-01",
          "Date: 2009-06-01",
          "Date: 2009-07-01",
          "Date: 2009-08-01",
          "Date: 2009-09-01",
          "Date: 2009-10-01",
          "Date: 2009-11-01",
          "Date: 2009-12-01",
          "Date: 2010-01-01",
          "Date: 2010-02-01",
          "Date: 2010-03-01",
          "Date: 2010-04-01",
          "Date: 2010-05-01",
          "Date: 2010-06-01",
          "Date: 2010-07-01",
          "Date: 2010-08-01",
          "Date: 2010-09-01",
          "Date: 2010-10-01",
          "Date: 2010-11-01",
          "Date: 2010-12-01",
          "Date: 2011-01-01",
          "Date: 2011-02-01",
          "Date: 2011-03-01",
          "Date: 2011-04-01",
          "Date: 2011-05-01",
          "Date: 2011-06-01",
          "Date: 2011-07-01",
          "Date: 2011-08-01",
          "Date: 2011-09-01",
          "Date: 2011-10-01",
          "Date: 2011-11-01",
          "Date: 2011-12-01",
          "Date: 2012-01-01",
          "Date: 2012-02-01",
          "Date: 2012-03-01",
          "Date: 2012-04-01",
          "Date: 2012-05-01",
          "Date: 2012-06-01",
          "Date: 2012-07-01",
          "Date: 2012-08-01",
          "Date: 2012-09-01",
          "Date: 2012-10-01",
          "Date: 2012-11-01",
          "Date: 2012-12-01",
          "Date: 2013-01-01",
          "Date: 2013-02-01",
          "Date: 2013-03-01",
          "Date: 2013-04-01",
          "Date: 2013-05-01",
          "Date: 2013-06-01",
          "Date: 2013-07-01",
          "Date: 2013-08-01",
          "Date: 2013-09-01",
          "Date: 2013-10-01",
          "Date: 2013-11-01",
          "Date: 2013-12-01",
          "Date: 2014-01-01",
          "Date: 2014-02-01",
          "Date: 2014-03-01",
          "Date: 2014-04-01",
          "Date: 2014-05-01",
          "Date: 2014-06-01",
          "Date: 2014-07-01",
          "Date: 2014-08-01",
          "Date: 2014-09-01",
          "Date: 2014-10-01",
          "Date: 2014-11-01",
          "Date: 2014-12-01",
          "Date: 2015-01-01",
          "Date: 2015-02-01",
          "Date: 2015-03-01",
          "Date: 2015-04-01",
          "Date: 2015-05-01",
          "Date: 2015-06-01",
          "Date: 2015-07-01",
          "Date: 2015-08-01",
          "Date: 2015-09-01",
          "Date: 2015-10-01",
          "Date: 2015-11-01",
          "Date: 2015-12-01",
          "Date: 2016-01-01",
          "Date: 2016-02-01",
          "Date: 2016-03-01",
          "Date: 2016-04-01",
          "Date: 2016-05-01",
          "Date: 2016-06-01",
          "Date: 2016-07-01",
          "Date: 2016-08-01",
          "Date: 2016-09-01",
          "Date: 2016-10-01",
          "Date: 2016-11-01",
          "Date: 2016-12-01",
          "Date: 2017-01-01",
          "Date: 2017-02-01",
          "Date: 2017-03-01",
          "Date: 2017-04-01",
          "Date: 2017-05-01",
          "Date: 2017-06-01",
          "Date: 2017-07-01",
          "Date: 2017-08-01",
          "Date: 2017-09-01",
          "Date: 2017-10-01",
          "Date: 2017-11-01",
          "Date: 2017-12-01",
          "Date: 2018-01-01",
          "Date: 2018-02-01",
          "Date: 2018-03-01",
          "Date: 2018-04-01",
          "Date: 2018-05-01",
          "Date: 2018-06-01",
          "Date: 2018-07-01",
          "Date: 2018-08-01",
          "Date: 2018-09-01",
          "Date: 2018-10-01",
          "Date: 2018-11-01",
          "Date: 2018-12-01",
          "Date: 2019-01-01",
          "Date: 2019-02-01",
          "Date: 2019-03-01",
          "Date: 2019-04-01",
          "Date: 2019-05-01",
          "Date: 2019-06-01",
          "Date: 2019-07-01",
          "Date: 2019-08-01",
          "Date: 2019-09-01",
          "Date: 2019-10-01",
          "Date: 2019-11-01",
          "Date: 2019-12-01",
          "Date: 2020-01-01",
          "Date: 2020-02-01",
          "Date: 2020-03-01",
          "Date: 2020-04-01",
          "Date: 2020-05-01",
          "Date: 2020-06-01",
          "Date: 2020-07-01",
          "Date: 2020-08-01",
          "Date: 2020-09-01",
          "Date: 2020-10-01",
          "Date: 2020-11-01",
          "Date: 2020-12-01",
          "Date: 2021-01-01",
          "Date: 2021-02-01",
          "Date: 2021-03-01",
          "Date: 2021-04-01",
          "Date: 2021-05-01",
          "Date: 2021-06-01",
          "Date: 2021-07-01",
          "Date: 2021-08-01",
          "Date: 2021-09-01",
          "Date: 2021-10-01",
          "Date: 2021-11-01",
          "Date: 2021-12-01",
          "Date: 2022-01-01",
          "Date: 2022-02-01",
          "Date: 2022-03-01",
          "Date: 2022-04-01",
          "Date: 2022-05-01",
          "Date: 2022-06-01",
          "Date: 2022-07-01",
          "Date: 2022-08-01",
          "Date: 2022-09-01",
          "Date: 2022-10-01",
          "Date: 2022-11-01",
          "Date: 2022-12-01",
          "Date: 2023-01-01",
          "Date: 2023-02-01",
          "Date: 2023-03-01",
          "Date: 2023-04-01",
          "Date: 2023-05-01",
          "Date: 2023-06-01",
          "Date: 2023-07-01",
          "Date: 2023-08-01",
          "Date: 2023-09-01",
          "Date: 2023-10-01",
          "Date: 2023-11-01",
          "Date: 2023-12-01",
          "Date: 2024-01-01",
          "Date: 2024-02-01",
          "Date: 2024-03-01",
          "Date: 2024-04-01",
          "Date: 2024-05-01",
          "Date: 2024-06-01",
          "Date: 2024-07-01"
         ],
         "mode": "markers",
         "name": "Monthly  Estimate",
         "type": "scatter",
         "x": [
          null,
          null,
          null,
          null,
          0.04,
          0.04,
          0.04,
          0.04,
          0.04,
          0.04,
          0.04,
          0.04,
          0.04,
          0.04,
          0.04,
          0.04,
          0.0721,
          0.0721,
          0.0721,
          0.0721,
          0.0721,
          0.0721,
          0.0721,
          0.0721,
          0.0721,
          0.0721,
          0.0721,
          0.0721,
          0.0695,
          0.0695,
          0.0695,
          0.0695,
          0.0695,
          0.0695,
          0.0695,
          0.0695,
          0.0695,
          0.0695,
          0.055,
          0.055,
          0.0718,
          0.0718,
          0.0718,
          0.0718,
          0.0718,
          0.0718,
          0.0656,
          0.0656,
          0.0656,
          0.0656,
          0.0656,
          0.0656,
          0.0527,
          0.0527,
          0.0532,
          0.0531,
          0.0523,
          0.0543,
          0.0557,
          0.055999999999999994,
          0.0569,
          0.0562,
          0.0559,
          0.0567,
          0.0428,
          0.0413,
          0.0413,
          0.0415,
          0.041299999999999996,
          0.0406,
          0.0407,
          0.0409,
          0.04,
          0.0404,
          0.04,
          0.0393,
          0.0558,
          0.0538,
          0.0551,
          0.0548,
          0.0553,
          0.0556,
          0.0565,
          0.0558,
          0.0632,
          0.0625,
          0.0629,
          0.0632,
          0.0555,
          0.0538,
          0.0529,
          0.053200000000000004,
          0.0533,
          0.0533,
          0.0515,
          0.0514,
          0.0521,
          0.0521,
          0.0532,
          0.0562,
          0.0554,
          0.0555,
          0.0551,
          0.0551,
          0.0546,
          0.0542,
          0.0546,
          0.0546,
          0.0537,
          0.0548,
          0.055,
          0.0552,
          0.0705,
          0.0717,
          0.0722,
          0.0717,
          0.0724,
          0.0722,
          0.0721,
          0.0725,
          0.0721,
          0.0728,
          0.0732,
          0.0726,
          0.0412,
          0.0411,
          0.0414,
          0.0407,
          0.0411,
          0.0362,
          0.0344,
          0.0345,
          0.0324,
          0.0331,
          0.0331,
          0.0335,
          0.0396,
          0.0379,
          0.0336,
          0.0318,
          0.0316,
          0.0333,
          0.0333,
          0.0328,
          0.0335,
          0.0381,
          0.0386,
          0.0437,
          0.0542,
          0.0809,
          0.0844,
          0.0876,
          0.0897,
          0.0969,
          0.0979,
          0.0977,
          0.1231,
          0.123,
          0.1239,
          0.132,
          0.0647,
          0.0715,
          0.0717,
          0.0737,
          0.0767,
          0.073,
          0.0779,
          0.0707,
          0.0662,
          0.0672,
          0.0575,
          0.0566,
          0.0641,
          0.0592,
          0.0574,
          0.0573,
          0.0542,
          0.0543,
          0.0708,
          0.0711,
          0.0714,
          0.0763,
          0.0758,
          0.0732,
          0.0874,
          0.0853,
          0.089,
          0.0905,
          0.0939,
          0.0953,
          0.0947
         ],
         "y": [
          0.0422,
          0.0451,
          0.059,
          0.066,
          0.0643,
          0.0687,
          0.0768,
          0.0701,
          0.0632,
          0.0594,
          0.0586,
          0.0546,
          0.053,
          0.0486,
          0.0497,
          0.0473,
          0.0436,
          0.0456,
          0.0444,
          0.0416,
          0.0454,
          0.0479,
          0.051,
          0.0478,
          0.051,
          0.0531,
          0.0511,
          0.0508,
          0.052,
          0.0507,
          0.049,
          0.053099999999999994,
          0.0516,
          0.0527,
          0.0572,
          0.0592,
          0.0639,
          0.0764,
          0.0649,
          0.0651,
          0.0732,
          0.0704,
          0.0673,
          0.0664,
          0.0676,
          0.0728,
          0.0659,
          0.0655,
          0.0641,
          0.0635,
          0.0644,
          0.0645,
          0.06,
          0.0567,
          0.0565,
          0.0568,
          0.056,
          0.0545,
          0.057300000000000004,
          0.0546,
          0.0562,
          0.0559,
          0.0536,
          0.0519,
          0.0496,
          0.051699999999999996,
          0.0496,
          0.0515,
          0.0512,
          0.0503,
          0.0538,
          0.0545,
          0.0528,
          0.0543,
          0.0532,
          0.0521,
          0.057800000000000004,
          0.0601,
          0.0567,
          0.058600000000000006,
          0.058,
          0.0574,
          0.0581,
          0.059,
          0.06280000000000001,
          0.0663,
          0.0612,
          0.0611,
          0.0612,
          0.0647,
          0.0651,
          0.062400000000000004,
          0.0622,
          0.061200000000000004,
          0.06269999999999999,
          0.0606,
          0.060599999999999994,
          0.0616,
          0.0626,
          0.0602,
          0.0569,
          0.0559,
          0.0539,
          0.0538,
          0.0534,
          0.0529,
          0.0513,
          0.0503,
          0.0504,
          0.0492,
          0.0481,
          0.0468,
          0.0508,
          0.0478,
          0.0496,
          0.0519,
          0.0516,
          0.0506,
          0.0537,
          0.0518,
          0.0504,
          0.0538,
          0.0576,
          0.0568,
          0.0596,
          0.0553,
          0.0536,
          0.0575,
          0.0562,
          0.0593,
          0.0567,
          0.0559,
          0.0575,
          0.0555,
          0.0544,
          0.0525,
          0.052,
          0.0524,
          0.0569,
          0.0616,
          0.0565,
          0.0545,
          0.0537,
          0.051,
          0.0474,
          0.0474,
          0.0485,
          0.0449,
          0.042,
          0.0476,
          0.0463,
          0.0414,
          0.0399,
          0.041,
          0.0396,
          0.0391,
          0.0421,
          0.0487,
          0.0458,
          0.0479,
          0.0424,
          0.0456,
          0.0475,
          0.0473,
          0.0514,
          0.0507,
          0.0601,
          0.0542,
          0.0545,
          0.0621,
          0.0548,
          0.0526,
          0.0594,
          0.0554,
          0.0558,
          0.0544,
          0.053,
          0.0525,
          0.05,
          0.0483,
          0.049,
          0.0484,
          0.0488,
          0.0453,
          0.046,
          0.045,
          0.0433,
          0.0423,
          0.044,
          0.0427,
          0.0412
         ]
        },
        {
         "hovertext": [
          "Date: 2024-07-01"
         ],
         "marker": {
          "opacity": 0.5,
          "size": 20
         },
         "mode": "markers",
         "name": "Now - 2024-07-01",
         "type": "scatter",
         "x": [
          0.0947
         ],
         "y": [
          0.0412
         ]
        }
       ],
       "layout": {
        "height": 800,
        "template": {
         "data": {
          "bar": [
           {
            "error_x": {
             "color": "#2a3f5f"
            },
            "error_y": {
             "color": "#2a3f5f"
            },
            "marker": {
             "line": {
              "color": "#E5ECF6",
              "width": 0.5
             },
             "pattern": {
              "fillmode": "overlay",
              "size": 10,
              "solidity": 0.2
             }
            },
            "type": "bar"
           }
          ],
          "barpolar": [
           {
            "marker": {
             "line": {
              "color": "#E5ECF6",
              "width": 0.5
             },
             "pattern": {
              "fillmode": "overlay",
              "size": 10,
              "solidity": 0.2
             }
            },
            "type": "barpolar"
           }
          ],
          "carpet": [
           {
            "aaxis": {
             "endlinecolor": "#2a3f5f",
             "gridcolor": "white",
             "linecolor": "white",
             "minorgridcolor": "white",
             "startlinecolor": "#2a3f5f"
            },
            "baxis": {
             "endlinecolor": "#2a3f5f",
             "gridcolor": "white",
             "linecolor": "white",
             "minorgridcolor": "white",
             "startlinecolor": "#2a3f5f"
            },
            "type": "carpet"
           }
          ],
          "choropleth": [
           {
            "colorbar": {
             "outlinewidth": 0,
             "ticks": ""
            },
            "type": "choropleth"
           }
          ],
          "contour": [
           {
            "colorbar": {
             "outlinewidth": 0,
             "ticks": ""
            },
            "colorscale": [
             [
              0,
              "#0d0887"
             ],
             [
              0.1111111111111111,
              "#46039f"
             ],
             [
              0.2222222222222222,
              "#7201a8"
             ],
             [
              0.3333333333333333,
              "#9c179e"
             ],
             [
              0.4444444444444444,
              "#bd3786"
             ],
             [
              0.5555555555555556,
              "#d8576b"
             ],
             [
              0.6666666666666666,
              "#ed7953"
             ],
             [
              0.7777777777777778,
              "#fb9f3a"
             ],
             [
              0.8888888888888888,
              "#fdca26"
             ],
             [
              1,
              "#f0f921"
             ]
            ],
            "type": "contour"
           }
          ],
          "contourcarpet": [
           {
            "colorbar": {
             "outlinewidth": 0,
             "ticks": ""
            },
            "type": "contourcarpet"
           }
          ],
          "heatmap": [
           {
            "colorbar": {
             "outlinewidth": 0,
             "ticks": ""
            },
            "colorscale": [
             [
              0,
              "#0d0887"
             ],
             [
              0.1111111111111111,
              "#46039f"
             ],
             [
              0.2222222222222222,
              "#7201a8"
             ],
             [
              0.3333333333333333,
              "#9c179e"
             ],
             [
              0.4444444444444444,
              "#bd3786"
             ],
             [
              0.5555555555555556,
              "#d8576b"
             ],
             [
              0.6666666666666666,
              "#ed7953"
             ],
             [
              0.7777777777777778,
              "#fb9f3a"
             ],
             [
              0.8888888888888888,
              "#fdca26"
             ],
             [
              1,
              "#f0f921"
             ]
            ],
            "type": "heatmap"
           }
          ],
          "heatmapgl": [
           {
            "colorbar": {
             "outlinewidth": 0,
             "ticks": ""
            },
            "colorscale": [
             [
              0,
              "#0d0887"
             ],
             [
              0.1111111111111111,
              "#46039f"
             ],
             [
              0.2222222222222222,
              "#7201a8"
             ],
             [
              0.3333333333333333,
              "#9c179e"
             ],
             [
              0.4444444444444444,
              "#bd3786"
             ],
             [
              0.5555555555555556,
              "#d8576b"
             ],
             [
              0.6666666666666666,
              "#ed7953"
             ],
             [
              0.7777777777777778,
              "#fb9f3a"
             ],
             [
              0.8888888888888888,
              "#fdca26"
             ],
             [
              1,
              "#f0f921"
             ]
            ],
            "type": "heatmapgl"
           }
          ],
          "histogram": [
           {
            "marker": {
             "pattern": {
              "fillmode": "overlay",
              "size": 10,
              "solidity": 0.2
             }
            },
            "type": "histogram"
           }
          ],
          "histogram2d": [
           {
            "colorbar": {
             "outlinewidth": 0,
             "ticks": ""
            },
            "colorscale": [
             [
              0,
              "#0d0887"
             ],
             [
              0.1111111111111111,
              "#46039f"
             ],
             [
              0.2222222222222222,
              "#7201a8"
             ],
             [
              0.3333333333333333,
              "#9c179e"
             ],
             [
              0.4444444444444444,
              "#bd3786"
             ],
             [
              0.5555555555555556,
              "#d8576b"
             ],
             [
              0.6666666666666666,
              "#ed7953"
             ],
             [
              0.7777777777777778,
              "#fb9f3a"
             ],
             [
              0.8888888888888888,
              "#fdca26"
             ],
             [
              1,
              "#f0f921"
             ]
            ],
            "type": "histogram2d"
           }
          ],
          "histogram2dcontour": [
           {
            "colorbar": {
             "outlinewidth": 0,
             "ticks": ""
            },
            "colorscale": [
             [
              0,
              "#0d0887"
             ],
             [
              0.1111111111111111,
              "#46039f"
             ],
             [
              0.2222222222222222,
              "#7201a8"
             ],
             [
              0.3333333333333333,
              "#9c179e"
             ],
             [
              0.4444444444444444,
              "#bd3786"
             ],
             [
              0.5555555555555556,
              "#d8576b"
             ],
             [
              0.6666666666666666,
              "#ed7953"
             ],
             [
              0.7777777777777778,
              "#fb9f3a"
             ],
             [
              0.8888888888888888,
              "#fdca26"
             ],
             [
              1,
              "#f0f921"
             ]
            ],
            "type": "histogram2dcontour"
           }
          ],
          "mesh3d": [
           {
            "colorbar": {
             "outlinewidth": 0,
             "ticks": ""
            },
            "type": "mesh3d"
           }
          ],
          "parcoords": [
           {
            "line": {
             "colorbar": {
              "outlinewidth": 0,
              "ticks": ""
             }
            },
            "type": "parcoords"
           }
          ],
          "pie": [
           {
            "automargin": true,
            "type": "pie"
           }
          ],
          "scatter": [
           {
            "fillpattern": {
             "fillmode": "overlay",
             "size": 10,
             "solidity": 0.2
            },
            "type": "scatter"
           }
          ],
          "scatter3d": [
           {
            "line": {
             "colorbar": {
              "outlinewidth": 0,
              "ticks": ""
             }
            },
            "marker": {
             "colorbar": {
              "outlinewidth": 0,
              "ticks": ""
             }
            },
            "type": "scatter3d"
           }
          ],
          "scattercarpet": [
           {
            "marker": {
             "colorbar": {
              "outlinewidth": 0,
              "ticks": ""
             }
            },
            "type": "scattercarpet"
           }
          ],
          "scattergeo": [
           {
            "marker": {
             "colorbar": {
              "outlinewidth": 0,
              "ticks": ""
             }
            },
            "type": "scattergeo"
           }
          ],
          "scattergl": [
           {
            "marker": {
             "colorbar": {
              "outlinewidth": 0,
              "ticks": ""
             }
            },
            "type": "scattergl"
           }
          ],
          "scattermapbox": [
           {
            "marker": {
             "colorbar": {
              "outlinewidth": 0,
              "ticks": ""
             }
            },
            "type": "scattermapbox"
           }
          ],
          "scatterpolar": [
           {
            "marker": {
             "colorbar": {
              "outlinewidth": 0,
              "ticks": ""
             }
            },
            "type": "scatterpolar"
           }
          ],
          "scatterpolargl": [
           {
            "marker": {
             "colorbar": {
              "outlinewidth": 0,
              "ticks": ""
             }
            },
            "type": "scatterpolargl"
           }
          ],
          "scatterternary": [
           {
            "marker": {
             "colorbar": {
              "outlinewidth": 0,
              "ticks": ""
             }
            },
            "type": "scatterternary"
           }
          ],
          "surface": [
           {
            "colorbar": {
             "outlinewidth": 0,
             "ticks": ""
            },
            "colorscale": [
             [
              0,
              "#0d0887"
             ],
             [
              0.1111111111111111,
              "#46039f"
             ],
             [
              0.2222222222222222,
              "#7201a8"
             ],
             [
              0.3333333333333333,
              "#9c179e"
             ],
             [
              0.4444444444444444,
              "#bd3786"
             ],
             [
              0.5555555555555556,
              "#d8576b"
             ],
             [
              0.6666666666666666,
              "#ed7953"
             ],
             [
              0.7777777777777778,
              "#fb9f3a"
             ],
             [
              0.8888888888888888,
              "#fdca26"
             ],
             [
              1,
              "#f0f921"
             ]
            ],
            "type": "surface"
           }
          ],
          "table": [
           {
            "cells": {
             "fill": {
              "color": "#EBF0F8"
             },
             "line": {
              "color": "white"
             }
            },
            "header": {
             "fill": {
              "color": "#C8D4E3"
             },
             "line": {
              "color": "white"
             }
            },
            "type": "table"
           }
          ]
         },
         "layout": {
          "annotationdefaults": {
           "arrowcolor": "#2a3f5f",
           "arrowhead": 0,
           "arrowwidth": 1
          },
          "autotypenumbers": "strict",
          "coloraxis": {
           "colorbar": {
            "outlinewidth": 0,
            "ticks": ""
           }
          },
          "colorscale": {
           "diverging": [
            [
             0,
             "#8e0152"
            ],
            [
             0.1,
             "#c51b7d"
            ],
            [
             0.2,
             "#de77ae"
            ],
            [
             0.3,
             "#f1b6da"
            ],
            [
             0.4,
             "#fde0ef"
            ],
            [
             0.5,
             "#f7f7f7"
            ],
            [
             0.6,
             "#e6f5d0"
            ],
            [
             0.7,
             "#b8e186"
            ],
            [
             0.8,
             "#7fbc41"
            ],
            [
             0.9,
             "#4d9221"
            ],
            [
             1,
             "#276419"
            ]
           ],
           "sequential": [
            [
             0,
             "#0d0887"
            ],
            [
             0.1111111111111111,
             "#46039f"
            ],
            [
             0.2222222222222222,
             "#7201a8"
            ],
            [
             0.3333333333333333,
             "#9c179e"
            ],
            [
             0.4444444444444444,
             "#bd3786"
            ],
            [
             0.5555555555555556,
             "#d8576b"
            ],
            [
             0.6666666666666666,
             "#ed7953"
            ],
            [
             0.7777777777777778,
             "#fb9f3a"
            ],
            [
             0.8888888888888888,
             "#fdca26"
            ],
            [
             1,
             "#f0f921"
            ]
           ],
           "sequentialminus": [
            [
             0,
             "#0d0887"
            ],
            [
             0.1111111111111111,
             "#46039f"
            ],
            [
             0.2222222222222222,
             "#7201a8"
            ],
            [
             0.3333333333333333,
             "#9c179e"
            ],
            [
             0.4444444444444444,
             "#bd3786"
            ],
            [
             0.5555555555555556,
             "#d8576b"
            ],
            [
             0.6666666666666666,
             "#ed7953"
            ],
            [
             0.7777777777777778,
             "#fb9f3a"
            ],
            [
             0.8888888888888888,
             "#fdca26"
            ],
            [
             1,
             "#f0f921"
            ]
           ]
          },
          "colorway": [
           "#636efa",
           "#EF553B",
           "#00cc96",
           "#ab63fa",
           "#FFA15A",
           "#19d3f3",
           "#FF6692",
           "#B6E880",
           "#FF97FF",
           "#FECB52"
          ],
          "font": {
           "color": "#2a3f5f"
          },
          "geo": {
           "bgcolor": "white",
           "lakecolor": "white",
           "landcolor": "#E5ECF6",
           "showlakes": true,
           "showland": true,
           "subunitcolor": "white"
          },
          "hoverlabel": {
           "align": "left"
          },
          "hovermode": "closest",
          "mapbox": {
           "style": "light"
          },
          "paper_bgcolor": "white",
          "plot_bgcolor": "#E5ECF6",
          "polar": {
           "angularaxis": {
            "gridcolor": "white",
            "linecolor": "white",
            "ticks": ""
           },
           "bgcolor": "#E5ECF6",
           "radialaxis": {
            "gridcolor": "white",
            "linecolor": "white",
            "ticks": ""
           }
          },
          "scene": {
           "xaxis": {
            "backgroundcolor": "#E5ECF6",
            "gridcolor": "white",
            "gridwidth": 2,
            "linecolor": "white",
            "showbackground": true,
            "ticks": "",
            "zerolinecolor": "white"
           },
           "yaxis": {
            "backgroundcolor": "#E5ECF6",
            "gridcolor": "white",
            "gridwidth": 2,
            "linecolor": "white",
            "showbackground": true,
            "ticks": "",
            "zerolinecolor": "white"
           },
           "zaxis": {
            "backgroundcolor": "#E5ECF6",
            "gridcolor": "white",
            "gridwidth": 2,
            "linecolor": "white",
            "showbackground": true,
            "ticks": "",
            "zerolinecolor": "white"
           }
          },
          "shapedefaults": {
           "line": {
            "color": "#2a3f5f"
           }
          },
          "ternary": {
           "aaxis": {
            "gridcolor": "white",
            "linecolor": "white",
            "ticks": ""
           },
           "baxis": {
            "gridcolor": "white",
            "linecolor": "white",
            "ticks": ""
           },
           "bgcolor": "#E5ECF6",
           "caxis": {
            "gridcolor": "white",
            "linecolor": "white",
            "ticks": ""
           }
          },
          "title": {
           "x": 0.05
          },
          "xaxis": {
           "automargin": true,
           "gridcolor": "white",
           "linecolor": "white",
           "ticks": "",
           "title": {
            "standoff": 15
           },
           "zerolinecolor": "white",
           "zerolinewidth": 2
          },
          "yaxis": {
           "automargin": true,
           "gridcolor": "white",
           "linecolor": "white",
           "ticks": "",
           "title": {
            "standoff": 15
           },
           "zerolinecolor": "white",
           "zerolinewidth": 2
          }
         }
        },
        "width": 1000,
        "xaxis": {
         "tickformat": ",.0%",
         "title": {
          "text": "Growth Estimate"
         }
        },
        "yaxis": {
         "tickformat": ",.0%",
         "title": {
          "text": "Equity Risk Premium"
         }
        }
       }
      }
     },
     "metadata": {},
     "output_type": "display_data"
    }
   ],
   "source": [
    "fig = go.Figure()\n",
    "fig.add_trace(go.Scatter(\n",
    "    x=dfy[\"Analyst Growth Estimate\"], y=dfy[\"Implied ERP (FCFE)\"], \n",
    "    hovertext=[ f\"Date: {x.date()}\" for x in dfy[\"Date\"]], \n",
    "    mode=\"markers\", name=\"Yearly Estimate\"))\n",
    "fig.add_trace(go.Scatter(x=dfm[\"Expected growth rate\"], y=dfm[\"ERP (T12m)\"], \n",
    "    hovertext=[ f\"Date: {x.date()}\" for x in dfm[\"Date\"]], \n",
    "    mode=\"markers\", name=\"Monthly  Estimate\"))\n",
    "fig.add_trace(go.Scatter(x=dfm.iloc[[-1]][\"Expected growth rate\"], y=dfm.iloc[[-1]][\"ERP (T12m)\"], \n",
    "    hovertext=[ f\"Date: {x.date()}\" for x in dfm.iloc[[-1]][\"Date\"]],\n",
    "    marker_size=20, marker_opacity=0.5, \n",
    "    mode=\"markers\", name=f\"Now - {dfm.iloc[-1]['Date'].date()}\"))\n",
    "fig.update_layout(\n",
    "    xaxis_title=\"Growth Estimate\", yaxis_title=\"Equity Risk Premium\",\n",
    "    xaxis_tickformat=',.0%', yaxis_tickformat=',.0%',\n",
    "    width=1000, height=800)\n",
    "fig.show()"
   ]
  },
  {
   "attachments": {},
   "cell_type": "markdown",
   "id": "8be06ad8",
   "metadata": {},
   "source": [
    "## Conclusions\n",
    "- Independently from the RFR (10-years US Treasury yield) which is a proxy for expected growth+inflation we can use the ERP (Equity Risk Premium) as a proxy for the market greed/fear\n",
    "- When the ERP is high there is a lot of fear, e.g., the market expect oscillations in the near-future\n",
    "- When the Growth Estimate is high, typically the market is overexcited, and the growth will mean-revert to some more reasonable long-term trends\n",
    "- This last statement is more controversial because the analyst may already expect a low groewth after a bull run, still underestimating the downturn of the index: this is the case of low-GrowthEstimate in late 2019, when the analyst were conservative in projecting a lower growth after a booming year. Maybe not a good moment to enter the market, despite the already-low estimated growth expectation.\n",
    "- As investors, if we assume that there won't be major market disruptions in the future, we want to enter the market when the ERP is high and the Growth Estimate is low (assuming analyst are already conservative), therefore we want to be in the top-left quadrant of the GrowthEst/ERP plot\n",
    "- We are currently (May 2023) in a mildly good condition to enter the market, with below-average market growth expectation and quite average market fear/greed (considering the ERP). We are not in extreme condition to conclude the market is a bargain nor that it is overpriced.\n",
    "\n",
    "## Follow-up\n",
    "- Add the future 1-5-10 years growth, to check if the growth estimate was legit\n",
    "- Include other macro indicators, to understand when the analyst are too optimistic/pessimistic in their Growth Estimate: however this is not easy, as it is a recursive evaluation, i.e., using macro indicators to evaluate the analyst that are evaluating the macro indicators."
   ]
  }
 ],
 "metadata": {
  "kernelspec": {
   "display_name": "base",
   "language": "python",
   "name": "python3"
  },
  "language_info": {
   "codemirror_mode": {
    "name": "ipython",
    "version": 3
   },
   "file_extension": ".py",
   "mimetype": "text/x-python",
   "name": "python",
   "nbconvert_exporter": "python",
   "pygments_lexer": "ipython3",
   "version": "3.8.5"
  },
  "vscode": {
   "interpreter": {
    "hash": "db3b0be3bb1f6db1a0432c56ec1c0f7459936b81fd9ed1b468b8c4ba9c3d8298"
   }
  }
 },
 "nbformat": 4,
 "nbformat_minor": 5
}
