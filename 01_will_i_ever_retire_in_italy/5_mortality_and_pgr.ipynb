{
 "cells": [
  {
   "cell_type": "markdown",
   "id": "83e4d96d-2352-4ccd-bf0a-b06452d9b833",
   "metadata": {},
   "source": [
    "# Mortality ad Population Rate Growth\n",
    "\n",
    "AIM: Since ISTAT provides some data about mortality, compare this with \"my\" population growth rate (PGR), which accounts both for mortality and imigration balance. Check if my assumptions on neglecting immigration above 60yo and mortality under 50ys is reasonable.\n"
   ]
  },
  {
   "cell_type": "code",
   "execution_count": 1,
   "id": "c09e2008",
   "metadata": {},
   "outputs": [],
   "source": [
    "import warnings \n",
    "from istatapi import discovery, retrieval\n",
    "import numpy as np\n",
    "import pandas as pd\n",
    "import requests\n",
    "import matplotlib.pyplot as plt\n",
    "import plotly.express as px\n",
    "\n",
    "import plotly.io as pio\n",
    "pio.renderers.default = 'notebook'\n",
    "\n",
    "warnings.filterwarnings('ignore')\n",
    "requests.urllib3.disable_warnings() # avoid \"InsecureRequestWarning: Unverified HTTPS request is being made to host 'sdmx.istat.it'. Adding certificate verification is strongly advised\""
   ]
  },
  {
   "cell_type": "code",
   "execution_count": 2,
   "id": "5f722e44",
   "metadata": {},
   "outputs": [
    {
     "data": {
      "text/html": [
       "<div>\n",
       "<style scoped>\n",
       "    .dataframe tbody tr th:only-of-type {\n",
       "        vertical-align: middle;\n",
       "    }\n",
       "\n",
       "    .dataframe tbody tr th {\n",
       "        vertical-align: top;\n",
       "    }\n",
       "\n",
       "    .dataframe thead th {\n",
       "        text-align: right;\n",
       "    }\n",
       "</style>\n",
       "<table border=\"1\" class=\"dataframe\">\n",
       "  <thead>\n",
       "    <tr style=\"text-align: right;\">\n",
       "      <th></th>\n",
       "      <th>DATAFLOW</th>\n",
       "      <th>FREQ</th>\n",
       "      <th>ETA_CLASSI_ETA</th>\n",
       "      <th>ITTER107</th>\n",
       "      <th>SESSO</th>\n",
       "      <th>FUNZ_BIO</th>\n",
       "      <th>TIME_PERIOD</th>\n",
       "      <th>OBS_VALUE</th>\n",
       "      <th>BREAK</th>\n",
       "      <th>CONF_STATUS</th>\n",
       "      <th>OBS_PRE_BREAK</th>\n",
       "      <th>OBS_STATUS</th>\n",
       "      <th>BASE_PER</th>\n",
       "      <th>UNIT_MEAS</th>\n",
       "      <th>UNIT_MULT</th>\n",
       "      <th>METADATA_EN</th>\n",
       "      <th>METADATA_IT</th>\n",
       "    </tr>\n",
       "  </thead>\n",
       "  <tbody>\n",
       "    <tr>\n",
       "      <th>0</th>\n",
       "      <td>IT1:26_295(1.1)</td>\n",
       "      <td>A</td>\n",
       "      <td>Y_UN4</td>\n",
       "      <td>IT</td>\n",
       "      <td>9</td>\n",
       "      <td>DEATHS</td>\n",
       "      <td>1974-01-01</td>\n",
       "      <td>2735.000000</td>\n",
       "      <td>NaN</td>\n",
       "      <td>NaN</td>\n",
       "      <td>NaN</td>\n",
       "      <td>NaN</td>\n",
       "      <td>NaN</td>\n",
       "      <td>NaN</td>\n",
       "      <td>NaN</td>\n",
       "      <td>NaN</td>\n",
       "      <td>NaN</td>\n",
       "    </tr>\n",
       "    <tr>\n",
       "      <th>20000</th>\n",
       "      <td>IT1:26_295(1.1)</td>\n",
       "      <td>A</td>\n",
       "      <td>Y40</td>\n",
       "      <td>IT</td>\n",
       "      <td>9</td>\n",
       "      <td>PYLIVED</td>\n",
       "      <td>1974-01-01</td>\n",
       "      <td>94544.000000</td>\n",
       "      <td>NaN</td>\n",
       "      <td>NaN</td>\n",
       "      <td>NaN</td>\n",
       "      <td>NaN</td>\n",
       "      <td>NaN</td>\n",
       "      <td>NaN</td>\n",
       "      <td>NaN</td>\n",
       "      <td>NaN</td>\n",
       "      <td>NaN</td>\n",
       "    </tr>\n",
       "    <tr>\n",
       "      <th>19950</th>\n",
       "      <td>IT1:26_295(1.1)</td>\n",
       "      <td>A</td>\n",
       "      <td>Y40</td>\n",
       "      <td>IT</td>\n",
       "      <td>9</td>\n",
       "      <td>PROJPROB</td>\n",
       "      <td>1974-01-01</td>\n",
       "      <td>0.997919</td>\n",
       "      <td>NaN</td>\n",
       "      <td>NaN</td>\n",
       "      <td>NaN</td>\n",
       "      <td>NaN</td>\n",
       "      <td>NaN</td>\n",
       "      <td>NaN</td>\n",
       "      <td>NaN</td>\n",
       "      <td>NaN</td>\n",
       "      <td>NaN</td>\n",
       "    </tr>\n",
       "    <tr>\n",
       "      <th>19900</th>\n",
       "      <td>IT1:26_295(1.1)</td>\n",
       "      <td>A</td>\n",
       "      <td>Y40</td>\n",
       "      <td>IT</td>\n",
       "      <td>9</td>\n",
       "      <td>PROBDEATH</td>\n",
       "      <td>1974-01-01</td>\n",
       "      <td>1.961550</td>\n",
       "      <td>NaN</td>\n",
       "      <td>NaN</td>\n",
       "      <td>NaN</td>\n",
       "      <td>NaN</td>\n",
       "      <td>NaN</td>\n",
       "      <td>NaN</td>\n",
       "      <td>NaN</td>\n",
       "      <td>NaN</td>\n",
       "      <td>NaN</td>\n",
       "    </tr>\n",
       "    <tr>\n",
       "      <th>42800</th>\n",
       "      <td>IT1:26_295(1.1)</td>\n",
       "      <td>A</td>\n",
       "      <td>Y98</td>\n",
       "      <td>IT</td>\n",
       "      <td>9</td>\n",
       "      <td>PYLIVED</td>\n",
       "      <td>1974-01-01</td>\n",
       "      <td>331.000000</td>\n",
       "      <td>NaN</td>\n",
       "      <td>NaN</td>\n",
       "      <td>NaN</td>\n",
       "      <td>NaN</td>\n",
       "      <td>NaN</td>\n",
       "      <td>NaN</td>\n",
       "      <td>NaN</td>\n",
       "      <td>NaN</td>\n",
       "      <td>NaN</td>\n",
       "    </tr>\n",
       "    <tr>\n",
       "      <th>...</th>\n",
       "      <td>...</td>\n",
       "      <td>...</td>\n",
       "      <td>...</td>\n",
       "      <td>...</td>\n",
       "      <td>...</td>\n",
       "      <td>...</td>\n",
       "      <td>...</td>\n",
       "      <td>...</td>\n",
       "      <td>...</td>\n",
       "      <td>...</td>\n",
       "      <td>...</td>\n",
       "      <td>...</td>\n",
       "      <td>...</td>\n",
       "      <td>...</td>\n",
       "      <td>...</td>\n",
       "      <td>...</td>\n",
       "      <td>...</td>\n",
       "    </tr>\n",
       "    <tr>\n",
       "      <th>27999</th>\n",
       "      <td>IT1:26_295(1.1)</td>\n",
       "      <td>A</td>\n",
       "      <td>Y60</td>\n",
       "      <td>IT</td>\n",
       "      <td>9</td>\n",
       "      <td>LIFEXP</td>\n",
       "      <td>2023-01-01</td>\n",
       "      <td>25.256000</td>\n",
       "      <td>NaN</td>\n",
       "      <td>NaN</td>\n",
       "      <td>NaN</td>\n",
       "      <td>e</td>\n",
       "      <td>NaN</td>\n",
       "      <td>NaN</td>\n",
       "      <td>NaN</td>\n",
       "      <td>NaN</td>\n",
       "      <td>NaN</td>\n",
       "    </tr>\n",
       "    <tr>\n",
       "      <th>27949</th>\n",
       "      <td>IT1:26_295(1.1)</td>\n",
       "      <td>A</td>\n",
       "      <td>Y60</td>\n",
       "      <td>IT</td>\n",
       "      <td>9</td>\n",
       "      <td>DEATHS</td>\n",
       "      <td>2023-01-01</td>\n",
       "      <td>453.000000</td>\n",
       "      <td>NaN</td>\n",
       "      <td>NaN</td>\n",
       "      <td>NaN</td>\n",
       "      <td>e</td>\n",
       "      <td>NaN</td>\n",
       "      <td>NaN</td>\n",
       "      <td>NaN</td>\n",
       "      <td>NaN</td>\n",
       "      <td>NaN</td>\n",
       "    </tr>\n",
       "    <tr>\n",
       "      <th>27899</th>\n",
       "      <td>IT1:26_295(1.1)</td>\n",
       "      <td>A</td>\n",
       "      <td>Y6</td>\n",
       "      <td>IT</td>\n",
       "      <td>9</td>\n",
       "      <td>SURVIVORS</td>\n",
       "      <td>2023-01-01</td>\n",
       "      <td>99694.000000</td>\n",
       "      <td>NaN</td>\n",
       "      <td>NaN</td>\n",
       "      <td>NaN</td>\n",
       "      <td>e</td>\n",
       "      <td>NaN</td>\n",
       "      <td>NaN</td>\n",
       "      <td>NaN</td>\n",
       "      <td>NaN</td>\n",
       "      <td>NaN</td>\n",
       "    </tr>\n",
       "    <tr>\n",
       "      <th>29099</th>\n",
       "      <td>IT1:26_295(1.1)</td>\n",
       "      <td>A</td>\n",
       "      <td>Y62</td>\n",
       "      <td>IT</td>\n",
       "      <td>9</td>\n",
       "      <td>SURVIVORS</td>\n",
       "      <td>2023-01-01</td>\n",
       "      <td>93650.000000</td>\n",
       "      <td>NaN</td>\n",
       "      <td>NaN</td>\n",
       "      <td>NaN</td>\n",
       "      <td>e</td>\n",
       "      <td>NaN</td>\n",
       "      <td>NaN</td>\n",
       "      <td>NaN</td>\n",
       "      <td>NaN</td>\n",
       "      <td>NaN</td>\n",
       "    </tr>\n",
       "    <tr>\n",
       "      <th>43199</th>\n",
       "      <td>IT1:26_295(1.1)</td>\n",
       "      <td>A</td>\n",
       "      <td>Y99</td>\n",
       "      <td>IT</td>\n",
       "      <td>9</td>\n",
       "      <td>SURVIVORS</td>\n",
       "      <td>2023-01-01</td>\n",
       "      <td>3364.000000</td>\n",
       "      <td>NaN</td>\n",
       "      <td>NaN</td>\n",
       "      <td>NaN</td>\n",
       "      <td>e</td>\n",
       "      <td>NaN</td>\n",
       "      <td>NaN</td>\n",
       "      <td>NaN</td>\n",
       "      <td>NaN</td>\n",
       "      <td>NaN</td>\n",
       "    </tr>\n",
       "  </tbody>\n",
       "</table>\n",
       "<p>43200 rows × 17 columns</p>\n",
       "</div>"
      ],
      "text/plain": [
       "              DATAFLOW FREQ ETA_CLASSI_ETA ITTER107  SESSO   FUNZ_BIO  \\\n",
       "0      IT1:26_295(1.1)    A          Y_UN4       IT      9     DEATHS   \n",
       "20000  IT1:26_295(1.1)    A            Y40       IT      9    PYLIVED   \n",
       "19950  IT1:26_295(1.1)    A            Y40       IT      9   PROJPROB   \n",
       "19900  IT1:26_295(1.1)    A            Y40       IT      9  PROBDEATH   \n",
       "42800  IT1:26_295(1.1)    A            Y98       IT      9    PYLIVED   \n",
       "...                ...  ...            ...      ...    ...        ...   \n",
       "27999  IT1:26_295(1.1)    A            Y60       IT      9     LIFEXP   \n",
       "27949  IT1:26_295(1.1)    A            Y60       IT      9     DEATHS   \n",
       "27899  IT1:26_295(1.1)    A             Y6       IT      9  SURVIVORS   \n",
       "29099  IT1:26_295(1.1)    A            Y62       IT      9  SURVIVORS   \n",
       "43199  IT1:26_295(1.1)    A            Y99       IT      9  SURVIVORS   \n",
       "\n",
       "      TIME_PERIOD     OBS_VALUE  BREAK  CONF_STATUS  OBS_PRE_BREAK OBS_STATUS  \\\n",
       "0      1974-01-01   2735.000000    NaN          NaN            NaN        NaN   \n",
       "20000  1974-01-01  94544.000000    NaN          NaN            NaN        NaN   \n",
       "19950  1974-01-01      0.997919    NaN          NaN            NaN        NaN   \n",
       "19900  1974-01-01      1.961550    NaN          NaN            NaN        NaN   \n",
       "42800  1974-01-01    331.000000    NaN          NaN            NaN        NaN   \n",
       "...           ...           ...    ...          ...            ...        ...   \n",
       "27999  2023-01-01     25.256000    NaN          NaN            NaN          e   \n",
       "27949  2023-01-01    453.000000    NaN          NaN            NaN          e   \n",
       "27899  2023-01-01  99694.000000    NaN          NaN            NaN          e   \n",
       "29099  2023-01-01  93650.000000    NaN          NaN            NaN          e   \n",
       "43199  2023-01-01   3364.000000    NaN          NaN            NaN          e   \n",
       "\n",
       "       BASE_PER  UNIT_MEAS  UNIT_MULT  METADATA_EN  METADATA_IT  \n",
       "0           NaN        NaN        NaN          NaN          NaN  \n",
       "20000       NaN        NaN        NaN          NaN          NaN  \n",
       "19950       NaN        NaN        NaN          NaN          NaN  \n",
       "19900       NaN        NaN        NaN          NaN          NaN  \n",
       "42800       NaN        NaN        NaN          NaN          NaN  \n",
       "...         ...        ...        ...          ...          ...  \n",
       "27999       NaN        NaN        NaN          NaN          NaN  \n",
       "27949       NaN        NaN        NaN          NaN          NaN  \n",
       "27899       NaN        NaN        NaN          NaN          NaN  \n",
       "29099       NaN        NaN        NaN          NaN          NaN  \n",
       "43199       NaN        NaN        NaN          NaN          NaN  \n",
       "\n",
       "[43200 rows x 17 columns]"
      ]
     },
     "execution_count": 2,
     "metadata": {},
     "output_type": "execute_result"
    }
   ],
   "source": [
    "# I want to know the deaths to split them from the immigration balance\n",
    "ds = discovery.DataSet(dataflow_identifier=\"DCIS_MORTALITA1\") # Deaths in Italy http://dati.istat.it/Index.aspx?lang=en&DataSetCode=DCIS_MORTALITA\n",
    "ds.set_filters(itter107 =\"IT\", sesso=\"9\")\n",
    "df = retrieval.get_data(ds) # Takes about 30s\n",
    "df"
   ]
  },
  {
   "cell_type": "code",
   "execution_count": 3,
   "id": "412a31d3",
   "metadata": {},
   "outputs": [],
   "source": [
    "# Take only the probability of death and prepare a dataframe similar to the PGR one, for comparison\n",
    "df_pgrdeath = (\n",
    "    df.copy()\n",
    "    .query(\"FUNZ_BIO=='PROBDEATH'\")\n",
    "    .query(\"~ETA_CLASSI_ETA.str.contains('-|_')\") # filter out rows containing \"-\" or \"_\"\n",
    "    .assign(age= lambda x: x[\"ETA_CLASSI_ETA\"].str.split(\"Y\").str[-1].astype(int))\n",
    "    .assign(year= lambda x: x[\"TIME_PERIOD\"].dt.year)\n",
    "    .filter([\"year\", \"age\", \"OBS_VALUE\"])\n",
    "    .sort_values([\"year\", \"age\"])\n",
    "    .reset_index(drop=True)\n",
    "    .pivot(index='age', columns='year', values='OBS_VALUE')\n",
    "    .divide(-1000) # convert probability to (negative) population growth rate\n",
    "    .astype(float)\n",
    "    .loc[:100,:]\n",
    ")\n",
    "df_pgrdeath.to_csv(\"data/4_pgrdeath_by_age_year.csv\")"
   ]
  },
  {
   "cell_type": "code",
   "execution_count": 4,
   "id": "ded30ba0",
   "metadata": {},
   "outputs": [],
   "source": [
    "dfp = pd.read_csv(\"data/1_population_by_age_year.csv\", index_col=0)\n",
    "df_pgr = pd.read_csv(\"data/1_pgr_by_age_year.csv\", index_col=0)\n",
    "df_pgrdeath = pd.read_csv(\"data/4_pgrdeath_by_age_year.csv\", index_col=0)\n",
    "dfp.columns = dfp.columns.astype(int)\n",
    "df_pgr.columns = df_pgr.columns.astype(int)\n",
    "df_pgrdeath.columns = df_pgrdeath.columns.astype(int)\n",
    "\n",
    "df_pgrdeath = (\n",
    "    df_pgrdeath\n",
    "    .assign(**{\"2024\":None})\n",
    "    .shift(1, axis=1) # Comparing the COVID spikes, I think they refer to the end of the year, not the beginning, so OI have to shift\n",
    "    .drop(df_pgrdeath.columns[0], axis=1)\n",
    ")\n",
    "# keep only the years and ages that are also in PGR\n",
    "years = [ x for x in df_pgr.columns if x in df_pgrdeath.columns]\n",
    "ages = [ x for x in df_pgr.index if x in df_pgrdeath.index]\n",
    "df_pgrdeath = df_pgrdeath.loc[ages, years]"
   ]
  },
  {
   "cell_type": "code",
   "execution_count": 5,
   "id": "86f13235",
   "metadata": {},
   "outputs": [],
   "source": [
    "fig, axs = plt.subplots(10,10, figsize=[20, 20], sharex=True)\n",
    "for iplot, age in enumerate(ages):\n",
    "    ax = axs.flatten()[iplot]\n",
    "    ax.plot(df_pgr.columns, df_pgr.loc[age].values, label=age, color=\"red\")\n",
    "    ax.plot(df_pgrdeath.columns, df_pgrdeath.loc[age].values, label=age, color=\"blue\")\n",
    "    ax.set_title(f\"Age: {age}\")\n",
    "    ax.axhline(0, color=\"black\", linestyle=\"--\")\n",
    "    y_avg = df_pgr.loc[age].values.mean()\n",
    "    y_margin = 0.05 # choose resonable values to fully show all the markers \n",
    "    ax.set_ylim(y_avg-y_margin, y_avg+y_margin) # note that I keep the same scale for all the plots, but transposed\n",
    "    #ax.set_ylim(-0.3,0.02)\n",
    "plt.show()"
   ]
  },
  {
   "cell_type": "markdown",
   "id": "cae3fb90",
   "metadata": {},
   "source": [
    "For people younger than 60 let's try to compute somerough estimate of the number of migrants. <br>\n",
    "Indeed, it does not make sense for the model to consider the migation balance as PGR, i.e., ratio to the current population. \n",
    "\n",
    "I want some average number of migrants to add them age by age in my future projection, under different scenarios.\n",
    "\n",
    "PS: I know that the \"PGR-death\" I obrained form the death probability is some sort of average I can not subract directly to PGR,\n",
    " but at the end I'm taking some average in the last two decades so it is a reasonable calculations for the data I have!"
   ]
  },
  {
   "cell_type": "code",
   "execution_count": null,
   "id": "a672e773",
   "metadata": {},
   "outputs": [
    {
     "data": {
      "image/png": "[encoded data removed]",
      "text/plain": [
       "<Figure size 2000x2000 with 100 Axes>"
      ]
     },
     "metadata": {},
     "output_type": "display_data"
    }
   ],
   "source": [
    "df_migrants = (\n",
    "    ((df_pgr - df_pgrdeath) * dfp)\n",
    "    .loc[ages, :] \n",
    "    .loc[:, [y for y in range(2003,2024) if y not in [2021, 2022]] ] # excluding COVID years where the PGR and death-prob are not consistent\n",
    "    .astype(int)\n",
    ")\n",
    "fig, axs = plt.subplots(10,10, figsize=[20, 20], sharex=True, sharey=True)\n",
    "for iplot, age in enumerate(df_migrants.index):\n",
    "    ax = axs.flatten()[iplot]\n",
    "    ax.bar(df_migrants.columns, df_migrants.loc[age].values, color=\"black\")\n",
    "    ax.plot(df_migrants.columns, dfp.loc[age, df_migrants.columns]/100, color=\"red\")\n",
    "    ax.set_title(f\"Age: {age}\")\n",
    "plt.show()"
   ]
  },
  {
   "cell_type": "markdown",
   "id": "04c7eab1",
   "metadata": {},
   "source": [
    "In this plot I'm plotting the estimate number of migrants (excluding COVID years) in black bars and in red the population/100. <br>\n",
    "This means that if the bar touches the red line, that year 1% of the population of that age is an immigrant. \n",
    "\n",
    "For people older than 60, the migration balance is probably noise in the measurement, having a little sample.\n",
    "\n",
    "I can see if these numbers make sense by comparing: \n",
    "-  with [this document](https://www.istat.it/it/files//2020/05/Migrazioni_EN.pdf), where the number of net migrant is about 350k-175k in the range 2009-2018. \n",
    "- [The world bank also reports data](https://data.worldbank.org/indicator/SM.POP.NETM?locations=IT) for a longer historical period.  \n",
    "\n",
    "Note that the balance is pretty weavy, with a 10x difference between the maximum and the minimum.\n",
    "\n",
    "Data are pretty consistent with the next barplot (remember to shift by one year, the year refers here to the first of January)."
   ]
  },
  {
   "cell_type": "code",
   "execution_count": null,
   "id": "a45b80e1",
   "metadata": {},
   "outputs": [
    {
     "data": {
      "application/vnd.plotly.v1+json": {
       "config": {
        "plotlyServerURL": "https://plot.ly"
       },
       "data": [
        {
         "alignmentgroup": "True",
         "hovertemplate": "variable=0<br>index=%{x}<br>value=%{y}<extra></extra>",
         "legendgroup": "0",
         "marker": {
          "color": "#636efa",
          "pattern": {
           "shape": ""
          }
         },
         "name": "0",
         "offsetgroup": "0",
         "orientation": "v",
         "showlegend": true,
         "textposition": "auto",
         "type": "bar",
         "x": [
          2003,
          2004,
          2005,
          2006,
          2007,
          2008,
          2009,
          2010,
          2011,
          2012,
          2013,
          2014,
          2015,
          2016,
          2017,
          2018,
          2019,
          2020,
          2023
         ],
         "xaxis": "x",
         "y": [
          249525,
          511528,
          458264,
          297663,
          258593,
          543460,
          474677,
          338188,
          331168,
          250765,
          292562,
          197109,
          87426,
          75365,
          89684,
          108974,
          122875,
          86521,
          334879
         ],
         "yaxis": "y"
        }
       ],
       "layout": {
        "barmode": "relative",
        "legend": {
         "title": {
          "text": "variable"
         },
         "tracegroupgap": 0
        },
        "margin": {
         "t": 60
        },
        "template": {
         "data": {
          "bar": [
           {
            "error_x": {
             "color": "#2a3f5f"
            },
            "error_y": {
             "color": "#2a3f5f"
            },
            "marker": {
             "line": {
              "color": "#E5ECF6",
              "width": 0.5
             },
             "pattern": {
              "fillmode": "overlay",
              "size": 10,
              "solidity": 0.2
             }
            },
            "type": "bar"
           }
          ],
          "barpolar": [
           {
            "marker": {
             "line": {
              "color": "#E5ECF6",
              "width": 0.5
             },
             "pattern": {
              "fillmode": "overlay",
              "size": 10,
              "solidity": 0.2
             }
            },
            "type": "barpolar"
           }
          ],
          "carpet": [
           {
            "aaxis": {
             "endlinecolor": "#2a3f5f",
             "gridcolor": "white",
             "linecolor": "white",
             "minorgridcolor": "white",
             "startlinecolor": "#2a3f5f"
            },
            "baxis": {
             "endlinecolor": "#2a3f5f",
             "gridcolor": "white",
             "linecolor": "white",
             "minorgridcolor": "white",
             "startlinecolor": "#2a3f5f"
            },
            "type": "carpet"
           }
          ],
          "choropleth": [
           {
            "colorbar": {
             "outlinewidth": 0,
             "ticks": ""
            },
            "type": "choropleth"
           }
          ],
          "contour": [
           {
            "colorbar": {
             "outlinewidth": 0,
             "ticks": ""
            },
            "colorscale": [
             [
              0,
              "#0d0887"
             ],
             [
              0.1111111111111111,
              "#46039f"
             ],
             [
              0.2222222222222222,
              "#7201a8"
             ],
             [
              0.3333333333333333,
              "#9c179e"
             ],
             [
              0.4444444444444444,
              "#bd3786"
             ],
             [
              0.5555555555555556,
              "#d8576b"
             ],
             [
              0.6666666666666666,
              "#ed7953"
             ],
             [
              0.7777777777777778,
              "#fb9f3a"
             ],
             [
              0.8888888888888888,
              "#fdca26"
             ],
             [
              1,
              "#f0f921"
             ]
            ],
            "type": "contour"
           }
          ],
          "contourcarpet": [
           {
            "colorbar": {
             "outlinewidth": 0,
             "ticks": ""
            },
            "type": "contourcarpet"
           }
          ],
          "heatmap": [
           {
            "colorbar": {
             "outlinewidth": 0,
             "ticks": ""
            },
            "colorscale": [
             [
              0,
              "#0d0887"
             ],
             [
              0.1111111111111111,
              "#46039f"
             ],
             [
              0.2222222222222222,
              "#7201a8"
             ],
             [
              0.3333333333333333,
              "#9c179e"
             ],
             [
              0.4444444444444444,
              "#bd3786"
             ],
             [
              0.5555555555555556,
              "#d8576b"
             ],
             [
              0.6666666666666666,
              "#ed7953"
             ],
             [
              0.7777777777777778,
              "#fb9f3a"
             ],
             [
              0.8888888888888888,
              "#fdca26"
             ],
             [
              1,
              "#f0f921"
             ]
            ],
            "type": "heatmap"
           }
          ],
          "heatmapgl": [
           {
            "colorbar": {
             "outlinewidth": 0,
             "ticks": ""
            },
            "colorscale": [
             [
              0,
              "#0d0887"
             ],
             [
              0.1111111111111111,
              "#46039f"
             ],
             [
              0.2222222222222222,
              "#7201a8"
             ],
             [
              0.3333333333333333,
              "#9c179e"
             ],
             [
              0.4444444444444444,
              "#bd3786"
             ],
             [
              0.5555555555555556,
              "#d8576b"
             ],
             [
              0.6666666666666666,
              "#ed7953"
             ],
             [
              0.7777777777777778,
              "#fb9f3a"
             ],
             [
              0.8888888888888888,
              "#fdca26"
             ],
             [
              1,
              "#f0f921"
             ]
            ],
            "type": "heatmapgl"
           }
          ],
          "histogram": [
           {
            "marker": {
             "pattern": {
              "fillmode": "overlay",
              "size": 10,
              "solidity": 0.2
             }
            },
            "type": "histogram"
           }
          ],
          "histogram2d": [
           {
            "colorbar": {
             "outlinewidth": 0,
             "ticks": ""
            },
            "colorscale": [
             [
              0,
              "#0d0887"
             ],
             [
              0.1111111111111111,
              "#46039f"
             ],
             [
              0.2222222222222222,
              "#7201a8"
             ],
             [
              0.3333333333333333,
              "#9c179e"
             ],
             [
              0.4444444444444444,
              "#bd3786"
             ],
             [
              0.5555555555555556,
              "#d8576b"
             ],
             [
              0.6666666666666666,
              "#ed7953"
             ],
             [
              0.7777777777777778,
              "#fb9f3a"
             ],
             [
              0.8888888888888888,
              "#fdca26"
             ],
             [
              1,
              "#f0f921"
             ]
            ],
            "type": "histogram2d"
           }
          ],
          "histogram2dcontour": [
           {
            "colorbar": {
             "outlinewidth": 0,
             "ticks": ""
            },
            "colorscale": [
             [
              0,
              "#0d0887"
             ],
             [
              0.1111111111111111,
              "#46039f"
             ],
             [
              0.2222222222222222,
              "#7201a8"
             ],
             [
              0.3333333333333333,
              "#9c179e"
             ],
             [
              0.4444444444444444,
              "#bd3786"
             ],
             [
              0.5555555555555556,
              "#d8576b"
             ],
             [
              0.6666666666666666,
              "#ed7953"
             ],
             [
              0.7777777777777778,
              "#fb9f3a"
             ],
             [
              0.8888888888888888,
              "#fdca26"
             ],
             [
              1,
              "#f0f921"
             ]
            ],
            "type": "histogram2dcontour"
           }
          ],
          "mesh3d": [
           {
            "colorbar": {
             "outlinewidth": 0,
             "ticks": ""
            },
            "type": "mesh3d"
           }
          ],
          "parcoords": [
           {
            "line": {
             "colorbar": {
              "outlinewidth": 0,
              "ticks": ""
             }
            },
            "type": "parcoords"
           }
          ],
          "pie": [
           {
            "automargin": true,
            "type": "pie"
           }
          ],
          "scatter": [
           {
            "fillpattern": {
             "fillmode": "overlay",
             "size": 10,
             "solidity": 0.2
            },
            "type": "scatter"
           }
          ],
          "scatter3d": [
           {
            "line": {
             "colorbar": {
              "outlinewidth": 0,
              "ticks": ""
             }
            },
            "marker": {
             "colorbar": {
              "outlinewidth": 0,
              "ticks": ""
             }
            },
            "type": "scatter3d"
           }
          ],
          "scattercarpet": [
           {
            "marker": {
             "colorbar": {
              "outlinewidth": 0,
              "ticks": ""
             }
            },
            "type": "scattercarpet"
           }
          ],
          "scattergeo": [
           {
            "marker": {
             "colorbar": {
              "outlinewidth": 0,
              "ticks": ""
             }
            },
            "type": "scattergeo"
           }
          ],
          "scattergl": [
           {
            "marker": {
             "colorbar": {
              "outlinewidth": 0,
              "ticks": ""
             }
            },
            "type": "scattergl"
           }
          ],
          "scattermapbox": [
           {
            "marker": {
             "colorbar": {
              "outlinewidth": 0,
              "ticks": ""
             }
            },
            "type": "scattermapbox"
           }
          ],
          "scatterpolar": [
           {
            "marker": {
             "colorbar": {
              "outlinewidth": 0,
              "ticks": ""
             }
            },
            "type": "scatterpolar"
           }
          ],
          "scatterpolargl": [
           {
            "marker": {
             "colorbar": {
              "outlinewidth": 0,
              "ticks": ""
             }
            },
            "type": "scatterpolargl"
           }
          ],
          "scatterternary": [
           {
            "marker": {
             "colorbar": {
              "outlinewidth": 0,
              "ticks": ""
             }
            },
            "type": "scatterternary"
           }
          ],
          "surface": [
           {
            "colorbar": {
             "outlinewidth": 0,
             "ticks": ""
            },
            "colorscale": [
             [
              0,
              "#0d0887"
             ],
             [
              0.1111111111111111,
              "#46039f"
             ],
             [
              0.2222222222222222,
              "#7201a8"
             ],
             [
              0.3333333333333333,
              "#9c179e"
             ],
             [
              0.4444444444444444,
              "#bd3786"
             ],
             [
              0.5555555555555556,
              "#d8576b"
             ],
             [
              0.6666666666666666,
              "#ed7953"
             ],
             [
              0.7777777777777778,
              "#fb9f3a"
             ],
             [
              0.8888888888888888,
              "#fdca26"
             ],
             [
              1,
              "#f0f921"
             ]
            ],
            "type": "surface"
           }
          ],
          "table": [
           {
            "cells": {
             "fill": {
              "color": "#EBF0F8"
             },
             "line": {
              "color": "white"
             }
            },
            "header": {
             "fill": {
              "color": "#C8D4E3"
             },
             "line": {
              "color": "white"
             }
            },
            "type": "table"
           }
          ]
         },
         "layout": {
          "annotationdefaults": {
           "arrowcolor": "#2a3f5f",
           "arrowhead": 0,
           "arrowwidth": 1
          },
          "autotypenumbers": "strict",
          "coloraxis": {
           "colorbar": {
            "outlinewidth": 0,
            "ticks": ""
           }
          },
          "colorscale": {
           "diverging": [
            [
             0,
             "#8e0152"
            ],
            [
             0.1,
             "#c51b7d"
            ],
            [
             0.2,
             "#de77ae"
            ],
            [
             0.3,
             "#f1b6da"
            ],
            [
             0.4,
             "#fde0ef"
            ],
            [
             0.5,
             "#f7f7f7"
            ],
            [
             0.6,
             "#e6f5d0"
            ],
            [
             0.7,
             "#b8e186"
            ],
            [
             0.8,
             "#7fbc41"
            ],
            [
             0.9,
             "#4d9221"
            ],
            [
             1,
             "#276419"
            ]
           ],
           "sequential": [
            [
             0,
             "#0d0887"
            ],
            [
             0.1111111111111111,
             "#46039f"
            ],
            [
             0.2222222222222222,
             "#7201a8"
            ],
            [
             0.3333333333333333,
             "#9c179e"
            ],
            [
             0.4444444444444444,
             "#bd3786"
            ],
            [
             0.5555555555555556,
             "#d8576b"
            ],
            [
             0.6666666666666666,
             "#ed7953"
            ],
            [
             0.7777777777777778,
             "#fb9f3a"
            ],
            [
             0.8888888888888888,
             "#fdca26"
            ],
            [
             1,
             "#f0f921"
            ]
           ],
           "sequentialminus": [
            [
             0,
             "#0d0887"
            ],
            [
             0.1111111111111111,
             "#46039f"
            ],
            [
             0.2222222222222222,
             "#7201a8"
            ],
            [
             0.3333333333333333,
             "#9c179e"
            ],
            [
             0.4444444444444444,
             "#bd3786"
            ],
            [
             0.5555555555555556,
             "#d8576b"
            ],
            [
             0.6666666666666666,
             "#ed7953"
            ],
            [
             0.7777777777777778,
             "#fb9f3a"
            ],
            [
             0.8888888888888888,
             "#fdca26"
            ],
            [
             1,
             "#f0f921"
            ]
           ]
          },
          "colorway": [
           "#636efa",
           "#EF553B",
           "#00cc96",
           "#ab63fa",
           "#FFA15A",
           "#19d3f3",
           "#FF6692",
           "#B6E880",
           "#FF97FF",
           "#FECB52"
          ],
          "font": {
           "color": "#2a3f5f"
          },
          "geo": {
           "bgcolor": "white",
           "lakecolor": "white",
           "landcolor": "#E5ECF6",
           "showlakes": true,
           "showland": true,
           "subunitcolor": "white"
          },
          "hoverlabel": {
           "align": "left"
          },
          "hovermode": "closest",
          "mapbox": {
           "style": "light"
          },
          "paper_bgcolor": "white",
          "plot_bgcolor": "#E5ECF6",
          "polar": {
           "angularaxis": {
            "gridcolor": "white",
            "linecolor": "white",
            "ticks": ""
           },
           "bgcolor": "#E5ECF6",
           "radialaxis": {
            "gridcolor": "white",
            "linecolor": "white",
            "ticks": ""
           }
          },
          "scene": {
           "xaxis": {
            "backgroundcolor": "#E5ECF6",
            "gridcolor": "white",
            "gridwidth": 2,
            "linecolor": "white",
            "showbackground": true,
            "ticks": "",
            "zerolinecolor": "white"
           },
           "yaxis": {
            "backgroundcolor": "#E5ECF6",
            "gridcolor": "white",
            "gridwidth": 2,
            "linecolor": "white",
            "showbackground": true,
            "ticks": "",
            "zerolinecolor": "white"
           },
           "zaxis": {
            "backgroundcolor": "#E5ECF6",
            "gridcolor": "white",
            "gridwidth": 2,
            "linecolor": "white",
            "showbackground": true,
            "ticks": "",
            "zerolinecolor": "white"
           }
          },
          "shapedefaults": {
           "line": {
            "color": "#2a3f5f"
           }
          },
          "ternary": {
           "aaxis": {
            "gridcolor": "white",
            "linecolor": "white",
            "ticks": ""
           },
           "baxis": {
            "gridcolor": "white",
            "linecolor": "white",
            "ticks": ""
           },
           "bgcolor": "#E5ECF6",
           "caxis": {
            "gridcolor": "white",
            "linecolor": "white",
            "ticks": ""
           }
          },
          "title": {
           "x": 0.05
          },
          "xaxis": {
           "automargin": true,
           "gridcolor": "white",
           "linecolor": "white",
           "ticks": "",
           "title": {
            "standoff": 15
           },
           "zerolinecolor": "white",
           "zerolinewidth": 2
          },
          "yaxis": {
           "automargin": true,
           "gridcolor": "white",
           "linecolor": "white",
           "ticks": "",
           "title": {
            "standoff": 15
           },
           "zerolinecolor": "white",
           "zerolinewidth": 2
          }
         }
        },
        "title": {
         "text": "Net Migrant Population"
        },
        "xaxis": {
         "anchor": "y",
         "domain": [
          0,
          1
         ],
         "title": {
          "text": "index"
         }
        },
        "yaxis": {
         "anchor": "x",
         "domain": [
          0,
          1
         ],
         "title": {
          "text": "value"
         }
        }
       }
      }
     },
     "metadata": {},
     "output_type": "display_data"
    }
   ],
   "source": [
    "px.bar(df_migrants.sum()).update_layout(title=\"Net Migrant Population\")"
   ]
  },
  {
   "cell_type": "code",
   "execution_count": null,
   "id": "660f7e46",
   "metadata": {},
   "outputs": [],
   "source": [
    "df_migrants.to_csv(\"data/5_migrants_by_age_year.csv\")"
   ]
  },
  {
   "cell_type": "markdown",
   "id": "8f0713ad",
   "metadata": {},
   "source": [
    "## Conclusions\n",
    "\n",
    "The assumptions that I considered in notebook#3 seems reasonable when comparing the death probability:\n",
    "- under age of 60 I can assume that the mortality is negligible and sum an average number of migrants\n",
    "- NOTE: the mortality IS NOT nul, but it is very small when compared to the uncertainty on the migration balance\n",
    "- I will use the migration balance sum in notebook#3 to make scenarios for the future\n",
    "- over 60 I can assume that the migration balance is negligible and use just the PGR to evolve the population"
   ]
  }
 ],
 "metadata": {
  "kernelspec": {
   "display_name": "Python 3",
   "language": "python",
   "name": "python3"
  },
  "language_info": {
   "codemirror_mode": {
    "name": "ipython",
    "version": 3
   },
   "file_extension": ".py",
   "mimetype": "text/x-python",
   "name": "python",
   "nbconvert_exporter": "python",
   "pygments_lexer": "ipython3",
   "version": "3.10.14"
  },
  "vscode": {
   "interpreter": {
    "hash": "db3b0be3bb1f6db1a0432c56ec1c0f7459936b81fd9ed1b468b8c4ba9c3d8298"
   }
  }
 },
 "nbformat": 4,
 "nbformat_minor": 5
}
